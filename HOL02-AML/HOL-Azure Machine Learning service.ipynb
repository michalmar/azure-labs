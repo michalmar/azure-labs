{
 "cells": [
  {
   "cell_type": "markdown",
   "metadata": {},
   "source": [
    "Copyright (c) Microsoft Corporation. All rights reserved."
   ]
  },
  {
   "cell_type": "code",
   "execution_count": 2,
   "metadata": {},
   "outputs": [
    {
     "data": {
      "text/plain": [
       "'/mnt/batch/tasks/shared/LS_root/mounts/clusters/ntb-dev1/code/Users/mimarusa/azure-labs/HOL02-AML'"
      ]
     },
     "execution_count": 2,
     "metadata": {},
     "output_type": "execute_result"
    }
   ],
   "source": [
    "import os\n",
    "os.getcwd()"
   ]
  },
  {
   "cell_type": "markdown",
   "metadata": {},
   "source": [
    "![Impressions](https://PixelServer20190423114238.azurewebsites.net/api/impressions/MachineLearningNotebooks/tutorials/regression-part2-automated-ml.png)"
   ]
  },
  {
   "cell_type": "markdown",
   "metadata": {},
   "source": [
    "![alt text](https://www.microsoftevents.com/accounts/register123/microsoft/msft-v1/c-and-e-v2/events/ce2-ce-2c-mec0028133/Azure%20Academy%20banner_Data.png \"Logo Title Text 1\")\n",
    "\n",
    "# HOL01: Azure Machine Learning serice"
   ]
  },
  {
   "cell_type": "markdown",
   "metadata": {},
   "source": [
    "This lab guides you through Azure Machine Learning service - creation & setup, building experiment and train model (also use automated machine learning technique).\n",
    "\n",
    "In this use case you build a regression model to predict NYC taxi fare prices. \n",
    "This process accepts training data and configuration settings, and automatically iterates through combinations of different feature normalization/standardization methods, models, and hyperparameter settings to arrive at the best model.\n",
    "\n",
    "In this lab you learn the following tasks:\n",
    "\n",
    "* Create Azure Machine Learning Workspace\n",
    "* Download, transform, and clean data using Azure Open Datasets\n",
    "* Train an automated machine learning regression model\n",
    "* Calculate model accuracy\n",
    "\n",
    "If you don’t have an Azure subscription, create a free account before you begin. Try the [free or paid version](https://aka.ms/AMLFree) of Azure Machine Learning service today."
   ]
  },
  {
   "cell_type": "markdown",
   "metadata": {},
   "source": [
    "## Prerequisites"
   ]
  },
  {
   "cell_type": "markdown",
   "metadata": {},
   "source": [
    "* Existing AML Workspace - step can be found on GitHub repo for this lab [AzureAcademy-DataAnalyst-II-ML-AI-HOL01-AML.md](https://github.com/michalmar/azure-labs/blob/master/AzureAcademy-DataAnalyst-II-ML-AI-HOL01-AML.md)\n",
    "\n",
    "* check and update VM environemt\n",
    "\n",
    "`pip install --upgrade azureml-sdk[explain,automl,notebooks] azureml-opendatasets azureml-widgets \"urllib3==1.24\"`\n"
   ]
  },
  {
   "cell_type": "markdown",
   "metadata": {},
   "source": [
    "# PART 1: Download and prepare data"
   ]
  },
  {
   "cell_type": "markdown",
   "metadata": {},
   "source": [
    "We will use [Azure Open Datasets](https://docs.microsoft.com/en-us/azure/open-datasets/overview-what-are-open-datasets) - curated public datasets that you can use to add scenario-specific features to machine learning solutions for more accurate models. Open Datasets are in the cloud on Microsoft Azure and are readily available to Azure Databricks, Machine Learning service, and Machine Learning Studio. You can also access the datasets through APIs and use them in other products, such as Power BI and Azure Data Factory.\n",
    "\n",
    "\n",
    "We will use particular dataset: [NYC Taxi & Limousine Commission - green taxi trip records](https://azure.microsoft.com/en-us/services/open-datasets/catalog/nyc-taxi-limousine-commission-green-taxi-trip-records/)\n",
    "\n",
    "\n",
    "\n",
    "Import the necessary packages. The Open Datasets package contains a class representing each data source (`NycTlcGreen` for example) to easily filter date parameters before downloading."
   ]
  },
  {
   "cell_type": "code",
   "execution_count": 3,
   "metadata": {},
   "outputs": [],
   "source": [
    "from azureml.opendatasets import NycTlcGreen\n",
    "import pandas as pd\n",
    "from datetime import datetime\n",
    "from dateutil.relativedelta import relativedelta\n",
    "\n",
    "%config IPCompleter.greedy=True"
   ]
  },
  {
   "cell_type": "markdown",
   "metadata": {},
   "source": [
    "Begin by creating a dataframe to hold the taxi data. When working in a non-Spark environment, Open Datasets only allows downloading one month of data at a time with certain classes to avoid `MemoryError` with large datasets. To download taxi data, iteratively fetch one month at a time, and before appending it to `green_taxi_df` randomly sample 2,000 records from each month to avoid bloating the dataframe. Then preview the data."
   ]
  },
  {
   "cell_type": "code",
   "execution_count": null,
   "metadata": {},
   "outputs": [],
   "source": [
    "# green_taxi_df = pd.read_csv(\"./data/taxi_raw_df.csv\")\n",
    "# green_taxi_df['lpepPickupDatetime'] = green_taxi_df['lpepPickupDatetime'].astype('datetime64[ns]')\n",
    "# # green_taxi_df.head(10)"
   ]
  },
  {
   "cell_type": "code",
   "execution_count": 4,
   "metadata": {},
   "outputs": [
    {
     "name": "stdout",
     "output_type": "stream",
     "text": [
      "[Info] read from https://azureopendatastorage.blob.core.windows.net/nyctlc/green/puYear=2015/puMonth=1/part-00175-tid-4753095944193949832-fee7e113-666d-4114-9fcb-bcd3046479f3-2745-1.c000.snappy.parquet\n",
      "[Info] read from https://azureopendatastorage.blob.core.windows.net/nyctlc/green/puYear=2015/puMonth=2/part-00007-tid-4753095944193949832-fee7e113-666d-4114-9fcb-bcd3046479f3-2577-1.c000.snappy.parquet\n",
      "[Info] read from https://azureopendatastorage.blob.core.windows.net/nyctlc/green/puYear=2015/puMonth=3/part-00133-tid-4753095944193949832-fee7e113-666d-4114-9fcb-bcd3046479f3-2703-1.c000.snappy.parquet\n",
      "[Info] read from https://azureopendatastorage.blob.core.windows.net/nyctlc/green/puYear=2015/puMonth=4/part-00073-tid-4753095944193949832-fee7e113-666d-4114-9fcb-bcd3046479f3-2643-1.c000.snappy.parquet\n",
      "[Info] read from https://azureopendatastorage.blob.core.windows.net/nyctlc/green/puYear=2015/puMonth=5/part-00177-tid-4753095944193949832-fee7e113-666d-4114-9fcb-bcd3046479f3-2747-1.c000.snappy.parquet\n",
      "[Info] read from https://azureopendatastorage.blob.core.windows.net/nyctlc/green/puYear=2015/puMonth=6/part-00156-tid-4753095944193949832-fee7e113-666d-4114-9fcb-bcd3046479f3-2726-2.c000.snappy.parquet\n",
      "[Info] read from https://azureopendatastorage.blob.core.windows.net/nyctlc/green/puYear=2015/puMonth=7/part-00147-tid-4753095944193949832-fee7e113-666d-4114-9fcb-bcd3046479f3-2717-1.c000.snappy.parquet\n",
      "[Info] read from https://azureopendatastorage.blob.core.windows.net/nyctlc/green/puYear=2015/puMonth=8/part-00074-tid-4753095944193949832-fee7e113-666d-4114-9fcb-bcd3046479f3-2644-1.c000.snappy.parquet\n",
      "[Info] read from https://azureopendatastorage.blob.core.windows.net/nyctlc/green/puYear=2015/puMonth=9/part-00092-tid-4753095944193949832-fee7e113-666d-4114-9fcb-bcd3046479f3-2662-1.c000.snappy.parquet\n",
      "[Info] read from https://azureopendatastorage.blob.core.windows.net/nyctlc/green/puYear=2015/puMonth=10/part-00105-tid-4753095944193949832-fee7e113-666d-4114-9fcb-bcd3046479f3-2675-1.c000.snappy.parquet\n",
      "[Info] read from https://azureopendatastorage.blob.core.windows.net/nyctlc/green/puYear=2015/puMonth=11/part-00089-tid-4753095944193949832-fee7e113-666d-4114-9fcb-bcd3046479f3-2659-1.c000.snappy.parquet\n",
      "[Info] read from https://azureopendatastorage.blob.core.windows.net/nyctlc/green/puYear=2015/puMonth=12/part-00020-tid-4753095944193949832-fee7e113-666d-4114-9fcb-bcd3046479f3-2590-1.c000.snappy.parquet\n"
     ]
    },
    {
     "data": {
      "text/html": [
       "<div>\n",
       "<style scoped>\n",
       "    .dataframe tbody tr th:only-of-type {\n",
       "        vertical-align: middle;\n",
       "    }\n",
       "\n",
       "    .dataframe tbody tr th {\n",
       "        vertical-align: top;\n",
       "    }\n",
       "\n",
       "    .dataframe thead th {\n",
       "        text-align: right;\n",
       "    }\n",
       "</style>\n",
       "<table border=\"1\" class=\"dataframe\">\n",
       "  <thead>\n",
       "    <tr style=\"text-align: right;\">\n",
       "      <th></th>\n",
       "      <th>vendorID</th>\n",
       "      <th>lpepPickupDatetime</th>\n",
       "      <th>lpepDropoffDatetime</th>\n",
       "      <th>passengerCount</th>\n",
       "      <th>tripDistance</th>\n",
       "      <th>puLocationId</th>\n",
       "      <th>doLocationId</th>\n",
       "      <th>pickupLongitude</th>\n",
       "      <th>pickupLatitude</th>\n",
       "      <th>dropoffLongitude</th>\n",
       "      <th>...</th>\n",
       "      <th>paymentType</th>\n",
       "      <th>fareAmount</th>\n",
       "      <th>extra</th>\n",
       "      <th>mtaTax</th>\n",
       "      <th>improvementSurcharge</th>\n",
       "      <th>tipAmount</th>\n",
       "      <th>tollsAmount</th>\n",
       "      <th>ehailFee</th>\n",
       "      <th>totalAmount</th>\n",
       "      <th>tripType</th>\n",
       "    </tr>\n",
       "  </thead>\n",
       "  <tbody>\n",
       "    <tr>\n",
       "      <th>1012676</th>\n",
       "      <td>1</td>\n",
       "      <td>2015-01-25 16:41:33</td>\n",
       "      <td>2015-01-25 16:57:06</td>\n",
       "      <td>1</td>\n",
       "      <td>3.70</td>\n",
       "      <td>None</td>\n",
       "      <td>None</td>\n",
       "      <td>-73.976936</td>\n",
       "      <td>40.689709</td>\n",
       "      <td>-73.982780</td>\n",
       "      <td>...</td>\n",
       "      <td>2</td>\n",
       "      <td>14.5</td>\n",
       "      <td>0.0</td>\n",
       "      <td>0.5</td>\n",
       "      <td>0.3</td>\n",
       "      <td>0.00</td>\n",
       "      <td>0.0</td>\n",
       "      <td>NaN</td>\n",
       "      <td>15.30</td>\n",
       "      <td>1.0</td>\n",
       "    </tr>\n",
       "    <tr>\n",
       "      <th>659884</th>\n",
       "      <td>1</td>\n",
       "      <td>2015-01-09 21:12:50</td>\n",
       "      <td>2015-01-09 21:18:46</td>\n",
       "      <td>1</td>\n",
       "      <td>0.90</td>\n",
       "      <td>None</td>\n",
       "      <td>None</td>\n",
       "      <td>-73.963928</td>\n",
       "      <td>40.682961</td>\n",
       "      <td>-73.973328</td>\n",
       "      <td>...</td>\n",
       "      <td>1</td>\n",
       "      <td>6.0</td>\n",
       "      <td>0.5</td>\n",
       "      <td>0.5</td>\n",
       "      <td>0.3</td>\n",
       "      <td>1.45</td>\n",
       "      <td>0.0</td>\n",
       "      <td>NaN</td>\n",
       "      <td>8.75</td>\n",
       "      <td>1.0</td>\n",
       "    </tr>\n",
       "    <tr>\n",
       "      <th>85852</th>\n",
       "      <td>2</td>\n",
       "      <td>2015-01-10 19:02:46</td>\n",
       "      <td>2015-01-10 19:19:24</td>\n",
       "      <td>6</td>\n",
       "      <td>3.82</td>\n",
       "      <td>None</td>\n",
       "      <td>None</td>\n",
       "      <td>-73.925110</td>\n",
       "      <td>40.761745</td>\n",
       "      <td>-73.973686</td>\n",
       "      <td>...</td>\n",
       "      <td>1</td>\n",
       "      <td>15.0</td>\n",
       "      <td>0.0</td>\n",
       "      <td>0.5</td>\n",
       "      <td>0.3</td>\n",
       "      <td>3.75</td>\n",
       "      <td>0.0</td>\n",
       "      <td>NaN</td>\n",
       "      <td>19.55</td>\n",
       "      <td>1.0</td>\n",
       "    </tr>\n",
       "    <tr>\n",
       "      <th>997760</th>\n",
       "      <td>2</td>\n",
       "      <td>2015-01-25 10:38:27</td>\n",
       "      <td>2015-01-25 10:44:43</td>\n",
       "      <td>1</td>\n",
       "      <td>1.30</td>\n",
       "      <td>None</td>\n",
       "      <td>None</td>\n",
       "      <td>-73.844109</td>\n",
       "      <td>40.721706</td>\n",
       "      <td>-73.851509</td>\n",
       "      <td>...</td>\n",
       "      <td>2</td>\n",
       "      <td>6.5</td>\n",
       "      <td>0.0</td>\n",
       "      <td>0.5</td>\n",
       "      <td>0.3</td>\n",
       "      <td>0.00</td>\n",
       "      <td>0.0</td>\n",
       "      <td>NaN</td>\n",
       "      <td>7.30</td>\n",
       "      <td>1.0</td>\n",
       "    </tr>\n",
       "    <tr>\n",
       "      <th>122268</th>\n",
       "      <td>1</td>\n",
       "      <td>2015-01-12 12:35:02</td>\n",
       "      <td>2015-01-12 12:39:24</td>\n",
       "      <td>1</td>\n",
       "      <td>0.70</td>\n",
       "      <td>None</td>\n",
       "      <td>None</td>\n",
       "      <td>-73.918846</td>\n",
       "      <td>40.759098</td>\n",
       "      <td>-73.909592</td>\n",
       "      <td>...</td>\n",
       "      <td>2</td>\n",
       "      <td>5.0</td>\n",
       "      <td>0.0</td>\n",
       "      <td>0.5</td>\n",
       "      <td>0.3</td>\n",
       "      <td>0.00</td>\n",
       "      <td>0.0</td>\n",
       "      <td>NaN</td>\n",
       "      <td>5.80</td>\n",
       "      <td>1.0</td>\n",
       "    </tr>\n",
       "    <tr>\n",
       "      <th>593101</th>\n",
       "      <td>2</td>\n",
       "      <td>2015-01-28 10:54:02</td>\n",
       "      <td>2015-01-28 11:07:20</td>\n",
       "      <td>5</td>\n",
       "      <td>2.12</td>\n",
       "      <td>None</td>\n",
       "      <td>None</td>\n",
       "      <td>-73.966270</td>\n",
       "      <td>40.686638</td>\n",
       "      <td>-73.987167</td>\n",
       "      <td>...</td>\n",
       "      <td>2</td>\n",
       "      <td>10.5</td>\n",
       "      <td>0.0</td>\n",
       "      <td>0.5</td>\n",
       "      <td>0.3</td>\n",
       "      <td>0.00</td>\n",
       "      <td>0.0</td>\n",
       "      <td>NaN</td>\n",
       "      <td>11.30</td>\n",
       "      <td>1.0</td>\n",
       "    </tr>\n",
       "    <tr>\n",
       "      <th>426530</th>\n",
       "      <td>2</td>\n",
       "      <td>2015-01-20 07:36:00</td>\n",
       "      <td>2015-01-20 07:59:39</td>\n",
       "      <td>1</td>\n",
       "      <td>5.58</td>\n",
       "      <td>None</td>\n",
       "      <td>None</td>\n",
       "      <td>-73.956184</td>\n",
       "      <td>40.818726</td>\n",
       "      <td>-73.972588</td>\n",
       "      <td>...</td>\n",
       "      <td>2</td>\n",
       "      <td>21.5</td>\n",
       "      <td>0.0</td>\n",
       "      <td>0.5</td>\n",
       "      <td>0.3</td>\n",
       "      <td>0.00</td>\n",
       "      <td>0.0</td>\n",
       "      <td>NaN</td>\n",
       "      <td>22.30</td>\n",
       "      <td>1.0</td>\n",
       "    </tr>\n",
       "    <tr>\n",
       "      <th>996012</th>\n",
       "      <td>2</td>\n",
       "      <td>2015-01-25 06:24:08</td>\n",
       "      <td>2015-01-25 06:24:10</td>\n",
       "      <td>1</td>\n",
       "      <td>0.00</td>\n",
       "      <td>None</td>\n",
       "      <td>None</td>\n",
       "      <td>-73.901367</td>\n",
       "      <td>40.858948</td>\n",
       "      <td>-73.901398</td>\n",
       "      <td>...</td>\n",
       "      <td>1</td>\n",
       "      <td>12.0</td>\n",
       "      <td>0.0</td>\n",
       "      <td>0.0</td>\n",
       "      <td>0</td>\n",
       "      <td>0.00</td>\n",
       "      <td>0.0</td>\n",
       "      <td>NaN</td>\n",
       "      <td>12.00</td>\n",
       "      <td>2.0</td>\n",
       "    </tr>\n",
       "    <tr>\n",
       "      <th>29989</th>\n",
       "      <td>2</td>\n",
       "      <td>2015-01-06 15:56:58</td>\n",
       "      <td>2015-01-06 16:17:52</td>\n",
       "      <td>1</td>\n",
       "      <td>4.48</td>\n",
       "      <td>None</td>\n",
       "      <td>None</td>\n",
       "      <td>-73.844353</td>\n",
       "      <td>40.721359</td>\n",
       "      <td>-73.800446</td>\n",
       "      <td>...</td>\n",
       "      <td>1</td>\n",
       "      <td>17.0</td>\n",
       "      <td>0.0</td>\n",
       "      <td>0.5</td>\n",
       "      <td>0.3</td>\n",
       "      <td>2.00</td>\n",
       "      <td>0.0</td>\n",
       "      <td>NaN</td>\n",
       "      <td>19.80</td>\n",
       "      <td>1.0</td>\n",
       "    </tr>\n",
       "    <tr>\n",
       "      <th>890835</th>\n",
       "      <td>2</td>\n",
       "      <td>2015-01-05 22:34:49</td>\n",
       "      <td>2015-01-05 22:44:19</td>\n",
       "      <td>1</td>\n",
       "      <td>2.47</td>\n",
       "      <td>None</td>\n",
       "      <td>None</td>\n",
       "      <td>-73.980888</td>\n",
       "      <td>40.688610</td>\n",
       "      <td>-73.940468</td>\n",
       "      <td>...</td>\n",
       "      <td>1</td>\n",
       "      <td>10.0</td>\n",
       "      <td>0.5</td>\n",
       "      <td>0.5</td>\n",
       "      <td>0.3</td>\n",
       "      <td>1.00</td>\n",
       "      <td>0.0</td>\n",
       "      <td>NaN</td>\n",
       "      <td>12.30</td>\n",
       "      <td>1.0</td>\n",
       "    </tr>\n",
       "  </tbody>\n",
       "</table>\n",
       "<p>10 rows × 23 columns</p>\n",
       "</div>"
      ],
      "text/plain": [
       "         vendorID  lpepPickupDatetime lpepDropoffDatetime  passengerCount  \\\n",
       "1012676         1 2015-01-25 16:41:33 2015-01-25 16:57:06               1   \n",
       "659884          1 2015-01-09 21:12:50 2015-01-09 21:18:46               1   \n",
       "85852           2 2015-01-10 19:02:46 2015-01-10 19:19:24               6   \n",
       "997760          2 2015-01-25 10:38:27 2015-01-25 10:44:43               1   \n",
       "122268          1 2015-01-12 12:35:02 2015-01-12 12:39:24               1   \n",
       "593101          2 2015-01-28 10:54:02 2015-01-28 11:07:20               5   \n",
       "426530          2 2015-01-20 07:36:00 2015-01-20 07:59:39               1   \n",
       "996012          2 2015-01-25 06:24:08 2015-01-25 06:24:10               1   \n",
       "29989           2 2015-01-06 15:56:58 2015-01-06 16:17:52               1   \n",
       "890835          2 2015-01-05 22:34:49 2015-01-05 22:44:19               1   \n",
       "\n",
       "         tripDistance puLocationId doLocationId  pickupLongitude  \\\n",
       "1012676          3.70         None         None       -73.976936   \n",
       "659884           0.90         None         None       -73.963928   \n",
       "85852            3.82         None         None       -73.925110   \n",
       "997760           1.30         None         None       -73.844109   \n",
       "122268           0.70         None         None       -73.918846   \n",
       "593101           2.12         None         None       -73.966270   \n",
       "426530           5.58         None         None       -73.956184   \n",
       "996012           0.00         None         None       -73.901367   \n",
       "29989            4.48         None         None       -73.844353   \n",
       "890835           2.47         None         None       -73.980888   \n",
       "\n",
       "         pickupLatitude  dropoffLongitude    ...     paymentType  fareAmount  \\\n",
       "1012676       40.689709        -73.982780    ...               2        14.5   \n",
       "659884        40.682961        -73.973328    ...               1         6.0   \n",
       "85852         40.761745        -73.973686    ...               1        15.0   \n",
       "997760        40.721706        -73.851509    ...               2         6.5   \n",
       "122268        40.759098        -73.909592    ...               2         5.0   \n",
       "593101        40.686638        -73.987167    ...               2        10.5   \n",
       "426530        40.818726        -73.972588    ...               2        21.5   \n",
       "996012        40.858948        -73.901398    ...               1        12.0   \n",
       "29989         40.721359        -73.800446    ...               1        17.0   \n",
       "890835        40.688610        -73.940468    ...               1        10.0   \n",
       "\n",
       "        extra  mtaTax  improvementSurcharge  tipAmount  tollsAmount ehailFee  \\\n",
       "1012676   0.0     0.5                   0.3       0.00          0.0      NaN   \n",
       "659884    0.5     0.5                   0.3       1.45          0.0      NaN   \n",
       "85852     0.0     0.5                   0.3       3.75          0.0      NaN   \n",
       "997760    0.0     0.5                   0.3       0.00          0.0      NaN   \n",
       "122268    0.0     0.5                   0.3       0.00          0.0      NaN   \n",
       "593101    0.0     0.5                   0.3       0.00          0.0      NaN   \n",
       "426530    0.0     0.5                   0.3       0.00          0.0      NaN   \n",
       "996012    0.0     0.0                     0       0.00          0.0      NaN   \n",
       "29989     0.0     0.5                   0.3       2.00          0.0      NaN   \n",
       "890835    0.5     0.5                   0.3       1.00          0.0      NaN   \n",
       "\n",
       "         totalAmount  tripType  \n",
       "1012676        15.30       1.0  \n",
       "659884          8.75       1.0  \n",
       "85852          19.55       1.0  \n",
       "997760          7.30       1.0  \n",
       "122268          5.80       1.0  \n",
       "593101         11.30       1.0  \n",
       "426530         22.30       1.0  \n",
       "996012         12.00       2.0  \n",
       "29989          19.80       1.0  \n",
       "890835         12.30       1.0  \n",
       "\n",
       "[10 rows x 23 columns]"
      ]
     },
     "execution_count": 4,
     "metadata": {},
     "output_type": "execute_result"
    }
   ],
   "source": [
    "green_taxi_df = pd.DataFrame([])\n",
    "start = datetime.strptime(\"1/1/2015\",\"%m/%d/%Y\")\n",
    "end = datetime.strptime(\"1/31/2015\",\"%m/%d/%Y\")\n",
    "\n",
    "for sample_month in range(12):\n",
    "    temp_df_green = NycTlcGreen(start + relativedelta(months=sample_month), end + relativedelta(months=sample_month)) \\\n",
    "        .to_pandas_dataframe()\n",
    "    green_taxi_df = green_taxi_df.append(temp_df_green.sample(2000))\n",
    "    \n",
    "green_taxi_df.head(10)"
   ]
  },
  {
   "cell_type": "code",
   "execution_count": 7,
   "metadata": {},
   "outputs": [],
   "source": [
    "green_taxi_df.to_csv(\"./data/taxi_raw_df.csv\", index=False)"
   ]
  },
  {
   "cell_type": "markdown",
   "metadata": {},
   "source": [
    "Now that the initial data is loaded, define a function to create various time-based features from the pickup datetime field. This will create new fields for the month number, day of month, day of week, and hour of day, and will allow the model to factor in time-based seasonality. \n",
    "\n",
    "Use the `apply()` function on the dataframe to iteratively apply the `build_time_features()` function to each row in the taxi data."
   ]
  },
  {
   "cell_type": "code",
   "execution_count": 8,
   "metadata": {},
   "outputs": [
    {
     "data": {
      "text/html": [
       "<div>\n",
       "<style scoped>\n",
       "    .dataframe tbody tr th:only-of-type {\n",
       "        vertical-align: middle;\n",
       "    }\n",
       "\n",
       "    .dataframe tbody tr th {\n",
       "        vertical-align: top;\n",
       "    }\n",
       "\n",
       "    .dataframe thead th {\n",
       "        text-align: right;\n",
       "    }\n",
       "</style>\n",
       "<table border=\"1\" class=\"dataframe\">\n",
       "  <thead>\n",
       "    <tr style=\"text-align: right;\">\n",
       "      <th></th>\n",
       "      <th>vendorID</th>\n",
       "      <th>lpepPickupDatetime</th>\n",
       "      <th>lpepDropoffDatetime</th>\n",
       "      <th>passengerCount</th>\n",
       "      <th>tripDistance</th>\n",
       "      <th>puLocationId</th>\n",
       "      <th>doLocationId</th>\n",
       "      <th>pickupLongitude</th>\n",
       "      <th>pickupLatitude</th>\n",
       "      <th>dropoffLongitude</th>\n",
       "      <th>...</th>\n",
       "      <th>improvementSurcharge</th>\n",
       "      <th>tipAmount</th>\n",
       "      <th>tollsAmount</th>\n",
       "      <th>ehailFee</th>\n",
       "      <th>totalAmount</th>\n",
       "      <th>tripType</th>\n",
       "      <th>month_num</th>\n",
       "      <th>day_of_month</th>\n",
       "      <th>day_of_week</th>\n",
       "      <th>hour_of_day</th>\n",
       "    </tr>\n",
       "  </thead>\n",
       "  <tbody>\n",
       "    <tr>\n",
       "      <th>1012676</th>\n",
       "      <td>1</td>\n",
       "      <td>2015-01-25 16:41:33</td>\n",
       "      <td>2015-01-25 16:57:06</td>\n",
       "      <td>1</td>\n",
       "      <td>3.70</td>\n",
       "      <td>None</td>\n",
       "      <td>None</td>\n",
       "      <td>-73.976936</td>\n",
       "      <td>40.689709</td>\n",
       "      <td>-73.982780</td>\n",
       "      <td>...</td>\n",
       "      <td>0.3</td>\n",
       "      <td>0.00</td>\n",
       "      <td>0.0</td>\n",
       "      <td>NaN</td>\n",
       "      <td>15.30</td>\n",
       "      <td>1.0</td>\n",
       "      <td>1</td>\n",
       "      <td>25</td>\n",
       "      <td>6</td>\n",
       "      <td>16</td>\n",
       "    </tr>\n",
       "    <tr>\n",
       "      <th>659884</th>\n",
       "      <td>1</td>\n",
       "      <td>2015-01-09 21:12:50</td>\n",
       "      <td>2015-01-09 21:18:46</td>\n",
       "      <td>1</td>\n",
       "      <td>0.90</td>\n",
       "      <td>None</td>\n",
       "      <td>None</td>\n",
       "      <td>-73.963928</td>\n",
       "      <td>40.682961</td>\n",
       "      <td>-73.973328</td>\n",
       "      <td>...</td>\n",
       "      <td>0.3</td>\n",
       "      <td>1.45</td>\n",
       "      <td>0.0</td>\n",
       "      <td>NaN</td>\n",
       "      <td>8.75</td>\n",
       "      <td>1.0</td>\n",
       "      <td>1</td>\n",
       "      <td>9</td>\n",
       "      <td>4</td>\n",
       "      <td>21</td>\n",
       "    </tr>\n",
       "    <tr>\n",
       "      <th>85852</th>\n",
       "      <td>2</td>\n",
       "      <td>2015-01-10 19:02:46</td>\n",
       "      <td>2015-01-10 19:19:24</td>\n",
       "      <td>6</td>\n",
       "      <td>3.82</td>\n",
       "      <td>None</td>\n",
       "      <td>None</td>\n",
       "      <td>-73.925110</td>\n",
       "      <td>40.761745</td>\n",
       "      <td>-73.973686</td>\n",
       "      <td>...</td>\n",
       "      <td>0.3</td>\n",
       "      <td>3.75</td>\n",
       "      <td>0.0</td>\n",
       "      <td>NaN</td>\n",
       "      <td>19.55</td>\n",
       "      <td>1.0</td>\n",
       "      <td>1</td>\n",
       "      <td>10</td>\n",
       "      <td>5</td>\n",
       "      <td>19</td>\n",
       "    </tr>\n",
       "    <tr>\n",
       "      <th>997760</th>\n",
       "      <td>2</td>\n",
       "      <td>2015-01-25 10:38:27</td>\n",
       "      <td>2015-01-25 10:44:43</td>\n",
       "      <td>1</td>\n",
       "      <td>1.30</td>\n",
       "      <td>None</td>\n",
       "      <td>None</td>\n",
       "      <td>-73.844109</td>\n",
       "      <td>40.721706</td>\n",
       "      <td>-73.851509</td>\n",
       "      <td>...</td>\n",
       "      <td>0.3</td>\n",
       "      <td>0.00</td>\n",
       "      <td>0.0</td>\n",
       "      <td>NaN</td>\n",
       "      <td>7.30</td>\n",
       "      <td>1.0</td>\n",
       "      <td>1</td>\n",
       "      <td>25</td>\n",
       "      <td>6</td>\n",
       "      <td>10</td>\n",
       "    </tr>\n",
       "    <tr>\n",
       "      <th>122268</th>\n",
       "      <td>1</td>\n",
       "      <td>2015-01-12 12:35:02</td>\n",
       "      <td>2015-01-12 12:39:24</td>\n",
       "      <td>1</td>\n",
       "      <td>0.70</td>\n",
       "      <td>None</td>\n",
       "      <td>None</td>\n",
       "      <td>-73.918846</td>\n",
       "      <td>40.759098</td>\n",
       "      <td>-73.909592</td>\n",
       "      <td>...</td>\n",
       "      <td>0.3</td>\n",
       "      <td>0.00</td>\n",
       "      <td>0.0</td>\n",
       "      <td>NaN</td>\n",
       "      <td>5.80</td>\n",
       "      <td>1.0</td>\n",
       "      <td>1</td>\n",
       "      <td>12</td>\n",
       "      <td>0</td>\n",
       "      <td>12</td>\n",
       "    </tr>\n",
       "    <tr>\n",
       "      <th>593101</th>\n",
       "      <td>2</td>\n",
       "      <td>2015-01-28 10:54:02</td>\n",
       "      <td>2015-01-28 11:07:20</td>\n",
       "      <td>5</td>\n",
       "      <td>2.12</td>\n",
       "      <td>None</td>\n",
       "      <td>None</td>\n",
       "      <td>-73.966270</td>\n",
       "      <td>40.686638</td>\n",
       "      <td>-73.987167</td>\n",
       "      <td>...</td>\n",
       "      <td>0.3</td>\n",
       "      <td>0.00</td>\n",
       "      <td>0.0</td>\n",
       "      <td>NaN</td>\n",
       "      <td>11.30</td>\n",
       "      <td>1.0</td>\n",
       "      <td>1</td>\n",
       "      <td>28</td>\n",
       "      <td>2</td>\n",
       "      <td>10</td>\n",
       "    </tr>\n",
       "    <tr>\n",
       "      <th>426530</th>\n",
       "      <td>2</td>\n",
       "      <td>2015-01-20 07:36:00</td>\n",
       "      <td>2015-01-20 07:59:39</td>\n",
       "      <td>1</td>\n",
       "      <td>5.58</td>\n",
       "      <td>None</td>\n",
       "      <td>None</td>\n",
       "      <td>-73.956184</td>\n",
       "      <td>40.818726</td>\n",
       "      <td>-73.972588</td>\n",
       "      <td>...</td>\n",
       "      <td>0.3</td>\n",
       "      <td>0.00</td>\n",
       "      <td>0.0</td>\n",
       "      <td>NaN</td>\n",
       "      <td>22.30</td>\n",
       "      <td>1.0</td>\n",
       "      <td>1</td>\n",
       "      <td>20</td>\n",
       "      <td>1</td>\n",
       "      <td>7</td>\n",
       "    </tr>\n",
       "    <tr>\n",
       "      <th>996012</th>\n",
       "      <td>2</td>\n",
       "      <td>2015-01-25 06:24:08</td>\n",
       "      <td>2015-01-25 06:24:10</td>\n",
       "      <td>1</td>\n",
       "      <td>0.00</td>\n",
       "      <td>None</td>\n",
       "      <td>None</td>\n",
       "      <td>-73.901367</td>\n",
       "      <td>40.858948</td>\n",
       "      <td>-73.901398</td>\n",
       "      <td>...</td>\n",
       "      <td>0</td>\n",
       "      <td>0.00</td>\n",
       "      <td>0.0</td>\n",
       "      <td>NaN</td>\n",
       "      <td>12.00</td>\n",
       "      <td>2.0</td>\n",
       "      <td>1</td>\n",
       "      <td>25</td>\n",
       "      <td>6</td>\n",
       "      <td>6</td>\n",
       "    </tr>\n",
       "    <tr>\n",
       "      <th>29989</th>\n",
       "      <td>2</td>\n",
       "      <td>2015-01-06 15:56:58</td>\n",
       "      <td>2015-01-06 16:17:52</td>\n",
       "      <td>1</td>\n",
       "      <td>4.48</td>\n",
       "      <td>None</td>\n",
       "      <td>None</td>\n",
       "      <td>-73.844353</td>\n",
       "      <td>40.721359</td>\n",
       "      <td>-73.800446</td>\n",
       "      <td>...</td>\n",
       "      <td>0.3</td>\n",
       "      <td>2.00</td>\n",
       "      <td>0.0</td>\n",
       "      <td>NaN</td>\n",
       "      <td>19.80</td>\n",
       "      <td>1.0</td>\n",
       "      <td>1</td>\n",
       "      <td>6</td>\n",
       "      <td>1</td>\n",
       "      <td>15</td>\n",
       "    </tr>\n",
       "    <tr>\n",
       "      <th>890835</th>\n",
       "      <td>2</td>\n",
       "      <td>2015-01-05 22:34:49</td>\n",
       "      <td>2015-01-05 22:44:19</td>\n",
       "      <td>1</td>\n",
       "      <td>2.47</td>\n",
       "      <td>None</td>\n",
       "      <td>None</td>\n",
       "      <td>-73.980888</td>\n",
       "      <td>40.688610</td>\n",
       "      <td>-73.940468</td>\n",
       "      <td>...</td>\n",
       "      <td>0.3</td>\n",
       "      <td>1.00</td>\n",
       "      <td>0.0</td>\n",
       "      <td>NaN</td>\n",
       "      <td>12.30</td>\n",
       "      <td>1.0</td>\n",
       "      <td>1</td>\n",
       "      <td>5</td>\n",
       "      <td>0</td>\n",
       "      <td>22</td>\n",
       "    </tr>\n",
       "  </tbody>\n",
       "</table>\n",
       "<p>10 rows × 27 columns</p>\n",
       "</div>"
      ],
      "text/plain": [
       "         vendorID  lpepPickupDatetime lpepDropoffDatetime  passengerCount  \\\n",
       "1012676         1 2015-01-25 16:41:33 2015-01-25 16:57:06               1   \n",
       "659884          1 2015-01-09 21:12:50 2015-01-09 21:18:46               1   \n",
       "85852           2 2015-01-10 19:02:46 2015-01-10 19:19:24               6   \n",
       "997760          2 2015-01-25 10:38:27 2015-01-25 10:44:43               1   \n",
       "122268          1 2015-01-12 12:35:02 2015-01-12 12:39:24               1   \n",
       "593101          2 2015-01-28 10:54:02 2015-01-28 11:07:20               5   \n",
       "426530          2 2015-01-20 07:36:00 2015-01-20 07:59:39               1   \n",
       "996012          2 2015-01-25 06:24:08 2015-01-25 06:24:10               1   \n",
       "29989           2 2015-01-06 15:56:58 2015-01-06 16:17:52               1   \n",
       "890835          2 2015-01-05 22:34:49 2015-01-05 22:44:19               1   \n",
       "\n",
       "         tripDistance puLocationId doLocationId  pickupLongitude  \\\n",
       "1012676          3.70         None         None       -73.976936   \n",
       "659884           0.90         None         None       -73.963928   \n",
       "85852            3.82         None         None       -73.925110   \n",
       "997760           1.30         None         None       -73.844109   \n",
       "122268           0.70         None         None       -73.918846   \n",
       "593101           2.12         None         None       -73.966270   \n",
       "426530           5.58         None         None       -73.956184   \n",
       "996012           0.00         None         None       -73.901367   \n",
       "29989            4.48         None         None       -73.844353   \n",
       "890835           2.47         None         None       -73.980888   \n",
       "\n",
       "         pickupLatitude  dropoffLongitude     ...       improvementSurcharge  \\\n",
       "1012676       40.689709        -73.982780     ...                        0.3   \n",
       "659884        40.682961        -73.973328     ...                        0.3   \n",
       "85852         40.761745        -73.973686     ...                        0.3   \n",
       "997760        40.721706        -73.851509     ...                        0.3   \n",
       "122268        40.759098        -73.909592     ...                        0.3   \n",
       "593101        40.686638        -73.987167     ...                        0.3   \n",
       "426530        40.818726        -73.972588     ...                        0.3   \n",
       "996012        40.858948        -73.901398     ...                          0   \n",
       "29989         40.721359        -73.800446     ...                        0.3   \n",
       "890835        40.688610        -73.940468     ...                        0.3   \n",
       "\n",
       "         tipAmount tollsAmount  ehailFee  totalAmount  tripType  month_num  \\\n",
       "1012676       0.00         0.0       NaN        15.30       1.0          1   \n",
       "659884        1.45         0.0       NaN         8.75       1.0          1   \n",
       "85852         3.75         0.0       NaN        19.55       1.0          1   \n",
       "997760        0.00         0.0       NaN         7.30       1.0          1   \n",
       "122268        0.00         0.0       NaN         5.80       1.0          1   \n",
       "593101        0.00         0.0       NaN        11.30       1.0          1   \n",
       "426530        0.00         0.0       NaN        22.30       1.0          1   \n",
       "996012        0.00         0.0       NaN        12.00       2.0          1   \n",
       "29989         2.00         0.0       NaN        19.80       1.0          1   \n",
       "890835        1.00         0.0       NaN        12.30       1.0          1   \n",
       "\n",
       "        day_of_month  day_of_week  hour_of_day  \n",
       "1012676           25            6           16  \n",
       "659884             9            4           21  \n",
       "85852             10            5           19  \n",
       "997760            25            6           10  \n",
       "122268            12            0           12  \n",
       "593101            28            2           10  \n",
       "426530            20            1            7  \n",
       "996012            25            6            6  \n",
       "29989              6            1           15  \n",
       "890835             5            0           22  \n",
       "\n",
       "[10 rows x 27 columns]"
      ]
     },
     "execution_count": 8,
     "metadata": {},
     "output_type": "execute_result"
    }
   ],
   "source": [
    "def build_time_features(vector):\n",
    "    pickup_datetime = vector[0]\n",
    "    month_num = pickup_datetime.month\n",
    "    day_of_month = pickup_datetime.day\n",
    "    day_of_week = pickup_datetime.weekday()\n",
    "    hour_of_day = pickup_datetime.hour\n",
    "    \n",
    "    return pd.Series((month_num, day_of_month, day_of_week, hour_of_day))\n",
    "\n",
    "green_taxi_df[[\"month_num\", \"day_of_month\",\"day_of_week\", \"hour_of_day\"]] = green_taxi_df[[\"lpepPickupDatetime\"]].apply(build_time_features, axis=1)\n",
    "green_taxi_df.head(10)"
   ]
  },
  {
   "cell_type": "markdown",
   "metadata": {},
   "source": [
    "Remove some of the columns that you won't need for training or additional feature building."
   ]
  },
  {
   "cell_type": "code",
   "execution_count": 9,
   "metadata": {},
   "outputs": [
    {
     "data": {
      "text/html": [
       "<div>\n",
       "<style scoped>\n",
       "    .dataframe tbody tr th:only-of-type {\n",
       "        vertical-align: middle;\n",
       "    }\n",
       "\n",
       "    .dataframe tbody tr th {\n",
       "        vertical-align: top;\n",
       "    }\n",
       "\n",
       "    .dataframe thead th {\n",
       "        text-align: right;\n",
       "    }\n",
       "</style>\n",
       "<table border=\"1\" class=\"dataframe\">\n",
       "  <thead>\n",
       "    <tr style=\"text-align: right;\">\n",
       "      <th></th>\n",
       "      <th>vendorID</th>\n",
       "      <th>passengerCount</th>\n",
       "      <th>tripDistance</th>\n",
       "      <th>pickupLongitude</th>\n",
       "      <th>pickupLatitude</th>\n",
       "      <th>dropoffLongitude</th>\n",
       "      <th>dropoffLatitude</th>\n",
       "      <th>totalAmount</th>\n",
       "      <th>month_num</th>\n",
       "      <th>day_of_month</th>\n",
       "      <th>day_of_week</th>\n",
       "      <th>hour_of_day</th>\n",
       "    </tr>\n",
       "  </thead>\n",
       "  <tbody>\n",
       "    <tr>\n",
       "      <th>1012676</th>\n",
       "      <td>1</td>\n",
       "      <td>1</td>\n",
       "      <td>3.70</td>\n",
       "      <td>-73.976936</td>\n",
       "      <td>40.689709</td>\n",
       "      <td>-73.982780</td>\n",
       "      <td>40.733940</td>\n",
       "      <td>15.30</td>\n",
       "      <td>1</td>\n",
       "      <td>25</td>\n",
       "      <td>6</td>\n",
       "      <td>16</td>\n",
       "    </tr>\n",
       "    <tr>\n",
       "      <th>659884</th>\n",
       "      <td>1</td>\n",
       "      <td>1</td>\n",
       "      <td>0.90</td>\n",
       "      <td>-73.963928</td>\n",
       "      <td>40.682961</td>\n",
       "      <td>-73.973328</td>\n",
       "      <td>40.678654</td>\n",
       "      <td>8.75</td>\n",
       "      <td>1</td>\n",
       "      <td>9</td>\n",
       "      <td>4</td>\n",
       "      <td>21</td>\n",
       "    </tr>\n",
       "    <tr>\n",
       "      <th>85852</th>\n",
       "      <td>2</td>\n",
       "      <td>6</td>\n",
       "      <td>3.82</td>\n",
       "      <td>-73.925110</td>\n",
       "      <td>40.761745</td>\n",
       "      <td>-73.973686</td>\n",
       "      <td>40.747566</td>\n",
       "      <td>19.55</td>\n",
       "      <td>1</td>\n",
       "      <td>10</td>\n",
       "      <td>5</td>\n",
       "      <td>19</td>\n",
       "    </tr>\n",
       "    <tr>\n",
       "      <th>997760</th>\n",
       "      <td>2</td>\n",
       "      <td>1</td>\n",
       "      <td>1.30</td>\n",
       "      <td>-73.844109</td>\n",
       "      <td>40.721706</td>\n",
       "      <td>-73.851509</td>\n",
       "      <td>40.731434</td>\n",
       "      <td>7.30</td>\n",
       "      <td>1</td>\n",
       "      <td>25</td>\n",
       "      <td>6</td>\n",
       "      <td>10</td>\n",
       "    </tr>\n",
       "    <tr>\n",
       "      <th>122268</th>\n",
       "      <td>1</td>\n",
       "      <td>1</td>\n",
       "      <td>0.70</td>\n",
       "      <td>-73.918846</td>\n",
       "      <td>40.759098</td>\n",
       "      <td>-73.909592</td>\n",
       "      <td>40.761326</td>\n",
       "      <td>5.80</td>\n",
       "      <td>1</td>\n",
       "      <td>12</td>\n",
       "      <td>0</td>\n",
       "      <td>12</td>\n",
       "    </tr>\n",
       "  </tbody>\n",
       "</table>\n",
       "</div>"
      ],
      "text/plain": [
       "         vendorID  passengerCount  tripDistance  pickupLongitude  \\\n",
       "1012676         1               1          3.70       -73.976936   \n",
       "659884          1               1          0.90       -73.963928   \n",
       "85852           2               6          3.82       -73.925110   \n",
       "997760          2               1          1.30       -73.844109   \n",
       "122268          1               1          0.70       -73.918846   \n",
       "\n",
       "         pickupLatitude  dropoffLongitude  dropoffLatitude  totalAmount  \\\n",
       "1012676       40.689709        -73.982780        40.733940        15.30   \n",
       "659884        40.682961        -73.973328        40.678654         8.75   \n",
       "85852         40.761745        -73.973686        40.747566        19.55   \n",
       "997760        40.721706        -73.851509        40.731434         7.30   \n",
       "122268        40.759098        -73.909592        40.761326         5.80   \n",
       "\n",
       "         month_num  day_of_month  day_of_week  hour_of_day  \n",
       "1012676          1            25            6           16  \n",
       "659884           1             9            4           21  \n",
       "85852            1            10            5           19  \n",
       "997760           1            25            6           10  \n",
       "122268           1            12            0           12  "
      ]
     },
     "execution_count": 9,
     "metadata": {},
     "output_type": "execute_result"
    }
   ],
   "source": [
    "columns_to_remove = [\"lpepPickupDatetime\", \"lpepDropoffDatetime\", \"puLocationId\", \"doLocationId\", \"extra\", \"mtaTax\",\n",
    "                     \"improvementSurcharge\", \"tollsAmount\", \"ehailFee\", \"tripType\", \"rateCodeID\", \n",
    "                     \"storeAndFwdFlag\", \"paymentType\", \"fareAmount\", \"tipAmount\"\n",
    "                    ]\n",
    "for col in columns_to_remove:\n",
    "    green_taxi_df.pop(col)\n",
    "    \n",
    "green_taxi_df.head(5)"
   ]
  },
  {
   "cell_type": "markdown",
   "metadata": {},
   "source": [
    "### Cleanse data "
   ]
  },
  {
   "cell_type": "markdown",
   "metadata": {},
   "source": [
    "Run the `describe()` function on the new dataframe to see summary statistics for each field."
   ]
  },
  {
   "cell_type": "code",
   "execution_count": 10,
   "metadata": {},
   "outputs": [
    {
     "data": {
      "text/html": [
       "<div>\n",
       "<style scoped>\n",
       "    .dataframe tbody tr th:only-of-type {\n",
       "        vertical-align: middle;\n",
       "    }\n",
       "\n",
       "    .dataframe tbody tr th {\n",
       "        vertical-align: top;\n",
       "    }\n",
       "\n",
       "    .dataframe thead th {\n",
       "        text-align: right;\n",
       "    }\n",
       "</style>\n",
       "<table border=\"1\" class=\"dataframe\">\n",
       "  <thead>\n",
       "    <tr style=\"text-align: right;\">\n",
       "      <th></th>\n",
       "      <th>vendorID</th>\n",
       "      <th>passengerCount</th>\n",
       "      <th>tripDistance</th>\n",
       "      <th>pickupLongitude</th>\n",
       "      <th>pickupLatitude</th>\n",
       "      <th>dropoffLongitude</th>\n",
       "      <th>dropoffLatitude</th>\n",
       "      <th>totalAmount</th>\n",
       "      <th>month_num</th>\n",
       "      <th>day_of_month</th>\n",
       "      <th>day_of_week</th>\n",
       "      <th>hour_of_day</th>\n",
       "    </tr>\n",
       "  </thead>\n",
       "  <tbody>\n",
       "    <tr>\n",
       "      <th>count</th>\n",
       "      <td>24000.000000</td>\n",
       "      <td>24000.000000</td>\n",
       "      <td>24000.000000</td>\n",
       "      <td>24000.000000</td>\n",
       "      <td>24000.000000</td>\n",
       "      <td>24000.000000</td>\n",
       "      <td>24000.000000</td>\n",
       "      <td>24000.000000</td>\n",
       "      <td>24000.000000</td>\n",
       "      <td>24000.000000</td>\n",
       "      <td>24000.000000</td>\n",
       "      <td>24000.000000</td>\n",
       "    </tr>\n",
       "    <tr>\n",
       "      <th>mean</th>\n",
       "      <td>1.781167</td>\n",
       "      <td>1.376292</td>\n",
       "      <td>2.864024</td>\n",
       "      <td>-73.841820</td>\n",
       "      <td>40.696740</td>\n",
       "      <td>-73.853004</td>\n",
       "      <td>40.701578</td>\n",
       "      <td>14.756743</td>\n",
       "      <td>6.500000</td>\n",
       "      <td>15.240000</td>\n",
       "      <td>3.265708</td>\n",
       "      <td>13.611667</td>\n",
       "    </tr>\n",
       "    <tr>\n",
       "      <th>std</th>\n",
       "      <td>0.413464</td>\n",
       "      <td>1.051345</td>\n",
       "      <td>2.892920</td>\n",
       "      <td>2.669261</td>\n",
       "      <td>1.465089</td>\n",
       "      <td>2.493312</td>\n",
       "      <td>1.367579</td>\n",
       "      <td>13.008832</td>\n",
       "      <td>3.452124</td>\n",
       "      <td>8.452453</td>\n",
       "      <td>1.954636</td>\n",
       "      <td>6.797833</td>\n",
       "    </tr>\n",
       "    <tr>\n",
       "      <th>min</th>\n",
       "      <td>1.000000</td>\n",
       "      <td>0.000000</td>\n",
       "      <td>0.000000</td>\n",
       "      <td>-115.156952</td>\n",
       "      <td>0.000000</td>\n",
       "      <td>-115.146568</td>\n",
       "      <td>0.000000</td>\n",
       "      <td>-499.000000</td>\n",
       "      <td>1.000000</td>\n",
       "      <td>1.000000</td>\n",
       "      <td>0.000000</td>\n",
       "      <td>0.000000</td>\n",
       "    </tr>\n",
       "    <tr>\n",
       "      <th>25%</th>\n",
       "      <td>2.000000</td>\n",
       "      <td>1.000000</td>\n",
       "      <td>1.070000</td>\n",
       "      <td>-73.959444</td>\n",
       "      <td>40.699533</td>\n",
       "      <td>-73.967615</td>\n",
       "      <td>40.700237</td>\n",
       "      <td>7.880000</td>\n",
       "      <td>3.750000</td>\n",
       "      <td>8.000000</td>\n",
       "      <td>2.000000</td>\n",
       "      <td>9.000000</td>\n",
       "    </tr>\n",
       "    <tr>\n",
       "      <th>50%</th>\n",
       "      <td>2.000000</td>\n",
       "      <td>1.000000</td>\n",
       "      <td>1.900000</td>\n",
       "      <td>-73.945309</td>\n",
       "      <td>40.746767</td>\n",
       "      <td>-73.944447</td>\n",
       "      <td>40.747789</td>\n",
       "      <td>11.300000</td>\n",
       "      <td>6.500000</td>\n",
       "      <td>15.000000</td>\n",
       "      <td>3.000000</td>\n",
       "      <td>15.000000</td>\n",
       "    </tr>\n",
       "    <tr>\n",
       "      <th>75%</th>\n",
       "      <td>2.000000</td>\n",
       "      <td>1.000000</td>\n",
       "      <td>3.600000</td>\n",
       "      <td>-73.917381</td>\n",
       "      <td>40.803681</td>\n",
       "      <td>-73.910238</td>\n",
       "      <td>40.792238</td>\n",
       "      <td>17.800000</td>\n",
       "      <td>9.250000</td>\n",
       "      <td>22.000000</td>\n",
       "      <td>5.000000</td>\n",
       "      <td>19.000000</td>\n",
       "    </tr>\n",
       "    <tr>\n",
       "      <th>max</th>\n",
       "      <td>2.000000</td>\n",
       "      <td>7.000000</td>\n",
       "      <td>58.870000</td>\n",
       "      <td>0.000000</td>\n",
       "      <td>42.585236</td>\n",
       "      <td>0.000000</td>\n",
       "      <td>42.428642</td>\n",
       "      <td>512.000000</td>\n",
       "      <td>12.000000</td>\n",
       "      <td>30.000000</td>\n",
       "      <td>6.000000</td>\n",
       "      <td>23.000000</td>\n",
       "    </tr>\n",
       "  </tbody>\n",
       "</table>\n",
       "</div>"
      ],
      "text/plain": [
       "           vendorID  passengerCount  tripDistance  pickupLongitude  \\\n",
       "count  24000.000000    24000.000000  24000.000000     24000.000000   \n",
       "mean       1.781167        1.376292      2.864024       -73.841820   \n",
       "std        0.413464        1.051345      2.892920         2.669261   \n",
       "min        1.000000        0.000000      0.000000      -115.156952   \n",
       "25%        2.000000        1.000000      1.070000       -73.959444   \n",
       "50%        2.000000        1.000000      1.900000       -73.945309   \n",
       "75%        2.000000        1.000000      3.600000       -73.917381   \n",
       "max        2.000000        7.000000     58.870000         0.000000   \n",
       "\n",
       "       pickupLatitude  dropoffLongitude  dropoffLatitude   totalAmount  \\\n",
       "count    24000.000000      24000.000000     24000.000000  24000.000000   \n",
       "mean        40.696740        -73.853004        40.701578     14.756743   \n",
       "std          1.465089          2.493312         1.367579     13.008832   \n",
       "min          0.000000       -115.146568         0.000000   -499.000000   \n",
       "25%         40.699533        -73.967615        40.700237      7.880000   \n",
       "50%         40.746767        -73.944447        40.747789     11.300000   \n",
       "75%         40.803681        -73.910238        40.792238     17.800000   \n",
       "max         42.585236          0.000000        42.428642    512.000000   \n",
       "\n",
       "          month_num  day_of_month   day_of_week   hour_of_day  \n",
       "count  24000.000000  24000.000000  24000.000000  24000.000000  \n",
       "mean       6.500000     15.240000      3.265708     13.611667  \n",
       "std        3.452124      8.452453      1.954636      6.797833  \n",
       "min        1.000000      1.000000      0.000000      0.000000  \n",
       "25%        3.750000      8.000000      2.000000      9.000000  \n",
       "50%        6.500000     15.000000      3.000000     15.000000  \n",
       "75%        9.250000     22.000000      5.000000     19.000000  \n",
       "max       12.000000     30.000000      6.000000     23.000000  "
      ]
     },
     "execution_count": 10,
     "metadata": {},
     "output_type": "execute_result"
    }
   ],
   "source": [
    "green_taxi_df.describe()"
   ]
  },
  {
   "cell_type": "code",
   "execution_count": 11,
   "metadata": {},
   "outputs": [],
   "source": [
    "# Will allow us to embed images in the notebook\n",
    "%matplotlib inline\n",
    "import matplotlib.pyplot as plt\n"
   ]
  },
  {
   "cell_type": "code",
   "execution_count": 12,
   "metadata": {},
   "outputs": [
    {
     "data": {
      "image/png": "[encoded data removed]",
      "text/plain": [
       "<Figure size 1152x720 with 1 Axes>"
      ]
     },
     "metadata": {
      "needs_background": "light"
     },
     "output_type": "display_data"
    }
   ],
   "source": [
    "plt.rcParams['figure.figsize'] = [16, 10]\n",
    "boxplot = green_taxi_df.boxplot(column=list(green_taxi_df.columns[1:-4]))"
   ]
  },
  {
   "cell_type": "markdown",
   "metadata": {},
   "source": [
    "From the summary statistics, you see that there are several fields that have outliers or values that will reduce model accuracy. First filter the lat/long fields to be within the bounds of the Manhattan area. This will filter out longer taxi trips or trips that are outliers in respect to their relationship with other features. \n",
    "\n",
    "Additionally filter the `tripDistance` field to be greater than zero but less than 31 miles (the haversine distance between the two lat/long pairs). This eliminates long outlier trips that have inconsistent trip cost.\n",
    "\n",
    "Lastly, the `totalAmount` field has negative values for the taxi fares, which don't make sense in the context of our model, and the `passengerCount` field has bad data with the minimum values being zero.\n",
    "\n",
    "Filter out these anomalies using query functions, and then remove the last few columns unnecessary for training."
   ]
  },
  {
   "cell_type": "code",
   "execution_count": 13,
   "metadata": {},
   "outputs": [],
   "source": [
    "final_df = green_taxi_df.query(\"pickupLatitude>=40.53 and pickupLatitude<=40.88\")\n",
    "final_df = final_df.query(\"pickupLongitude>=-74.09 and pickupLongitude<=-73.72\")\n",
    "final_df = final_df.query(\"tripDistance>=0.25 and tripDistance<31\")\n",
    "final_df = final_df.query(\"passengerCount>0 and totalAmount>0\")\n",
    "\n",
    "columns_to_remove_for_training = [\"pickupLongitude\", \"pickupLatitude\", \"dropoffLongitude\", \"dropoffLatitude\"]\n",
    "for col in columns_to_remove_for_training:\n",
    "    final_df.pop(col)"
   ]
  },
  {
   "cell_type": "markdown",
   "metadata": {},
   "source": [
    "Call `describe()` again on the data to ensure cleansing worked as expected. You now have a prepared and cleansed set of taxi, holiday, and weather data to use for machine learning model training."
   ]
  },
  {
   "cell_type": "code",
   "execution_count": 14,
   "metadata": {},
   "outputs": [
    {
     "data": {
      "text/html": [
       "<div>\n",
       "<style scoped>\n",
       "    .dataframe tbody tr th:only-of-type {\n",
       "        vertical-align: middle;\n",
       "    }\n",
       "\n",
       "    .dataframe tbody tr th {\n",
       "        vertical-align: top;\n",
       "    }\n",
       "\n",
       "    .dataframe thead th {\n",
       "        text-align: right;\n",
       "    }\n",
       "</style>\n",
       "<table border=\"1\" class=\"dataframe\">\n",
       "  <thead>\n",
       "    <tr style=\"text-align: right;\">\n",
       "      <th></th>\n",
       "      <th>vendorID</th>\n",
       "      <th>passengerCount</th>\n",
       "      <th>tripDistance</th>\n",
       "      <th>totalAmount</th>\n",
       "      <th>month_num</th>\n",
       "      <th>day_of_month</th>\n",
       "      <th>day_of_week</th>\n",
       "      <th>hour_of_day</th>\n",
       "    </tr>\n",
       "  </thead>\n",
       "  <tbody>\n",
       "    <tr>\n",
       "      <th>count</th>\n",
       "      <td>23265.000000</td>\n",
       "      <td>23265.000000</td>\n",
       "      <td>23265.000000</td>\n",
       "      <td>23265.000000</td>\n",
       "      <td>23265.000000</td>\n",
       "      <td>23265.000000</td>\n",
       "      <td>23265.000000</td>\n",
       "      <td>23265.000000</td>\n",
       "    </tr>\n",
       "    <tr>\n",
       "      <th>mean</th>\n",
       "      <td>1.781689</td>\n",
       "      <td>1.379239</td>\n",
       "      <td>2.931335</td>\n",
       "      <td>14.777734</td>\n",
       "      <td>6.500666</td>\n",
       "      <td>15.255233</td>\n",
       "      <td>3.270019</td>\n",
       "      <td>13.635719</td>\n",
       "    </tr>\n",
       "    <tr>\n",
       "      <th>std</th>\n",
       "      <td>0.413108</td>\n",
       "      <td>1.056986</td>\n",
       "      <td>2.862905</td>\n",
       "      <td>10.584216</td>\n",
       "      <td>3.455580</td>\n",
       "      <td>8.444363</td>\n",
       "      <td>1.953880</td>\n",
       "      <td>6.802068</td>\n",
       "    </tr>\n",
       "    <tr>\n",
       "      <th>min</th>\n",
       "      <td>1.000000</td>\n",
       "      <td>1.000000</td>\n",
       "      <td>0.250000</td>\n",
       "      <td>0.010000</td>\n",
       "      <td>1.000000</td>\n",
       "      <td>1.000000</td>\n",
       "      <td>0.000000</td>\n",
       "      <td>0.000000</td>\n",
       "    </tr>\n",
       "    <tr>\n",
       "      <th>25%</th>\n",
       "      <td>2.000000</td>\n",
       "      <td>1.000000</td>\n",
       "      <td>1.100000</td>\n",
       "      <td>8.190000</td>\n",
       "      <td>3.000000</td>\n",
       "      <td>8.000000</td>\n",
       "      <td>2.000000</td>\n",
       "      <td>9.000000</td>\n",
       "    </tr>\n",
       "    <tr>\n",
       "      <th>50%</th>\n",
       "      <td>2.000000</td>\n",
       "      <td>1.000000</td>\n",
       "      <td>1.970000</td>\n",
       "      <td>11.300000</td>\n",
       "      <td>6.000000</td>\n",
       "      <td>15.000000</td>\n",
       "      <td>3.000000</td>\n",
       "      <td>15.000000</td>\n",
       "    </tr>\n",
       "    <tr>\n",
       "      <th>75%</th>\n",
       "      <td>2.000000</td>\n",
       "      <td>1.000000</td>\n",
       "      <td>3.680000</td>\n",
       "      <td>17.800000</td>\n",
       "      <td>10.000000</td>\n",
       "      <td>22.000000</td>\n",
       "      <td>5.000000</td>\n",
       "      <td>19.000000</td>\n",
       "    </tr>\n",
       "    <tr>\n",
       "      <th>max</th>\n",
       "      <td>2.000000</td>\n",
       "      <td>7.000000</td>\n",
       "      <td>29.920000</td>\n",
       "      <td>354.300000</td>\n",
       "      <td>12.000000</td>\n",
       "      <td>30.000000</td>\n",
       "      <td>6.000000</td>\n",
       "      <td>23.000000</td>\n",
       "    </tr>\n",
       "  </tbody>\n",
       "</table>\n",
       "</div>"
      ],
      "text/plain": [
       "           vendorID  passengerCount  tripDistance   totalAmount     month_num  \\\n",
       "count  23265.000000    23265.000000  23265.000000  23265.000000  23265.000000   \n",
       "mean       1.781689        1.379239      2.931335     14.777734      6.500666   \n",
       "std        0.413108        1.056986      2.862905     10.584216      3.455580   \n",
       "min        1.000000        1.000000      0.250000      0.010000      1.000000   \n",
       "25%        2.000000        1.000000      1.100000      8.190000      3.000000   \n",
       "50%        2.000000        1.000000      1.970000     11.300000      6.000000   \n",
       "75%        2.000000        1.000000      3.680000     17.800000     10.000000   \n",
       "max        2.000000        7.000000     29.920000    354.300000     12.000000   \n",
       "\n",
       "       day_of_month   day_of_week   hour_of_day  \n",
       "count  23265.000000  23265.000000  23265.000000  \n",
       "mean      15.255233      3.270019     13.635719  \n",
       "std        8.444363      1.953880      6.802068  \n",
       "min        1.000000      0.000000      0.000000  \n",
       "25%        8.000000      2.000000      9.000000  \n",
       "50%       15.000000      3.000000     15.000000  \n",
       "75%       22.000000      5.000000     19.000000  \n",
       "max       30.000000      6.000000     23.000000  "
      ]
     },
     "execution_count": 14,
     "metadata": {},
     "output_type": "execute_result"
    }
   ],
   "source": [
    "final_df.describe()"
   ]
  },
  {
   "cell_type": "code",
   "execution_count": 15,
   "metadata": {},
   "outputs": [
    {
     "name": "stdout",
     "output_type": "stream",
     "text": [
      "train:18612 \n",
      "test: 4653\n"
     ]
    }
   ],
   "source": [
    "from sklearn.model_selection import train_test_split\n",
    "\n",
    "train, test = train_test_split(final_df, test_size=0.2, random_state=223)\n",
    "\n",
    "print(f'train:{len(list(train[\"vendorID\"]))} \\ntest: {len(list(test[\"vendorID\"]))}')\n",
    "\n",
    "final_df.to_csv(\"./data/taxi_final_df.csv\", index=False)\n",
    "train.to_csv(\"./data/taxi_final_df_train.csv\", index=False)\n",
    "test.to_csv(\"./data/taxi_final_df_test.csv\", index=False)"
   ]
  },
  {
   "cell_type": "markdown",
   "metadata": {},
   "source": [
    "## PART 2: Train within notebook regression model with AML Serice"
   ]
  },
  {
   "cell_type": "markdown",
   "metadata": {},
   "source": [
    "In PART2 you train simple regression model within the notebook environement while logging metrics and output trhough AML service Experiment. Also you try to run single parameter sweep of the regression model.\n",
    "\n",
    "* first you create configure a connection to workspace\n",
    "* then run the simple training\n",
    "* lastly you run simple parameter sweep of a regression model\n",
    "* review results"
   ]
  },
  {
   "cell_type": "code",
   "execution_count": 16,
   "metadata": {},
   "outputs": [],
   "source": [
    "final_df = pd.read_csv(\"./data/taxi_final_df.csv\")\n",
    "# final_df.head(10)"
   ]
  },
  {
   "cell_type": "markdown",
   "metadata": {},
   "source": [
    "### Configure workspace\n"
   ]
  },
  {
   "cell_type": "markdown",
   "metadata": {},
   "source": [
    "Create a workspace object from the existing workspace. A [Workspace](https://docs.microsoft.com/python/api/azureml-core/azureml.core.workspace.workspace?view=azure-ml-py) is a class that accepts your Azure subscription and resource information. It also creates a cloud resource to monitor and track your model runs. `Workspace.from_config()` reads the file **config.json** and loads the authentication details into an object named `ws`. `ws` is used throughout the rest of the code in this tutorial."
   ]
  },
  {
   "cell_type": "code",
   "execution_count": 72,
   "metadata": {},
   "outputs": [
    {
     "data": {
      "text/html": [
       "<div>\n",
       "<style scoped>\n",
       "    .dataframe tbody tr th:only-of-type {\n",
       "        vertical-align: middle;\n",
       "    }\n",
       "\n",
       "    .dataframe tbody tr th {\n",
       "        vertical-align: top;\n",
       "    }\n",
       "\n",
       "    .dataframe thead th {\n",
       "        text-align: right;\n",
       "    }\n",
       "</style>\n",
       "<table border=\"1\" class=\"dataframe\">\n",
       "  <thead>\n",
       "    <tr style=\"text-align: right;\">\n",
       "      <th></th>\n",
       "      <th></th>\n",
       "    </tr>\n",
       "  </thead>\n",
       "  <tbody>\n",
       "    <tr>\n",
       "      <th>SDK version</th>\n",
       "      <td>1.2.0</td>\n",
       "    </tr>\n",
       "    <tr>\n",
       "      <th>Subscription ID</th>\n",
       "      <td>6ee947fa-0d77-4915-bf68-4a83a8bec2a4</td>\n",
       "    </tr>\n",
       "    <tr>\n",
       "      <th>Workspace</th>\n",
       "      <td>mlops-demo</td>\n",
       "    </tr>\n",
       "    <tr>\n",
       "      <th>Resource Group</th>\n",
       "      <td>mlops-rg</td>\n",
       "    </tr>\n",
       "    <tr>\n",
       "      <th>Location</th>\n",
       "      <td>westeurope</td>\n",
       "    </tr>\n",
       "  </tbody>\n",
       "</table>\n",
       "</div>"
      ],
      "text/plain": [
       "                                                     \n",
       "SDK version      1.2.0                               \n",
       "Subscription ID  6ee947fa-0d77-4915-bf68-4a83a8bec2a4\n",
       "Workspace        mlops-demo                          \n",
       "Resource Group   mlops-rg                            \n",
       "Location         westeurope                          "
      ]
     },
     "execution_count": 72,
     "metadata": {},
     "output_type": "execute_result"
    }
   ],
   "source": [
    "from azureml.core.workspace import Workspace\n",
    "ws = Workspace.from_config()\n",
    "# print(f\"Name: {ws.name}, Resource group: {ws.resource_group}, Location: {ws.location}, Subscription: {ws.subscription_id}\")\n",
    "output = {}\n",
    "output['SDK version'] = azureml.core.VERSION\n",
    "output['Subscription ID'] = ws.subscription_id\n",
    "output['Workspace'] = ws.name\n",
    "output['Resource Group'] = ws.resource_group\n",
    "output['Location'] = ws.location\n",
    "# output['Run History Name'] = experiment_name\n",
    "pd.set_option('display.max_colwidth', -1)\n",
    "outputDf = pd.DataFrame(data = output, index = [''])\n",
    "outputDf.T"
   ]
  },
  {
   "cell_type": "markdown",
   "metadata": {},
   "source": [
    "### Train locally within notebook"
   ]
  },
  {
   "cell_type": "markdown",
   "metadata": {},
   "source": [
    "Split the data into training and test sets by using the `train_test_split` function in the `scikit-learn` library. This function segregates the data into the x (**features**) data set for model training and the y (**values to predict**) data set for testing. The `test_size` parameter determines the percentage of data to allocate to testing. The `random_state` parameter sets a seed to the random generator, so that your train-test splits are deterministic."
   ]
  },
  {
   "cell_type": "code",
   "execution_count": 18,
   "metadata": {},
   "outputs": [],
   "source": [
    "from sklearn.linear_model import Ridge\n",
    "from sklearn.metrics import mean_squared_error\n",
    "from sklearn.model_selection import train_test_split\n",
    "from sklearn.externals import joblib\n",
    "\n",
    "import lightgbm as lgb\n",
    "\n",
    "\n",
    "y_df = final_df.pop(\"totalAmount\")\n",
    "x_df = final_df\n",
    "\n",
    "x_train, x_test, y_train, y_test = train_test_split(x_df, y_df, test_size=0.2, random_state=223)"
   ]
  },
  {
   "cell_type": "markdown",
   "metadata": {},
   "source": [
    "Let's use scikit-learn to train a simple LightGBM regression model.  We use AML to record interesting information about the model in an Experiment.  An Experiment contains a series of trials called Runs.  During this trial we use AML in the following way:\n",
    "* We access an experiment from our AML workspace by name, which will be created if it doesn't exist\n",
    "* We use `start_logging` to create a new run in this experiment\n",
    "* We use `run.log()` to record a parameter, num_leaves, and an accuracy measure - the Mean Squared Error (MSE) to the run.  We will be able to review and compare these measures in the Azure Portal at a later time.\n",
    "* We store the resulting model in the **outputs** directory, which is automatically captured by AML when the run is complete.\n",
    "* We use `run.complete()` to indicate that the run is over and results can be captured and finalized"
   ]
  },
  {
   "cell_type": "code",
   "execution_count": 19,
   "metadata": {
    "tags": [
     "local run",
     "outputs upload"
    ]
   },
   "outputs": [
    {
     "name": "stdout",
     "output_type": "stream",
     "text": [
      "[1]\tvalid_0's l1: 6.80423\tvalid_0's l2: 99.8064\n",
      "Training until validation scores don't improve for 5 rounds\n",
      "[2]\tvalid_0's l1: 6.50121\tvalid_0's l2: 92.0871\n",
      "[3]\tvalid_0's l1: 6.21356\tvalid_0's l2: 85.113\n",
      "[4]\tvalid_0's l1: 5.94276\tvalid_0's l2: 78.8216\n",
      "[5]\tvalid_0's l1: 5.68662\tvalid_0's l2: 73.1359\n",
      "[6]\tvalid_0's l1: 5.44565\tvalid_0's l2: 68.0106\n",
      "[7]\tvalid_0's l1: 5.21882\tvalid_0's l2: 63.4203\n",
      "[8]\tvalid_0's l1: 5.00414\tvalid_0's l2: 59.2439\n",
      "[9]\tvalid_0's l1: 4.80271\tvalid_0's l2: 55.468\n",
      "[10]\tvalid_0's l1: 4.6125\tvalid_0's l2: 52.0815\n",
      "[11]\tvalid_0's l1: 4.43452\tvalid_0's l2: 49.0005\n",
      "[12]\tvalid_0's l1: 4.26711\tvalid_0's l2: 46.2492\n",
      "[13]\tvalid_0's l1: 4.10949\tvalid_0's l2: 43.7537\n",
      "[14]\tvalid_0's l1: 3.96068\tvalid_0's l2: 41.509\n",
      "[15]\tvalid_0's l1: 3.82181\tvalid_0's l2: 39.476\n",
      "[16]\tvalid_0's l1: 3.69371\tvalid_0's l2: 37.6351\n",
      "[17]\tvalid_0's l1: 3.57257\tvalid_0's l2: 35.9745\n",
      "[18]\tvalid_0's l1: 3.45983\tvalid_0's l2: 34.4725\n",
      "[19]\tvalid_0's l1: 3.35522\tvalid_0's l2: 33.1358\n",
      "[20]\tvalid_0's l1: 3.25675\tvalid_0's l2: 31.9124\n",
      "Did not meet early stopping. Best iteration is:\n",
      "[20]\tvalid_0's l1: 3.25675\tvalid_0's l2: 31.9124\n",
      "Mean Squared Error is 31.91237607563337\n"
     ]
    }
   ],
   "source": [
    "from azureml.core import Experiment\n",
    "\n",
    "# Get an experiment object from Azure Machine Learning\n",
    "experiment = Experiment(workspace=ws, name=\"train-within-notebook-lightgbm\")\n",
    "\n",
    "# Create a run object in the experiment\n",
    "run =  experiment.start_logging()\n",
    "\n",
    "\n",
    "# Log the algorithm parameters to the run\n",
    "run.log('num_leaves', 31)\n",
    "run.log('learning_rate', 0.05)\n",
    "run.log('n_estimators', 20)\n",
    "\n",
    "# setup model, train and test\n",
    "gbm = lgb.LGBMRegressor(num_leaves=31,\n",
    "                        learning_rate=0.05,\n",
    "                        n_estimators=20)\n",
    "model_gbm = gbm.fit(x_train, y_train,\n",
    "        eval_set=[(x_test, y_test)],\n",
    "        eval_metric='l1',\n",
    "        early_stopping_rounds=5)\n",
    "\n",
    "preds = model_gbm.predict(x_test)\n",
    "\n",
    "# Output the Mean Squared Error to the notebook and to the run\n",
    "print('Mean Squared Error is', mean_squared_error(y_test, preds))\n",
    "run.log('mse', mean_squared_error(y_test, preds))\n",
    "\n",
    "# Save the model to the outputs directory for capture\n",
    "model_file_name = './outputs/model.pkl'\n",
    "\n",
    "joblib.dump(value = model_gbm, filename = model_file_name)\n",
    "\n",
    "# upload the model file explicitly into artifacts \n",
    "run.upload_file(name = model_file_name, path_or_stream = model_file_name)\n",
    "\n",
    "# Complete the run\n",
    "run.complete()"
   ]
  },
  {
   "cell_type": "markdown",
   "metadata": {},
   "source": [
    "### Simple parameter sweep\n",
    "Now let's take the same concept from above and modify the **num_leaves** parameter.  For each value of num_leaves we will create a run that will store metrics and the resulting model.  In the end we can use the captured run history to determine which model was the best for us to deploy. \n",
    "\n",
    "Note that by using `with experiment.start_logging() as run` AML will automatically call `run.complete()` at the end of each loop.\n",
    "\n",
    "This example also uses the **tqdm** library to provide a thermometer feedback"
   ]
  },
  {
   "cell_type": "code",
   "execution_count": 20,
   "metadata": {},
   "outputs": [
    {
     "name": "stderr",
     "output_type": "stream",
     "text": [
      "100%|██████████| 15/15 [01:02<00:00,  4.17s/it]\n"
     ]
    }
   ],
   "source": [
    "import numpy as np\n",
    "from tqdm import tqdm\n",
    "# experiment = Experiment(workspace=ws, name=\"train-locally-within-notebook-sweep3\")\n",
    "# list of numbers from 0 to 1.0 with a 0.05 interval\n",
    "num_leaves_sweep = np.arange(5, 35, 2)\n",
    "mses = []\n",
    "\n",
    "with experiment.start_logging() as run:\n",
    "\n",
    "    for num_leaves in tqdm(num_leaves_sweep):\n",
    "        # create a bunch of runs, each train a model with a different parameters\n",
    "        with run.child_run() as child_run:\n",
    "            gbm = lgb.LGBMRegressor(num_leaves=num_leaves,\n",
    "                                    learning_rate=0.05,\n",
    "                                    n_estimators=20,\n",
    "                                    silent=True)\n",
    "            model_gbm = gbm.fit(x_train, y_train,\n",
    "                    eval_set=[(x_test, y_test)],\n",
    "                    eval_metric='l1',\n",
    "                    early_stopping_rounds=5\n",
    "                    , verbose=False)\n",
    "\n",
    "            preds = model_gbm.predict(x_test)\n",
    "            mse = mean_squared_error(y_true=y_test, y_pred=preds)\n",
    "\n",
    "            # log alpha, mean_squared_error and feature names in run history\n",
    "            child_run.log(name=\"num_leaves\", value=num_leaves)\n",
    "            child_run.log(name=\"mse\", value=mse)\n",
    "            mses.append(mse)\n",
    "\n",
    "    run.log_list(name=\"mses\", value=mses, description='')\n"
   ]
  },
  {
   "cell_type": "markdown",
   "metadata": {},
   "source": [
    "### Viewing run results\n",
    "Azure Machine Learning stores all the details about the run in the Azure cloud.  Let's access those details by retrieving a link to the run using the default run output.  Clicking on the resulting link will take you to an interactive page presenting all run information."
   ]
  },
  {
   "cell_type": "code",
   "execution_count": 21,
   "metadata": {},
   "outputs": [
    {
     "data": {
      "text/html": [
       "<table style=\"width:100%\"><tr><th>Experiment</th><th>Id</th><th>Type</th><th>Status</th><th>Details Page</th><th>Docs Page</th></tr><tr><td>train-within-notebook-lightgbm</td><td>c80cc6ca-0bbd-4db4-b369-3ddde74399cf</td><td></td><td>Running</td><td><a href=\"https://ml.azure.com/experiments/train-within-notebook-lightgbm/runs/c80cc6ca-0bbd-4db4-b369-3ddde74399cf?wsid=/subscriptions/6ee947fa-0d77-4915-bf68-4a83a8bec2a4/resourcegroups/mlops-rg/workspaces/mlops-demo\" target=\"_blank\" rel=\"noopener\">Link to Azure Machine Learning studio</a></td><td><a href=\"https://docs.microsoft.com/en-us/python/api/azureml-core/azureml.core.run.Run?view=azure-ml-py\" target=\"_blank\" rel=\"noopener\">Link to Documentation</a></td></tr></table>"
      ],
      "text/plain": [
       "Run(Experiment: train-within-notebook-lightgbm,\n",
       "Id: c80cc6ca-0bbd-4db4-b369-3ddde74399cf,\n",
       "Type: None,\n",
       "Status: Running)"
      ]
     },
     "execution_count": 21,
     "metadata": {},
     "output_type": "execute_result"
    }
   ],
   "source": [
    "run"
   ]
  },
  {
   "cell_type": "markdown",
   "metadata": {},
   "source": [
    "An experiment is a logical container in an Azure ML Workspace. It contains a series of trials called Runs. As such, it hosts run records such as run metrics, logs, and other output artifacts from your experiments."
   ]
  },
  {
   "cell_type": "markdown",
   "metadata": {},
   "source": [
    "The purpose of this step is to have data points to test the finished model that haven't been used to train the model, in order to measure true accuracy. \n",
    "\n",
    "In other words, a well-trained model should be able to accurately make predictions from data it hasn't already seen. You now have data prepared for auto-training a machine learning model."
   ]
  },
  {
   "cell_type": "markdown",
   "metadata": {},
   "source": [
    "## PART 3: Train Automated ML Regresion model on AML remote Compute"
   ]
  },
  {
   "cell_type": "markdown",
   "metadata": {},
   "source": [
    "In PART 3, you train multiple Regression models at once and select the best one via Autmated ML componement of Azure Machine Learning service. This happens on remote AML compute - simple auto-scaled cluster of machines for parallel training.\n",
    "\n",
    "The steps are:\n",
    "* configure datasource - remote storage shared between the parallel runs\n",
    "* configure AML compute target\n",
    "* configure and run Automated ML Experiment\n",
    "* review results"
   ]
  },
  {
   "cell_type": "markdown",
   "metadata": {},
   "source": [
    "Get default blob store associated with your workspace. Alternatively, you can attach your own blob storage to the Workspace - see [here](https://docs.microsoft.com/en-us/azure/machine-learning/service/how-to-access-data)."
   ]
  },
  {
   "cell_type": "code",
   "execution_count": 22,
   "metadata": {
    "scrolled": true
   },
   "outputs": [
    {
     "name": "stdout",
     "output_type": "stream",
     "text": [
      "container_name: azureml-blobstore-f6e87a86-c769-4de1-b661-968b2c33123c\n",
      "account_name: mlopsmmaamlsa\n"
     ]
    }
   ],
   "source": [
    "ds = ws.datastores['workspaceblobstore']\n",
    "# ds = ws.get_default_datastore()\n",
    "for attr, value in ds.__dict__.items():\n",
    "    if (attr in ['name', 'datastore_type', 'container_name', 'account_name']):\n",
    "        print(f\"{attr}: {value}\")"
   ]
  },
  {
   "cell_type": "markdown",
   "metadata": {},
   "source": [
    "Upload prepared data into associated Datastore."
   ]
  },
  {
   "cell_type": "code",
   "execution_count": 23,
   "metadata": {
    "scrolled": true
   },
   "outputs": [
    {
     "name": "stdout",
     "output_type": "stream",
     "text": [
      "Uploading an estimated of 5 files\n",
      "Uploading ./data/dummy\n",
      "Uploading ./data/taxi_final_df.csv\n",
      "Uploading ./data/taxi_final_df_test.csv\n",
      "Uploading ./data/taxi_final_df_train.csv\n",
      "Uploading ./data/taxi_raw_df.csv\n",
      "Uploaded ./data/taxi_final_df_train.csv, 1 files out of an estimated total of 5\n",
      "Uploaded ./data/taxi_final_df_test.csv, 2 files out of an estimated total of 5\n",
      "Uploaded ./data/dummy, 3 files out of an estimated total of 5\n",
      "Uploaded ./data/taxi_final_df.csv, 4 files out of an estimated total of 5\n",
      "Uploaded ./data/taxi_raw_df.csv, 5 files out of an estimated total of 5\n",
      "Uploaded 5 files\n"
     ]
    },
    {
     "data": {
      "text/plain": [
       "$AZUREML_DATAREFERENCE_148d8faea53e43fb9458a01937e151d7"
      ]
     },
     "execution_count": 23,
     "metadata": {},
     "output_type": "execute_result"
    }
   ],
   "source": [
    "ds.upload(src_dir='./data', target_path='data', overwrite=True, show_progress=True)"
   ]
  },
  {
   "cell_type": "markdown",
   "metadata": {},
   "source": [
    "### Configure Compute Target (SDK)\n",
    "\n",
    "Create Compute target in Portal - alternativelly you could create using Pyhton SDK.\n",
    "\n",
    "Reuse the name of the cluster compute you created in preview step and set appropriatelly variable:\n",
    "\n",
    "```python\n",
    "amlcompute_cluster_name = \"<#Name your cluster#>\" "
   ]
  },
  {
   "cell_type": "code",
   "execution_count": 46,
   "metadata": {},
   "outputs": [
    {
     "name": "stdout",
     "output_type": "stream",
     "text": [
      "Found existing cluster, use it.\n",
      "Succeeded\n",
      "AmlCompute wait for completion finished\n",
      "\n",
      "Minimum number of nodes requested have been provisioned\n",
      "Found existing compute target: azdemocluster\n",
      "(cluster is running) currentNodeCount: 5, vmPriority: Dedicated, vmSize: STANDARD_D2_V2\n"
     ]
    }
   ],
   "source": [
    "from azureml.core.compute import ComputeTarget, AmlCompute\n",
    "from azureml.core.compute_target import ComputeTargetException\n",
    "\n",
    "# Choose a name for your CPU cluster\n",
    "amlcompute_cluster_name = \"azdemocluster\" #Name your cluster\n",
    "# amlcompute_cluster_name = \"azdemocluster-f\" #Name your cluster\n",
    "\n",
    "# Verify that cluster does not exist already\n",
    "try:\n",
    "    compute_target = ComputeTarget(workspace=ws, name=amlcompute_cluster_name)\n",
    "    print('Found existing cluster, use it.')\n",
    "except ComputeTargetException:\n",
    "    compute_config = AmlCompute.provisioning_configuration(vm_size='Standard_d2_v2', # Standard_F4s_v2\n",
    "                                                           max_nodes=10)\n",
    "    compute_target = ComputeTarget.create(ws, amlcompute_cluster_name, compute_config)\n",
    "\n",
    "compute_target.wait_for_completion(show_output=True)\n",
    "\n",
    "# Use the 'status' property to get a detailed status for the current cluster. \n",
    "cts = compute_target.status.serialize()\n",
    "print(f'Found existing compute target: {amlcompute_cluster_name}\\n({\"cluster is running\" if (int(cts[\"currentNodeCount\"])>0) else \"cluster is idle\"}) currentNodeCount: {cts[\"currentNodeCount\"]}, vmPriority: {cts[\"vmPriority\"]}, vmSize: {cts[\"vmSize\"]}')\n"
   ]
  },
  {
   "cell_type": "markdown",
   "metadata": {},
   "source": [
    "### Configure Automated ML\n",
    "\n",
    "Observe parameters of DataReferenceConfiguration:\n",
    "\n",
    "* `path_on_datastore`...folder in container\n",
    "* `path_on_compute`...folder where the data is mounted/downloaded\n",
    "* `mode`...wheter download or just mount"
   ]
  },
  {
   "cell_type": "code",
   "execution_count": 47,
   "metadata": {},
   "outputs": [],
   "source": [
    "from azureml.core.runconfig import DataReferenceConfiguration\n",
    "\n",
    "dr = DataReferenceConfiguration(datastore_name=ds.name, \n",
    "                   path_on_datastore='data', \n",
    "                   path_on_compute='/tmp/azureml_runs',\n",
    "                   mode='download', # download files from datastore to compute target\n",
    "                   overwrite=False)"
   ]
  },
  {
   "cell_type": "markdown",
   "metadata": {},
   "source": [
    "The RunConfiguration sets the docker Python environment - packages and Conda dependencies."
   ]
  },
  {
   "cell_type": "code",
   "execution_count": 48,
   "metadata": {},
   "outputs": [],
   "source": [
    "from azureml.core.runconfig import RunConfiguration\n",
    "from azureml.core.conda_dependencies import CondaDependencies\n",
    "import pkg_resources\n",
    "\n",
    "# create a new RunConfig object\n",
    "conda_run_config = RunConfiguration(framework=\"python\")\n",
    "\n",
    "# Set compute target to the Linux DSVM\n",
    "conda_run_config.target = compute_target\n",
    "# set the data reference of the run coonfiguration\n",
    "conda_run_config.data_references = {ds.name: dr}\n",
    "\n",
    "pandas_dependency = 'pandas==' + pkg_resources.get_distribution(\"pandas\").version\n",
    "\n",
    "cd = CondaDependencies.create(pip_packages=['azureml-sdk[automl]'], conda_packages=['numpy',pandas_dependency])\n",
    "conda_run_config.environment.python.conda_dependencies = cd"
   ]
  },
  {
   "cell_type": "markdown",
   "metadata": {},
   "source": [
    "Project folder gets uploaded into docker and will be the ``working directory`` of the executed code."
   ]
  },
  {
   "cell_type": "code",
   "execution_count": 49,
   "metadata": {},
   "outputs": [
    {
     "name": "stdout",
     "output_type": "stream",
     "text": [
      "folder 'aml_prj' aready there\n"
     ]
    }
   ],
   "source": [
    "import os\n",
    "\n",
    "project_folder = \"aml_prj\"\n",
    "\n",
    "if not os.path.exists(project_folder):\n",
    "    os.makedirs(project_folder)\n",
    "else:\n",
    "    print(f\"folder '{project_folder}' aready there\")"
   ]
  },
  {
   "cell_type": "markdown",
   "metadata": {},
   "source": [
    "### Automatically train a model"
   ]
  },
  {
   "cell_type": "markdown",
   "metadata": {},
   "source": [
    "To automatically train a model, take the following steps:\n",
    "1. Define settings for the experiment run. Attach your training data to the configuration, and modify settings that control the training process.\n",
    "1. Submit the experiment for model tuning. After submitting the experiment, the process iterates through different machine learning algorithms and hyperparameter settings, adhering to your defined constraints. It chooses the best-fit model by optimizing an accuracy metric."
   ]
  },
  {
   "cell_type": "markdown",
   "metadata": {},
   "source": [
    "#### Define training settings"
   ]
  },
  {
   "cell_type": "markdown",
   "metadata": {},
   "source": [
    "Define the experiment parameter and model settings for training. View the full list of [settings](https://docs.microsoft.com/azure/machine-learning/service/how-to-configure-auto-train). Submitting the experiment with these default settings will take approximately 5-10 min, but if you want a shorter run time, reduce the `iterations` parameter.\n",
    "\n",
    "\n",
    "|Property| Value in this tutorial |Description|\n",
    "|----|----|---|\n",
    "|**iteration_timeout_minutes**|2|Time limit in minutes for each iteration. Reduce this value to decrease total runtime.|\n",
    "|**iterations**|20|Number of iterations. In each iteration, a new machine learning model is trained with your data. This is the primary value that affects total run time.|\n",
    "|**primary_metric**| spearman_correlation | Metric that you want to optimize. The best-fit model will be chosen based on this metric.|\n",
    "|**preprocess**| True | By using **True**, the experiment can preprocess the input data (handling missing data, converting text to numeric, etc.)|\n",
    "|**verbosity**| logging.INFO | Controls the level of logging.|\n",
    "|**n_cross_validations**|5|Number of cross-validation splits to perform when validation data is not specified.|\n",
    "|**max_concurrent_iterations**|10|Number of parallel runs - should according to cluster size.|\n"
   ]
  },
  {
   "cell_type": "code",
   "execution_count": 53,
   "metadata": {},
   "outputs": [],
   "source": [
    "from azureml.train.automl import AutoMLConfig\n",
    "import azureml.dataprep as dprep\n",
    "from azureml.core.dataset import Dataset\n",
    "\n",
    "train_data_dprep = dprep.auto_read_file(path=ds.path(\"data/taxi_final_df_train.csv\"))\n",
    "valid_data_dprep = dprep.auto_read_file(path=ds.path(\"data/taxi_final_df_test.csv\"))\n",
    "\n",
    "\n",
    "automl_config = AutoMLConfig(task='regression',\n",
    "                            iteration_timeout_minutes=30,\n",
    "                            iterations=20,\n",
    "                            featurization='auto',\n",
    "                            primary_metric='normalized_root_mean_squared_error',\n",
    "                            training_data=train_data_dprep,\n",
    "                            validation_data=valid_data_dprep,                             \n",
    "                            label_column_name=\"totalAmount\",\n",
    "                            debug_log='automl.log',\n",
    "                            run_configuration=conda_run_config,\n",
    "                            model_explainability=False,\n",
    "                            max_concurrent_iterations=10,\n",
    "                            path= project_folder)"
   ]
  },
  {
   "cell_type": "markdown",
   "metadata": {},
   "source": [
    "Automated machine learning pre-processing steps (feature normalization, handling missing data, converting text to numeric, etc.) become part of the underlying model. When using the model for predictions, the same pre-processing steps applied during training are applied to your input data automatically."
   ]
  },
  {
   "cell_type": "markdown",
   "metadata": {},
   "source": [
    "#### Train the automatic regression model"
   ]
  },
  {
   "cell_type": "markdown",
   "metadata": {},
   "source": [
    "Create an experiment object in your workspace. An experiment acts as a container for your individual runs. Pass the defined `automl_config` object to the experiment, and set the output to `True` to view progress during the run. \n",
    "\n",
    "After starting the experiment, the output shown updates live as the experiment runs. For each iteration, you see the model type, the run duration, and the training accuracy. The field `BEST` tracks the best running training score based on your metric type.\n",
    "\n",
    "During the training / experiment running you can observe the result and changes in Azure Portal. Also you can view the state of the runs and results using Widget below in sub-section **Explore results**"
   ]
  },
  {
   "cell_type": "code",
   "execution_count": 54,
   "metadata": {},
   "outputs": [
    {
     "name": "stdout",
     "output_type": "stream",
     "text": [
      "Running on remote or ADB.\n"
     ]
    }
   ],
   "source": [
    "from azureml.core.experiment import Experiment\n",
    "experiment=Experiment(ws, 'train-on-amlcompute-automl')\n",
    "remote_run = experiment.submit(automl_config, show_output=False)"
   ]
  },
  {
   "cell_type": "markdown",
   "metadata": {},
   "source": [
    "### Explore the results"
   ]
  },
  {
   "cell_type": "markdown",
   "metadata": {},
   "source": [
    "Explore the results of automatic training with a [Jupyter widget](https://docs.microsoft.com/python/api/azureml-widgets/azureml.widgets?view=azure-ml-py). The widget allows you to see a graph and table of all individual run iterations, along with training accuracy metrics and metadata. Additionally, you can filter on different accuracy metrics than your primary metric with the dropdown selector."
   ]
  },
  {
   "cell_type": "code",
   "execution_count": 55,
   "metadata": {},
   "outputs": [
    {
     "data": {
      "application/vnd.jupyter.widget-view+json": {
       "model_id": "52e9477550ab4077a5b54ed45ad0ca50",
       "version_major": 2,
       "version_minor": 0
      },
      "text/plain": [
       "_AutoMLWidget(widget_settings={'childWidgetDisplay': 'popup', 'send_telemetry': False, 'log_level': 'INFO', 's…"
      ]
     },
     "metadata": {},
     "output_type": "display_data"
    },
    {
     "data": {
      "application/aml.mini.widget.v1": "{\"status\": \"Completed\", \"workbench_run_details_uri\": \"https://ml.azure.com/experiments/train-on-amlcompute-automl/runs/AutoML_a4f60998-c589-4e25-98b9-69e982f6aef7?wsid=/subscriptions/6ee947fa-0d77-4915-bf68-4a83a8bec2a4/resourcegroups/mlops-rg/workspaces/mlops-demo\", \"run_id\": \"AutoML_a4f60998-c589-4e25-98b9-69e982f6aef7\", \"run_properties\": {\"run_id\": \"AutoML_a4f60998-c589-4e25-98b9-69e982f6aef7\", \"created_utc\": \"2020-04-05T20:41:17.208789Z\", \"properties\": {\"num_iterations\": \"20\", \"training_type\": \"TrainFull\", \"acquisition_function\": \"EI\", \"primary_metric\": \"normalized_root_mean_squared_error\", \"train_split\": \"0\", \"acquisition_parameter\": \"0\", \"num_cross_validation\": null, \"target\": \"azdemocluster\", \"RawAMLSettingsString\": \"{'name': 'train-on-amlcompute-automl', 'path': 'aml_prj', 'subscription_id': '6ee947fa-0d77-4915-bf68-4a83a8bec2a4', 'resource_group': 'mlops-rg', 'workspace_name': 'mlops-demo', 'region': 'westeurope', 'compute_target': 'azdemocluster', 'spark_service': None, 'azure_service': 'Microsoft.AzureNotebookVM', 'iterations': 20, 'primary_metric': 'normalized_root_mean_squared_error', 'task_type': 'regression', 'data_script': None, 'validation_size': 0.0, 'n_cross_validations': None, 'y_min': None, 'y_max': None, 'num_classes': None, 'featurization': 'auto', 'lag_length': 0, 'is_timeseries': False, 'max_cores_per_iteration': 1, 'max_concurrent_iterations': 10, 'iteration_timeout_minutes': 30, 'mem_in_mb': None, 'enforce_time_on_windows': False, 'experiment_timeout_minutes': 10080, 'experiment_exit_score': None, 'whitelist_models': None, 'blacklist_algos': ['XGBoostRegressor'], 'supported_models': ['DecisionTree', 'GradientBoosting', 'LassoLars', 'TensorFlowLinearRegressor', 'XGBoostRegressor', 'SGD', 'RandomForest', 'FastLinearRegressor', 'ElasticNet', 'LightGBM', 'OnlineGradientDescentRegressor', 'KNN', 'ExtremeRandomTrees', 'TensorFlowDNN'], 'auto_blacklist': True, 'blacklist_samples_reached': False, 'exclude_nan_labels': True, 'verbosity': 20, 'debug_log': 'azureml_automl.log', 'show_warnings': False, 'model_explainability': False, 'service_url': None, 'sdk_url': None, 'sdk_packages': None, 'enable_onnx_compatible_models': False, 'enable_split_onnx_featurizer_estimator_models': False, 'vm_type': 'STANDARD_D2_V2', 'telemetry_verbosity': 'INFO', 'send_telemetry': True, 'enable_dnn': False, 'force_text_dnn': False, 'enable_feature_sweeping': True, 'enable_early_stopping': False, 'early_stopping_n_iters': 10, 'metrics': None, 'enable_ensembling': True, 'enable_stack_ensembling': True, 'ensemble_iterations': 15, 'enable_tf': False, 'enable_cache': True, 'enable_subsampling': False, 'subsample_seed': None, 'enable_nimbusml': False, 'enable_streaming': False, 'force_streaming': False, 'label_column_name': 'totalAmount', 'weight_column_name': None, 'cost_mode': 1, 'metric_operation': 'minimize', 'preprocess': True, 'scenario': 'SDK'}\", \"AMLSettingsJsonString\": \"{\\\"name\\\": \\\"train-on-amlcompute-automl\\\", \\\"path\\\": \\\"aml_prj\\\", \\\"subscription_id\\\": \\\"6ee947fa-0d77-4915-bf68-4a83a8bec2a4\\\", \\\"resource_group\\\": \\\"mlops-rg\\\", \\\"workspace_name\\\": \\\"mlops-demo\\\", \\\"region\\\": \\\"westeurope\\\", \\\"compute_target\\\": \\\"azdemocluster\\\", \\\"spark_service\\\": null, \\\"azure_service\\\": \\\"Microsoft.AzureNotebookVM\\\", \\\"iterations\\\": 20, \\\"primary_metric\\\": \\\"normalized_root_mean_squared_error\\\", \\\"task_type\\\": \\\"regression\\\", \\\"data_script\\\": null, \\\"validation_size\\\": 0.0, \\\"n_cross_validations\\\": null, \\\"y_min\\\": null, \\\"y_max\\\": null, \\\"num_classes\\\": null, \\\"featurization\\\": \\\"auto\\\", \\\"lag_length\\\": 0, \\\"is_timeseries\\\": false, \\\"max_cores_per_iteration\\\": 1, \\\"max_concurrent_iterations\\\": 10, \\\"iteration_timeout_minutes\\\": 30, \\\"mem_in_mb\\\": null, \\\"enforce_time_on_windows\\\": false, \\\"experiment_timeout_minutes\\\": 10080, \\\"experiment_exit_score\\\": null, \\\"whitelist_models\\\": null, \\\"blacklist_algos\\\": [\\\"XGBoostRegressor\\\"], \\\"supported_models\\\": [\\\"DecisionTree\\\", \\\"GradientBoosting\\\", \\\"LassoLars\\\", \\\"TensorFlowLinearRegressor\\\", \\\"XGBoostRegressor\\\", \\\"SGD\\\", \\\"RandomForest\\\", \\\"FastLinearRegressor\\\", \\\"ElasticNet\\\", \\\"LightGBM\\\", \\\"OnlineGradientDescentRegressor\\\", \\\"KNN\\\", \\\"ExtremeRandomTrees\\\", \\\"TensorFlowDNN\\\"], \\\"auto_blacklist\\\": true, \\\"blacklist_samples_reached\\\": false, \\\"exclude_nan_labels\\\": true, \\\"verbosity\\\": 20, \\\"debug_log\\\": \\\"azureml_automl.log\\\", \\\"show_warnings\\\": false, \\\"model_explainability\\\": false, \\\"service_url\\\": null, \\\"sdk_url\\\": null, \\\"sdk_packages\\\": null, \\\"enable_onnx_compatible_models\\\": false, \\\"enable_split_onnx_featurizer_estimator_models\\\": false, \\\"vm_type\\\": \\\"STANDARD_D2_V2\\\", \\\"telemetry_verbosity\\\": \\\"INFO\\\", \\\"send_telemetry\\\": true, \\\"enable_dnn\\\": false, \\\"force_text_dnn\\\": false, \\\"enable_feature_sweeping\\\": true, \\\"enable_early_stopping\\\": false, \\\"early_stopping_n_iters\\\": 10, \\\"metrics\\\": null, \\\"enable_ensembling\\\": true, \\\"enable_stack_ensembling\\\": true, \\\"ensemble_iterations\\\": 15, \\\"enable_tf\\\": false, \\\"enable_cache\\\": true, \\\"enable_subsampling\\\": false, \\\"subsample_seed\\\": null, \\\"enable_nimbusml\\\": false, \\\"enable_streaming\\\": false, \\\"force_streaming\\\": false, \\\"label_column_name\\\": \\\"totalAmount\\\", \\\"weight_column_name\\\": null, \\\"cost_mode\\\": 1, \\\"metric_operation\\\": \\\"minimize\\\", \\\"preprocess\\\": true, \\\"scenario\\\": \\\"SDK\\\"}\", \"DataPrepJsonString\": \"{\\\\\\\"training_data\\\\\\\": \\\\\\\"{\\\\\\\\\\\\\\\"blocks\\\\\\\\\\\\\\\": [{\\\\\\\\\\\\\\\"id\\\\\\\\\\\\\\\": \\\\\\\\\\\\\\\"a08e6ee8-1785-46ae-bdba-5ee93dbec21c\\\\\\\\\\\\\\\", \\\\\\\\\\\\\\\"type\\\\\\\\\\\\\\\": \\\\\\\\\\\\\\\"Microsoft.DPrep.GetDatastoreFilesBlock\\\\\\\\\\\\\\\", \\\\\\\\\\\\\\\"arguments\\\\\\\\\\\\\\\": {\\\\\\\\\\\\\\\"datastores\\\\\\\\\\\\\\\": [{\\\\\\\\\\\\\\\"datastoreName\\\\\\\\\\\\\\\": \\\\\\\\\\\\\\\"workspaceblobstore\\\\\\\\\\\\\\\", \\\\\\\\\\\\\\\"path\\\\\\\\\\\\\\\": \\\\\\\\\\\\\\\"data/taxi_final_df_train.csv\\\\\\\\\\\\\\\", \\\\\\\\\\\\\\\"resourceGroup\\\\\\\\\\\\\\\": \\\\\\\\\\\\\\\"mlops-rg\\\\\\\\\\\\\\\", \\\\\\\\\\\\\\\"subscription\\\\\\\\\\\\\\\": \\\\\\\\\\\\\\\"6ee947fa-0d77-4915-bf68-4a83a8bec2a4\\\\\\\\\\\\\\\", \\\\\\\\\\\\\\\"workspaceName\\\\\\\\\\\\\\\": \\\\\\\\\\\\\\\"mlops-demo\\\\\\\\\\\\\\\"}]}, \\\\\\\\\\\\\\\"localData\\\\\\\\\\\\\\\": {}, \\\\\\\\\\\\\\\"isEnabled\\\\\\\\\\\\\\\": true, \\\\\\\\\\\\\\\"name\\\\\\\\\\\\\\\": null, \\\\\\\\\\\\\\\"annotation\\\\\\\\\\\\\\\": null}, {\\\\\\\\\\\\\\\"id\\\\\\\\\\\\\\\": \\\\\\\\\\\\\\\"85f3c341-b4dc-4aa9-8fb9-1ca220b16054\\\\\\\\\\\\\\\", \\\\\\\\\\\\\\\"type\\\\\\\\\\\\\\\": \\\\\\\\\\\\\\\"Microsoft.DPrep.ParseDelimitedBlock\\\\\\\\\\\\\\\", \\\\\\\\\\\\\\\"arguments\\\\\\\\\\\\\\\": {\\\\\\\\\\\\\\\"columnHeadersMode\\\\\\\\\\\\\\\": 3, \\\\\\\\\\\\\\\"fileEncoding\\\\\\\\\\\\\\\": 0, \\\\\\\\\\\\\\\"handleQuotedLineBreaks\\\\\\\\\\\\\\\": false, \\\\\\\\\\\\\\\"preview\\\\\\\\\\\\\\\": false, \\\\\\\\\\\\\\\"separator\\\\\\\\\\\\\\\": \\\\\\\\\\\\\\\",\\\\\\\\\\\\\\\", \\\\\\\\\\\\\\\"skipRows\\\\\\\\\\\\\\\": 0, \\\\\\\\\\\\\\\"skipRowsMode\\\\\\\\\\\\\\\": 0}, \\\\\\\\\\\\\\\"localData\\\\\\\\\\\\\\\": {}, \\\\\\\\\\\\\\\"isEnabled\\\\\\\\\\\\\\\": true, \\\\\\\\\\\\\\\"name\\\\\\\\\\\\\\\": null, \\\\\\\\\\\\\\\"annotation\\\\\\\\\\\\\\\": null}, {\\\\\\\\\\\\\\\"id\\\\\\\\\\\\\\\": \\\\\\\\\\\\\\\"c4bd7282-e1ae-4e97-a528-66df3992c7c6\\\\\\\\\\\\\\\", \\\\\\\\\\\\\\\"type\\\\\\\\\\\\\\\": \\\\\\\\\\\\\\\"Microsoft.DPrep.DropColumnsBlock\\\\\\\\\\\\\\\", \\\\\\\\\\\\\\\"arguments\\\\\\\\\\\\\\\": {\\\\\\\\\\\\\\\"columns\\\\\\\\\\\\\\\": {\\\\\\\\\\\\\\\"type\\\\\\\\\\\\\\\": 0, \\\\\\\\\\\\\\\"details\\\\\\\\\\\\\\\": {\\\\\\\\\\\\\\\"selectedColumns\\\\\\\\\\\\\\\": [\\\\\\\\\\\\\\\"Path\\\\\\\\\\\\\\\"]}}}, \\\\\\\\\\\\\\\"localData\\\\\\\\\\\\\\\": {}, \\\\\\\\\\\\\\\"isEnabled\\\\\\\\\\\\\\\": true, \\\\\\\\\\\\\\\"name\\\\\\\\\\\\\\\": null, \\\\\\\\\\\\\\\"annotation\\\\\\\\\\\\\\\": null}, {\\\\\\\\\\\\\\\"id\\\\\\\\\\\\\\\": \\\\\\\\\\\\\\\"cf286323-9908-4ac8-9d09-62d30ab83ba0\\\\\\\\\\\\\\\", \\\\\\\\\\\\\\\"type\\\\\\\\\\\\\\\": \\\\\\\\\\\\\\\"Microsoft.DPrep.SetColumnTypesBlock\\\\\\\\\\\\\\\", \\\\\\\\\\\\\\\"arguments\\\\\\\\\\\\\\\": {\\\\\\\\\\\\\\\"columnConversion\\\\\\\\\\\\\\\": [{\\\\\\\\\\\\\\\"column\\\\\\\\\\\\\\\": {\\\\\\\\\\\\\\\"type\\\\\\\\\\\\\\\": 2, \\\\\\\\\\\\\\\"details\\\\\\\\\\\\\\\": {\\\\\\\\\\\\\\\"selectedColumn\\\\\\\\\\\\\\\": \\\\\\\\\\\\\\\"vendorID\\\\\\\\\\\\\\\"}}, \\\\\\\\\\\\\\\"typeProperty\\\\\\\\\\\\\\\": 2}, {\\\\\\\\\\\\\\\"column\\\\\\\\\\\\\\\": {\\\\\\\\\\\\\\\"type\\\\\\\\\\\\\\\": 2, \\\\\\\\\\\\\\\"details\\\\\\\\\\\\\\\": {\\\\\\\\\\\\\\\"selectedColumn\\\\\\\\\\\\\\\": \\\\\\\\\\\\\\\"passengerCount\\\\\\\\\\\\\\\"}}, \\\\\\\\\\\\\\\"typeProperty\\\\\\\\\\\\\\\": 2}, {\\\\\\\\\\\\\\\"column\\\\\\\\\\\\\\\": {\\\\\\\\\\\\\\\"type\\\\\\\\\\\\\\\": 2, \\\\\\\\\\\\\\\"details\\\\\\\\\\\\\\\": {\\\\\\\\\\\\\\\"selectedColumn\\\\\\\\\\\\\\\": \\\\\\\\\\\\\\\"tripDistance\\\\\\\\\\\\\\\"}}, \\\\\\\\\\\\\\\"typeProperty\\\\\\\\\\\\\\\": 3}, {\\\\\\\\\\\\\\\"column\\\\\\\\\\\\\\\": {\\\\\\\\\\\\\\\"type\\\\\\\\\\\\\\\": 2, \\\\\\\\\\\\\\\"details\\\\\\\\\\\\\\\": {\\\\\\\\\\\\\\\"selectedColumn\\\\\\\\\\\\\\\": \\\\\\\\\\\\\\\"totalAmount\\\\\\\\\\\\\\\"}}, \\\\\\\\\\\\\\\"typeProperty\\\\\\\\\\\\\\\": 3}, {\\\\\\\\\\\\\\\"column\\\\\\\\\\\\\\\": {\\\\\\\\\\\\\\\"type\\\\\\\\\\\\\\\": 2, \\\\\\\\\\\\\\\"details\\\\\\\\\\\\\\\": {\\\\\\\\\\\\\\\"selectedColumn\\\\\\\\\\\\\\\": \\\\\\\\\\\\\\\"month_num\\\\\\\\\\\\\\\"}}, \\\\\\\\\\\\\\\"typeProperty\\\\\\\\\\\\\\\": 2}, {\\\\\\\\\\\\\\\"column\\\\\\\\\\\\\\\": {\\\\\\\\\\\\\\\"type\\\\\\\\\\\\\\\": 2, \\\\\\\\\\\\\\\"details\\\\\\\\\\\\\\\": {\\\\\\\\\\\\\\\"selectedColumn\\\\\\\\\\\\\\\": \\\\\\\\\\\\\\\"day_of_month\\\\\\\\\\\\\\\"}}, \\\\\\\\\\\\\\\"typeProperty\\\\\\\\\\\\\\\": 2}, {\\\\\\\\\\\\\\\"column\\\\\\\\\\\\\\\": {\\\\\\\\\\\\\\\"type\\\\\\\\\\\\\\\": 2, \\\\\\\\\\\\\\\"details\\\\\\\\\\\\\\\": {\\\\\\\\\\\\\\\"selectedColumn\\\\\\\\\\\\\\\": \\\\\\\\\\\\\\\"day_of_week\\\\\\\\\\\\\\\"}}, \\\\\\\\\\\\\\\"typeProperty\\\\\\\\\\\\\\\": 2}, {\\\\\\\\\\\\\\\"column\\\\\\\\\\\\\\\": {\\\\\\\\\\\\\\\"type\\\\\\\\\\\\\\\": 2, \\\\\\\\\\\\\\\"details\\\\\\\\\\\\\\\": {\\\\\\\\\\\\\\\"selectedColumn\\\\\\\\\\\\\\\": \\\\\\\\\\\\\\\"hour_of_day\\\\\\\\\\\\\\\"}}, \\\\\\\\\\\\\\\"typeProperty\\\\\\\\\\\\\\\": 2}]}, \\\\\\\\\\\\\\\"localData\\\\\\\\\\\\\\\": {}, \\\\\\\\\\\\\\\"isEnabled\\\\\\\\\\\\\\\": true, \\\\\\\\\\\\\\\"name\\\\\\\\\\\\\\\": null, \\\\\\\\\\\\\\\"annotation\\\\\\\\\\\\\\\": null}], \\\\\\\\\\\\\\\"inspectors\\\\\\\\\\\\\\\": [], \\\\\\\\\\\\\\\"meta\\\\\\\\\\\\\\\": {\\\\\\\\\\\\\\\"steps_added\\\\\\\\\\\\\\\": \\\\\\\\\\\\\\\"4\\\\\\\\\\\\\\\"}}\\\\\\\", \\\\\\\"validation_data\\\\\\\": \\\\\\\"{\\\\\\\\\\\\\\\"blocks\\\\\\\\\\\\\\\": [{\\\\\\\\\\\\\\\"id\\\\\\\\\\\\\\\": \\\\\\\\\\\\\\\"9f0ddd55-1fb6-40a1-baba-6a3061e7e1db\\\\\\\\\\\\\\\", \\\\\\\\\\\\\\\"type\\\\\\\\\\\\\\\": \\\\\\\\\\\\\\\"Microsoft.DPrep.GetDatastoreFilesBlock\\\\\\\\\\\\\\\", \\\\\\\\\\\\\\\"arguments\\\\\\\\\\\\\\\": {\\\\\\\\\\\\\\\"datastores\\\\\\\\\\\\\\\": [{\\\\\\\\\\\\\\\"datastoreName\\\\\\\\\\\\\\\": \\\\\\\\\\\\\\\"workspaceblobstore\\\\\\\\\\\\\\\", \\\\\\\\\\\\\\\"path\\\\\\\\\\\\\\\": \\\\\\\\\\\\\\\"data/taxi_final_df_train.csv\\\\\\\\\\\\\\\", \\\\\\\\\\\\\\\"resourceGroup\\\\\\\\\\\\\\\": \\\\\\\\\\\\\\\"mlops-rg\\\\\\\\\\\\\\\", \\\\\\\\\\\\\\\"subscription\\\\\\\\\\\\\\\": \\\\\\\\\\\\\\\"6ee947fa-0d77-4915-bf68-4a83a8bec2a4\\\\\\\\\\\\\\\", \\\\\\\\\\\\\\\"workspaceName\\\\\\\\\\\\\\\": \\\\\\\\\\\\\\\"mlops-demo\\\\\\\\\\\\\\\"}]}, \\\\\\\\\\\\\\\"localData\\\\\\\\\\\\\\\": {}, \\\\\\\\\\\\\\\"isEnabled\\\\\\\\\\\\\\\": true, \\\\\\\\\\\\\\\"name\\\\\\\\\\\\\\\": null, \\\\\\\\\\\\\\\"annotation\\\\\\\\\\\\\\\": null}, {\\\\\\\\\\\\\\\"id\\\\\\\\\\\\\\\": \\\\\\\\\\\\\\\"3f1e2c33-b8bd-4e91-9ffb-fe6d5eb646bb\\\\\\\\\\\\\\\", \\\\\\\\\\\\\\\"type\\\\\\\\\\\\\\\": \\\\\\\\\\\\\\\"Microsoft.DPrep.ParseDelimitedBlock\\\\\\\\\\\\\\\", \\\\\\\\\\\\\\\"arguments\\\\\\\\\\\\\\\": {\\\\\\\\\\\\\\\"columnHeadersMode\\\\\\\\\\\\\\\": 3, \\\\\\\\\\\\\\\"fileEncoding\\\\\\\\\\\\\\\": 0, \\\\\\\\\\\\\\\"handleQuotedLineBreaks\\\\\\\\\\\\\\\": false, \\\\\\\\\\\\\\\"preview\\\\\\\\\\\\\\\": false, \\\\\\\\\\\\\\\"separator\\\\\\\\\\\\\\\": \\\\\\\\\\\\\\\",\\\\\\\\\\\\\\\", \\\\\\\\\\\\\\\"skipRows\\\\\\\\\\\\\\\": 0, \\\\\\\\\\\\\\\"skipRowsMode\\\\\\\\\\\\\\\": 0}, \\\\\\\\\\\\\\\"localData\\\\\\\\\\\\\\\": {}, \\\\\\\\\\\\\\\"isEnabled\\\\\\\\\\\\\\\": true, \\\\\\\\\\\\\\\"name\\\\\\\\\\\\\\\": null, \\\\\\\\\\\\\\\"annotation\\\\\\\\\\\\\\\": null}, {\\\\\\\\\\\\\\\"id\\\\\\\\\\\\\\\": \\\\\\\\\\\\\\\"4405322f-a9bb-4418-945c-f111e23a170c\\\\\\\\\\\\\\\", \\\\\\\\\\\\\\\"type\\\\\\\\\\\\\\\": \\\\\\\\\\\\\\\"Microsoft.DPrep.DropColumnsBlock\\\\\\\\\\\\\\\", \\\\\\\\\\\\\\\"arguments\\\\\\\\\\\\\\\": {\\\\\\\\\\\\\\\"columns\\\\\\\\\\\\\\\": {\\\\\\\\\\\\\\\"type\\\\\\\\\\\\\\\": 0, \\\\\\\\\\\\\\\"details\\\\\\\\\\\\\\\": {\\\\\\\\\\\\\\\"selectedColumns\\\\\\\\\\\\\\\": [\\\\\\\\\\\\\\\"Path\\\\\\\\\\\\\\\"]}}}, \\\\\\\\\\\\\\\"localData\\\\\\\\\\\\\\\": {}, \\\\\\\\\\\\\\\"isEnabled\\\\\\\\\\\\\\\": true, \\\\\\\\\\\\\\\"name\\\\\\\\\\\\\\\": null, \\\\\\\\\\\\\\\"annotation\\\\\\\\\\\\\\\": null}, {\\\\\\\\\\\\\\\"id\\\\\\\\\\\\\\\": \\\\\\\\\\\\\\\"415fb334-04df-47ca-bd85-da70f561e133\\\\\\\\\\\\\\\", \\\\\\\\\\\\\\\"type\\\\\\\\\\\\\\\": \\\\\\\\\\\\\\\"Microsoft.DPrep.SetColumnTypesBlock\\\\\\\\\\\\\\\", \\\\\\\\\\\\\\\"arguments\\\\\\\\\\\\\\\": {\\\\\\\\\\\\\\\"columnConversion\\\\\\\\\\\\\\\": [{\\\\\\\\\\\\\\\"column\\\\\\\\\\\\\\\": {\\\\\\\\\\\\\\\"type\\\\\\\\\\\\\\\": 2, \\\\\\\\\\\\\\\"details\\\\\\\\\\\\\\\": {\\\\\\\\\\\\\\\"selectedColumn\\\\\\\\\\\\\\\": \\\\\\\\\\\\\\\"vendorID\\\\\\\\\\\\\\\"}}, \\\\\\\\\\\\\\\"typeProperty\\\\\\\\\\\\\\\": 2}, {\\\\\\\\\\\\\\\"column\\\\\\\\\\\\\\\": {\\\\\\\\\\\\\\\"type\\\\\\\\\\\\\\\": 2, \\\\\\\\\\\\\\\"details\\\\\\\\\\\\\\\": {\\\\\\\\\\\\\\\"selectedColumn\\\\\\\\\\\\\\\": \\\\\\\\\\\\\\\"passengerCount\\\\\\\\\\\\\\\"}}, \\\\\\\\\\\\\\\"typeProperty\\\\\\\\\\\\\\\": 2}, {\\\\\\\\\\\\\\\"column\\\\\\\\\\\\\\\": {\\\\\\\\\\\\\\\"type\\\\\\\\\\\\\\\": 2, \\\\\\\\\\\\\\\"details\\\\\\\\\\\\\\\": {\\\\\\\\\\\\\\\"selectedColumn\\\\\\\\\\\\\\\": \\\\\\\\\\\\\\\"tripDistance\\\\\\\\\\\\\\\"}}, \\\\\\\\\\\\\\\"typeProperty\\\\\\\\\\\\\\\": 3}, {\\\\\\\\\\\\\\\"column\\\\\\\\\\\\\\\": {\\\\\\\\\\\\\\\"type\\\\\\\\\\\\\\\": 2, \\\\\\\\\\\\\\\"details\\\\\\\\\\\\\\\": {\\\\\\\\\\\\\\\"selectedColumn\\\\\\\\\\\\\\\": \\\\\\\\\\\\\\\"totalAmount\\\\\\\\\\\\\\\"}}, \\\\\\\\\\\\\\\"typeProperty\\\\\\\\\\\\\\\": 3}, {\\\\\\\\\\\\\\\"column\\\\\\\\\\\\\\\": {\\\\\\\\\\\\\\\"type\\\\\\\\\\\\\\\": 2, \\\\\\\\\\\\\\\"details\\\\\\\\\\\\\\\": {\\\\\\\\\\\\\\\"selectedColumn\\\\\\\\\\\\\\\": \\\\\\\\\\\\\\\"month_num\\\\\\\\\\\\\\\"}}, \\\\\\\\\\\\\\\"typeProperty\\\\\\\\\\\\\\\": 2}, {\\\\\\\\\\\\\\\"column\\\\\\\\\\\\\\\": {\\\\\\\\\\\\\\\"type\\\\\\\\\\\\\\\": 2, \\\\\\\\\\\\\\\"details\\\\\\\\\\\\\\\": {\\\\\\\\\\\\\\\"selectedColumn\\\\\\\\\\\\\\\": \\\\\\\\\\\\\\\"day_of_month\\\\\\\\\\\\\\\"}}, \\\\\\\\\\\\\\\"typeProperty\\\\\\\\\\\\\\\": 2}, {\\\\\\\\\\\\\\\"column\\\\\\\\\\\\\\\": {\\\\\\\\\\\\\\\"type\\\\\\\\\\\\\\\": 2, \\\\\\\\\\\\\\\"details\\\\\\\\\\\\\\\": {\\\\\\\\\\\\\\\"selectedColumn\\\\\\\\\\\\\\\": \\\\\\\\\\\\\\\"day_of_week\\\\\\\\\\\\\\\"}}, \\\\\\\\\\\\\\\"typeProperty\\\\\\\\\\\\\\\": 2}, {\\\\\\\\\\\\\\\"column\\\\\\\\\\\\\\\": {\\\\\\\\\\\\\\\"type\\\\\\\\\\\\\\\": 2, \\\\\\\\\\\\\\\"details\\\\\\\\\\\\\\\": {\\\\\\\\\\\\\\\"selectedColumn\\\\\\\\\\\\\\\": \\\\\\\\\\\\\\\"hour_of_day\\\\\\\\\\\\\\\"}}, \\\\\\\\\\\\\\\"typeProperty\\\\\\\\\\\\\\\": 2}]}, \\\\\\\\\\\\\\\"localData\\\\\\\\\\\\\\\": {}, \\\\\\\\\\\\\\\"isEnabled\\\\\\\\\\\\\\\": true, \\\\\\\\\\\\\\\"name\\\\\\\\\\\\\\\": null, \\\\\\\\\\\\\\\"annotation\\\\\\\\\\\\\\\": null}], \\\\\\\\\\\\\\\"inspectors\\\\\\\\\\\\\\\": [], \\\\\\\\\\\\\\\"meta\\\\\\\\\\\\\\\": {\\\\\\\\\\\\\\\"steps_added\\\\\\\\\\\\\\\": \\\\\\\\\\\\\\\"4\\\\\\\\\\\\\\\"}}\\\\\\\", \\\\\\\"activities\\\\\\\": 0}\", \"EnableSubsampling\": \"False\", \"runTemplate\": \"AutoML\", \"azureml.runsource\": \"automl\", \"display_task_type\": \"regression\", \"dependencies_versions\": \"{\\\"azureml-widgets\\\": \\\"1.2.0\\\", \\\"azureml-train\\\": \\\"1.2.0\\\", \\\"azureml-train-restclients-hyperdrive\\\": \\\"1.2.0\\\", \\\"azureml-train-core\\\": \\\"1.2.0\\\", \\\"azureml-train-automl\\\": \\\"1.2.0\\\", \\\"azureml-train-automl-runtime\\\": \\\"1.2.0\\\", \\\"azureml-train-automl-client\\\": \\\"1.2.0\\\", \\\"azureml-tensorboard\\\": \\\"1.2.0\\\", \\\"azureml-telemetry\\\": \\\"1.2.0\\\", \\\"azureml-sdk\\\": \\\"1.2.0\\\", \\\"azureml-samples\\\": \\\"0+unknown\\\", \\\"azureml-pipeline\\\": \\\"1.2.0\\\", \\\"azureml-pipeline-steps\\\": \\\"1.2.0\\\", \\\"azureml-pipeline-core\\\": \\\"1.2.0\\\", \\\"azureml-opendatasets\\\": \\\"1.2.0\\\", \\\"azureml-model-management-sdk\\\": \\\"1.0.1b6.post1\\\", \\\"azureml-mlflow\\\": \\\"1.0.83\\\", \\\"azureml-interpret\\\": \\\"1.2.0\\\", \\\"azureml-explain-model\\\": \\\"1.2.0\\\", \\\"azureml-defaults\\\": \\\"1.2.0\\\", \\\"azureml-dataprep\\\": \\\"1.3.6\\\", \\\"azureml-dataprep-native\\\": \\\"14.1.0\\\", \\\"azureml-datadrift\\\": \\\"1.2.0\\\", \\\"azureml-core\\\": \\\"1.2.0.post1\\\", \\\"azureml-contrib-services\\\": \\\"1.0.83\\\", \\\"azureml-contrib-server\\\": \\\"1.0.83\\\", \\\"azureml-contrib-reinforcementlearning\\\": \\\"1.0.83\\\", \\\"azureml-contrib-pipeline-steps\\\": \\\"1.0.83\\\", \\\"azureml-contrib-notebook\\\": \\\"1.2.0\\\", \\\"azureml-contrib-interpret\\\": \\\"1.0.83\\\", \\\"azureml-contrib-datadrift\\\": \\\"1.0.83\\\", \\\"azureml-automl-runtime\\\": \\\"1.2.0\\\", \\\"azureml-automl-core\\\": \\\"1.2.0\\\"}\", \"ClientType\": \"SDK\", \"ClientSdkVersion\": \"1.2.0\", \"environment_cpu_name\": \"\", \"environment_cpu_version\": \"\", \"environment_gpu_name\": \"\", \"environment_gpu_version\": \"\", \"ContentSnapshotId\": \"8416dc2d-00c8-47ee-88bb-de75687fd6c0\", \"snapshotId\": \"8416dc2d-00c8-47ee-88bb-de75687fd6c0\", \"azureml.git.repository_uri\": \"https://github.com/michalmar/azure-labs.git\", \"mlflow.source.git.repoURL\": \"https://github.com/michalmar/azure-labs.git\", \"azureml.git.branch\": \"master\", \"mlflow.source.git.branch\": \"master\", \"azureml.git.commit\": \"ebf31936e9301353ea833b3c7bbb4d18439b3c92\", \"mlflow.source.git.commit\": \"ebf31936e9301353ea833b3c7bbb4d18439b3c92\", \"azureml.git.dirty\": \"True\", \"SetupRunId\": \"AutoML_a4f60998-c589-4e25-98b9-69e982f6aef7_setup\", \"SetupRunContainerId\": \"dcid.AutoML_a4f60998-c589-4e25-98b9-69e982f6aef7_setup\", \"ProblemInfoJsonString\": \"{\\\"dataset_num_categorical\\\": 0, \\\"is_sparse\\\": false, \\\"subsampling\\\": false, \\\"dataset_classes\\\": 1000, \\\"dataset_features\\\": 7, \\\"dataset_samples\\\": 18612, \\\"single_frequency_class_detected\\\": false}\"}, \"tags\": {\"model_explain_run\": \"best_run\", \"pipeline_id\": \"<fc6f4d010236909cda7b874457942eb2fc31ccdc>;<6b224ce426beccd1245ad9f8effc592037766de8>;<39b7cb76de28be0ff8cc4019d6a91581fd78e091>;<faf12f74cf9bbd358ca5525682c5030d36f7be7c>;<556664b7f5b4dfa8d913b971876bc80e41c8fe8d>;<32df138275f39f2b0ba907646396aa556f989aa2>;<38c6f777cddc27ca5b2611ea36fb52cdc93bf3dd>;<fdcc98506cac91f581e9b6cec9f9daa482221f29>;<eab9aabedd9e12cce841846f250ee210ad2290b2>;<20f1df2fc8440a1f2a730b2da66fa3f61a73de6f>;<6cb59fbe3daa775d378fc310e131b9af778cbb79>;<fe6f98be1450776d985fc5790daf14b34df1914c>;<ea84c69e4cd7c68a00aee8ca61189201f080011f>;<ba1000355025c218abaf079ee77835fe5899ec63>;<d05d0fe3162efc3dc6f99f8fa72e40c97f668bbd>;<4b8cd7ecde55492cf90f7ce465dfbb16193e0907>;<88558a623abf8eb359a15a4d4678665909a9c546>;<bed23a38f720a3386d00fdab5790f4f3cc8fcdd8>;<__AutoML_Ensemble__>;<__AutoML_Stack_Ensemble__>;\", \"score\": \"<0.0124372111832601>;<0.0159206699667239>;<0.0129747227096526>;<0.0104968058707144>;<0.0144716178477568>;<0.0124190376917774>;<0.01246285856313>;<0.0124542912571731>;<0.012530978629822>;<0.0125830847977622>;<0.0142481647241539>;<0.0148672654174692>;<0.0143197230873246>;<0.0184543450727775>;<0.0122637336564226>;<0.0124372110411194>;<0.0155179962865834>;<0.0140354503468471>;<0.0104968058707144>;<0.0104840817148644>;\", \"predicted_cost\": \"<0.5>;<0.5>;<0.5>;<0>;<0.5>;<0.5>;<0.5>;<0.5>;<0.5>;<0.5>;<0.0638032978770444>;<0.104371272210468>;<0.0749191673790373>;<0.0718981152069067>;<0.0932095274531528>;<0.0945127992856935>;<0.1088459350628>;<0.134696922346807>;<0>;<0>;\", \"fit_time\": \"<0.071295>;<0.124469>;<0.081506>;<0.362944>;<0.314189>;<0.11494>;<0.069011>;<0.065492>;<0.066816>;<0.090804>;<0.01702>;<0.211549>;<0.075966>;<0.022834>;<0.034233>;<0.081838>;<0.069627>;<0.121216>;<7>;<6>;\", \"training_percent\": \"<100>;<100>;<100>;<100>;<100>;<100>;<100>;<100>;<100>;<100>;<100>;<100>;<100>;<100>;<100>;<100>;<100>;<100>;<100>;<100>;\", \"iteration\": \"<9>;<8>;<5>;<0>;<7>;<2>;<3>;<1>;<6>;<4>;<10>;<11>;<12>;<13>;<15>;<14>;<16>;<17>;<18>;<19>;\", \"run_preprocessor\": \"<StandardScalerWrapper>;<StandardScalerWrapper>;<StandardScalerWrapper>;<MaxAbsScaler>;<StandardScalerWrapper>;<StandardScalerWrapper>;<RobustScaler>;<StandardScalerWrapper>;<StandardScalerWrapper>;<StandardScalerWrapper>;<MinMaxScaler>;<MaxAbsScaler>;<MaxAbsScaler>;<MinMaxScaler>;<StandardScalerWrapper>;<StandardScalerWrapper>;<MaxAbsScaler>;<MinMaxScaler>;<>;<>;\", \"run_algorithm\": \"<LassoLars>;<LightGBM>;<ElasticNet>;<LightGBM>;<RandomForest>;<ElasticNet>;<ElasticNet>;<ElasticNet>;<ElasticNet>;<ElasticNet>;<DecisionTree>;<RandomForest>;<DecisionTree>;<DecisionTree>;<DecisionTree>;<ElasticNet>;<DecisionTree>;<ExtremeRandomTrees>;<VotingEnsemble>;<StackEnsemble>;\"}, \"end_time_utc\": \"2020-04-05T20:54:15.723623Z\", \"status\": \"Completed\", \"log_files\": {}, \"log_groups\": [], \"run_duration\": \"0:12:58\"}, \"child_runs\": [{\"run_id\": \"AutoML_a4f60998-c589-4e25-98b9-69e982f6aef7_0\", \"run_number\": 27, \"metric\": null, \"status\": \"Completed\", \"run_type\": \"azureml.scriptrun\", \"training_percent\": \"100\", \"start_time\": \"2020-04-05T20:44:07.459856Z\", \"end_time\": \"2020-04-05T20:46:22.723963Z\", \"created_time\": \"2020-04-05T20:43:31.687684Z\", \"created_time_dt\": \"2020-04-05T20:43:31.687684Z\", \"duration\": \"0:02:51\", \"iteration\": \"0\", \"goal\": \"normalized_root_mean_squared_error_min\", \"run_name\": \"MaxAbsScaler, LightGBM\", \"run_properties\": \"copy=True\", \"primary_metric\": 0.01049681, \"best_metric\": 0.01049681}, {\"run_id\": \"AutoML_a4f60998-c589-4e25-98b9-69e982f6aef7_7\", \"run_number\": 28, \"metric\": null, \"status\": \"Completed\", \"run_type\": \"azureml.scriptrun\", \"training_percent\": \"100\", \"start_time\": \"2020-04-05T20:45:53.928316Z\", \"end_time\": \"2020-04-05T20:47:40.067392Z\", \"created_time\": \"2020-04-05T20:43:31.875393Z\", \"created_time_dt\": \"2020-04-05T20:43:31.875393Z\", \"duration\": \"0:04:08\", \"iteration\": \"7\", \"goal\": \"normalized_root_mean_squared_error_min\", \"run_name\": \"StandardScalerWrapper, RandomForest\", \"run_properties\": \"<azureml.automl.runtime.shared.model_wrappers.StandardScalerWrapper object at 0x7f58b3090390\", \"primary_metric\": 0.01447162, \"best_metric\": 0.01049681}, {\"run_id\": \"AutoML_a4f60998-c589-4e25-98b9-69e982f6aef7_6\", \"run_number\": 29, \"metric\": null, \"status\": \"Completed\", \"run_type\": \"azureml.scriptrun\", \"training_percent\": \"100\", \"start_time\": \"2020-04-05T20:44:11.341176Z\", \"end_time\": \"2020-04-05T20:48:26.609623Z\", \"created_time\": \"2020-04-05T20:43:31.895544Z\", \"created_time_dt\": \"2020-04-05T20:43:31.895544Z\", \"duration\": \"0:04:54\", \"iteration\": \"6\", \"goal\": \"normalized_root_mean_squared_error_min\", \"run_name\": \"StandardScalerWrapper, ElasticNet\", \"run_properties\": \"<azureml.automl.runtime.shared.model_wrappers.StandardScalerWrapper object at 0x7fc1fd8b98d0\", \"primary_metric\": 0.01253098, \"best_metric\": 0.01049681}, {\"run_id\": \"AutoML_a4f60998-c589-4e25-98b9-69e982f6aef7_9\", \"run_number\": 30, \"metric\": null, \"status\": \"Completed\", \"run_type\": \"azureml.scriptrun\", \"training_percent\": \"100\", \"start_time\": \"2020-04-05T20:44:09.92608Z\", \"end_time\": \"2020-04-05T20:45:52.53838Z\", \"created_time\": \"2020-04-05T20:43:31.920779Z\", \"created_time_dt\": \"2020-04-05T20:43:31.920779Z\", \"duration\": \"0:02:20\", \"iteration\": \"9\", \"goal\": \"normalized_root_mean_squared_error_min\", \"run_name\": \"StandardScalerWrapper, LassoLars\", \"run_properties\": \"<azureml.automl.runtime.shared.model_wrappers.StandardScalerWrapper object at 0x7f3a72893860\", \"primary_metric\": 0.01243721, \"best_metric\": 0.01049681}, {\"run_id\": \"AutoML_a4f60998-c589-4e25-98b9-69e982f6aef7_2\", \"run_number\": 31, \"metric\": null, \"status\": \"Completed\", \"run_type\": \"azureml.scriptrun\", \"training_percent\": \"100\", \"start_time\": \"2020-04-05T20:45:55.997468Z\", \"end_time\": \"2020-04-05T20:47:43.257248Z\", \"created_time\": \"2020-04-05T20:43:31.895301Z\", \"created_time_dt\": \"2020-04-05T20:43:31.895301Z\", \"duration\": \"0:04:11\", \"iteration\": \"2\", \"goal\": \"normalized_root_mean_squared_error_min\", \"run_name\": \"StandardScalerWrapper, ElasticNet\", \"run_properties\": \"<azureml.automl.runtime.shared.model_wrappers.StandardScalerWrapper object at 0x7fbec953bc88\", \"primary_metric\": 0.01241904, \"best_metric\": 0.01049681}, {\"run_id\": \"AutoML_a4f60998-c589-4e25-98b9-69e982f6aef7_4\", \"run_number\": 32, \"metric\": null, \"status\": \"Completed\", \"run_type\": \"azureml.scriptrun\", \"training_percent\": \"100\", \"start_time\": \"2020-04-05T20:47:41.895862Z\", \"end_time\": \"2020-04-05T20:49:25.984599Z\", \"created_time\": \"2020-04-05T20:43:31.929938Z\", \"created_time_dt\": \"2020-04-05T20:43:31.929938Z\", \"duration\": \"0:05:54\", \"iteration\": \"4\", \"goal\": \"normalized_root_mean_squared_error_min\", \"run_name\": \"StandardScalerWrapper, ElasticNet\", \"run_properties\": \"<azureml.automl.runtime.shared.model_wrappers.StandardScalerWrapper object at 0x7f7679d7ac18\", \"primary_metric\": 0.01258308, \"best_metric\": 0.01049681}, {\"run_id\": \"AutoML_a4f60998-c589-4e25-98b9-69e982f6aef7_8\", \"run_number\": 33, \"metric\": null, \"status\": \"Completed\", \"run_type\": \"azureml.scriptrun\", \"training_percent\": \"100\", \"start_time\": \"2020-04-05T20:44:05.754376Z\", \"end_time\": \"2020-04-05T20:45:51.702121Z\", \"created_time\": \"2020-04-05T20:43:31.885156Z\", \"created_time_dt\": \"2020-04-05T20:43:31.885156Z\", \"duration\": \"0:02:19\", \"iteration\": \"8\", \"goal\": \"normalized_root_mean_squared_error_min\", \"run_name\": \"StandardScalerWrapper, LightGBM\", \"run_properties\": \"<azureml.automl.runtime.shared.model_wrappers.StandardScalerWrapper object at 0x7fa1e6193c18\", \"primary_metric\": 0.01592067, \"best_metric\": 0.01049681}, {\"run_id\": \"AutoML_a4f60998-c589-4e25-98b9-69e982f6aef7_3\", \"run_number\": 34, \"metric\": null, \"status\": \"Completed\", \"run_type\": \"azureml.scriptrun\", \"training_percent\": \"100\", \"start_time\": \"2020-04-05T20:46:13.612118Z\", \"end_time\": \"2020-04-05T20:47:51.271377Z\", \"created_time\": \"2020-04-05T20:43:31.880142Z\", \"created_time_dt\": \"2020-04-05T20:43:31.880142Z\", \"duration\": \"0:04:19\", \"iteration\": \"3\", \"goal\": \"normalized_root_mean_squared_error_min\", \"run_name\": \"RobustScaler, ElasticNet\", \"run_properties\": \"copy=True, quantile_range=[25, 75], with_centering=True,\\n       with_scaling=False\", \"primary_metric\": 0.01246286, \"best_metric\": 0.01049681}, {\"run_id\": \"AutoML_a4f60998-c589-4e25-98b9-69e982f6aef7_1\", \"run_number\": 35, \"metric\": null, \"status\": \"Completed\", \"run_type\": \"azureml.scriptrun\", \"training_percent\": \"100\", \"start_time\": \"2020-04-05T20:46:23.854279Z\", \"end_time\": \"2020-04-05T20:48:10.231213Z\", \"created_time\": \"2020-04-05T20:43:31.90456Z\", \"created_time_dt\": \"2020-04-05T20:43:31.90456Z\", \"duration\": \"0:04:38\", \"iteration\": \"1\", \"goal\": \"normalized_root_mean_squared_error_min\", \"run_name\": \"StandardScalerWrapper, ElasticNet\", \"run_properties\": \"<azureml.automl.runtime.shared.model_wrappers.StandardScalerWrapper object at 0x7f6491d9b4a8\", \"primary_metric\": 0.01245429, \"best_metric\": 0.01049681}, {\"run_id\": \"AutoML_a4f60998-c589-4e25-98b9-69e982f6aef7_5\", \"run_number\": 36, \"metric\": null, \"status\": \"Completed\", \"run_type\": \"azureml.scriptrun\", \"training_percent\": \"100\", \"start_time\": \"2020-04-05T20:44:06.861209Z\", \"end_time\": \"2020-04-05T20:46:09.105003Z\", \"created_time\": \"2020-04-05T20:43:31.875311Z\", \"created_time_dt\": \"2020-04-05T20:43:31.875311Z\", \"duration\": \"0:02:37\", \"iteration\": \"5\", \"goal\": \"normalized_root_mean_squared_error_min\", \"run_name\": \"StandardScalerWrapper, ElasticNet\", \"run_properties\": \"<azureml.automl.runtime.shared.model_wrappers.StandardScalerWrapper object at 0x7f60966c7f98\", \"primary_metric\": 0.01297472, \"best_metric\": 0.01049681}, {\"run_id\": \"AutoML_a4f60998-c589-4e25-98b9-69e982f6aef7_10\", \"run_number\": 37, \"metric\": null, \"status\": \"Completed\", \"run_type\": \"azureml.scriptrun\", \"training_percent\": \"100\", \"start_time\": \"2020-04-05T20:47:41.133103Z\", \"end_time\": \"2020-04-05T20:49:25.39102Z\", \"created_time\": \"2020-04-05T20:45:58.481298Z\", \"created_time_dt\": \"2020-04-05T20:45:58.481298Z\", \"duration\": \"0:03:26\", \"iteration\": \"10\", \"goal\": \"normalized_root_mean_squared_error_min\", \"run_name\": \"MinMaxScaler, DecisionTree\", \"run_properties\": \"copy=True, feature_range=(0, 1\", \"primary_metric\": 0.01424816, \"best_metric\": 0.01049681}, {\"run_id\": \"AutoML_a4f60998-c589-4e25-98b9-69e982f6aef7_11\", \"run_number\": 38, \"metric\": null, \"status\": \"Completed\", \"run_type\": \"azureml.scriptrun\", \"training_percent\": \"100\", \"start_time\": \"2020-04-05T20:47:52.967526Z\", \"end_time\": \"2020-04-05T20:49:31.559068Z\", \"created_time\": \"2020-04-05T20:45:58.482611Z\", \"created_time_dt\": \"2020-04-05T20:45:58.482611Z\", \"duration\": \"0:03:33\", \"iteration\": \"11\", \"goal\": \"normalized_root_mean_squared_error_min\", \"run_name\": \"MaxAbsScaler, RandomForest\", \"run_properties\": \"copy=True\", \"primary_metric\": 0.01486727, \"best_metric\": 0.01049681}, {\"run_id\": \"AutoML_a4f60998-c589-4e25-98b9-69e982f6aef7_12\", \"run_number\": 39, \"metric\": null, \"status\": \"Completed\", \"run_type\": \"azureml.scriptrun\", \"training_percent\": \"100\", \"start_time\": \"2020-04-05T20:48:07.629167Z\", \"end_time\": \"2020-04-05T20:49:56.277895Z\", \"created_time\": \"2020-04-05T20:46:15.980158Z\", \"created_time_dt\": \"2020-04-05T20:46:15.980158Z\", \"duration\": \"0:03:40\", \"iteration\": \"12\", \"goal\": \"normalized_root_mean_squared_error_min\", \"run_name\": \"MaxAbsScaler, DecisionTree\", \"run_properties\": \"copy=True\", \"primary_metric\": 0.01431972, \"best_metric\": 0.01049681}, {\"run_id\": \"AutoML_a4f60998-c589-4e25-98b9-69e982f6aef7_13\", \"run_number\": 40, \"metric\": null, \"status\": \"Completed\", \"run_type\": \"azureml.scriptrun\", \"training_percent\": \"100\", \"start_time\": \"2020-04-05T20:48:28.246557Z\", \"end_time\": \"2020-04-05T20:50:23.504255Z\", \"created_time\": \"2020-04-05T20:46:32.522571Z\", \"created_time_dt\": \"2020-04-05T20:46:32.522571Z\", \"duration\": \"0:03:50\", \"iteration\": \"13\", \"goal\": \"normalized_root_mean_squared_error_min\", \"run_name\": \"MinMaxScaler, DecisionTree\", \"run_properties\": \"copy=True, feature_range=(0, 1\", \"primary_metric\": 0.01845435, \"best_metric\": 0.01049681}, {\"run_id\": \"AutoML_a4f60998-c589-4e25-98b9-69e982f6aef7_15\", \"run_number\": 41, \"metric\": null, \"status\": \"Completed\", \"run_type\": \"azureml.scriptrun\", \"training_percent\": \"100\", \"start_time\": \"2020-04-05T20:49:30.594123Z\", \"end_time\": \"2020-04-05T20:51:09.532489Z\", \"created_time\": \"2020-04-05T20:47:51.456944Z\", \"created_time_dt\": \"2020-04-05T20:47:51.456944Z\", \"duration\": \"0:03:18\", \"iteration\": \"15\", \"goal\": \"normalized_root_mean_squared_error_min\", \"run_name\": \"StandardScalerWrapper, DecisionTree\", \"run_properties\": \"<azureml.automl.runtime.shared.model_wrappers.StandardScalerWrapper object at 0x7fc7a7e09630\", \"primary_metric\": 0.01226373, \"best_metric\": 0.01049681}, {\"run_id\": \"AutoML_a4f60998-c589-4e25-98b9-69e982f6aef7_14\", \"run_number\": 42, \"metric\": null, \"status\": \"Completed\", \"run_type\": \"azureml.scriptrun\", \"training_percent\": \"100\", \"start_time\": \"2020-04-05T20:49:28.731723Z\", \"end_time\": \"2020-04-05T20:51:11.439194Z\", \"created_time\": \"2020-04-05T20:47:51.606846Z\", \"created_time_dt\": \"2020-04-05T20:47:51.606846Z\", \"duration\": \"0:03:19\", \"iteration\": \"14\", \"goal\": \"normalized_root_mean_squared_error_min\", \"run_name\": \"StandardScalerWrapper, ElasticNet\", \"run_properties\": \"<azureml.automl.runtime.shared.model_wrappers.StandardScalerWrapper object at 0x7f1dd5593400\", \"primary_metric\": 0.01243721, \"best_metric\": 0.01049681}, {\"run_id\": \"AutoML_a4f60998-c589-4e25-98b9-69e982f6aef7_16\", \"run_number\": 43, \"metric\": null, \"status\": \"Completed\", \"run_type\": \"azureml.scriptrun\", \"training_percent\": \"100\", \"start_time\": \"2020-04-05T20:49:34.191378Z\", \"end_time\": \"2020-04-05T20:51:19.831515Z\", \"created_time\": \"2020-04-05T20:48:12.393526Z\", \"created_time_dt\": \"2020-04-05T20:48:12.393526Z\", \"duration\": \"0:03:07\", \"iteration\": \"16\", \"goal\": \"normalized_root_mean_squared_error_min\", \"run_name\": \"MaxAbsScaler, DecisionTree\", \"run_properties\": \"copy=True\", \"primary_metric\": 0.015518, \"best_metric\": 0.01049681}, {\"run_id\": \"AutoML_a4f60998-c589-4e25-98b9-69e982f6aef7_17\", \"run_number\": 44, \"metric\": null, \"status\": \"Completed\", \"run_type\": \"azureml.scriptrun\", \"training_percent\": \"100\", \"start_time\": \"2020-04-05T20:49:57.168844Z\", \"end_time\": \"2020-04-05T20:51:38.986587Z\", \"created_time\": \"2020-04-05T20:48:28.947155Z\", \"created_time_dt\": \"2020-04-05T20:48:28.947155Z\", \"duration\": \"0:03:10\", \"iteration\": \"17\", \"goal\": \"normalized_root_mean_squared_error_min\", \"run_name\": \"MinMaxScaler, ExtremeRandomTrees\", \"run_properties\": \"copy=True, feature_range=(0, 1\", \"primary_metric\": 0.01403545, \"best_metric\": 0.01049681}, {\"run_id\": \"AutoML_a4f60998-c589-4e25-98b9-69e982f6aef7_18\", \"run_number\": 45, \"metric\": null, \"status\": \"Completed\", \"run_type\": \"azureml.scriptrun\", \"training_percent\": \"100\", \"start_time\": \"2020-04-05T20:52:15.861328Z\", \"end_time\": \"2020-04-05T20:54:00.336538Z\", \"created_time\": \"2020-04-05T20:51:40.336496Z\", \"created_time_dt\": \"2020-04-05T20:51:40.336496Z\", \"duration\": \"0:02:20\", \"iteration\": \"18\", \"goal\": \"normalized_root_mean_squared_error_min\", \"run_name\": \"VotingEnsemble\", \"run_properties\": \"estimators=[('0', Pipeline(memory=None,\\n     steps=[('maxabsscaler', MaxAbsScaler(copy=True\", \"primary_metric\": 0.01049681, \"best_metric\": 0.01049681}, {\"run_id\": \"AutoML_a4f60998-c589-4e25-98b9-69e982f6aef7_19\", \"run_number\": 46, \"metric\": null, \"status\": \"Completed\", \"run_type\": \"azureml.scriptrun\", \"training_percent\": \"100\", \"start_time\": \"2020-04-05T20:52:14.066012Z\", \"end_time\": \"2020-04-05T20:54:11.411439Z\", \"created_time\": \"2020-04-05T20:51:40.478726Z\", \"created_time_dt\": \"2020-04-05T20:51:40.478726Z\", \"duration\": \"0:02:30\", \"iteration\": \"19\", \"goal\": \"normalized_root_mean_squared_error_min\", \"run_name\": \"StackEnsemble\", \"run_properties\": \"base_learners=[('0', Pipeline(memory=None,\\n     steps=[('maxabsscaler', MaxAbsScaler(copy=True\", \"primary_metric\": 0.01048408, \"best_metric\": 0.01048408}], \"children_metrics\": {\"categories\": [0], \"series\": {\"mean_absolute_percentage_error\": [{\"categories\": [\"0\", \"1\", \"2\", \"3\", \"4\", \"5\", \"6\", \"7\", \"8\", \"9\", \"10\", \"11\", \"12\", \"13\", \"14\", \"15\", \"16\", \"17\", \"18\", \"19\"], \"mode\": \"markers\", \"name\": \"mean_absolute_percentage_error\", \"stepped\": false, \"type\": \"scatter\", \"data\": [18.329961172204506, 21.54388893020086, 21.060060257109264, 21.592116293169425, 22.798350536667446, 24.959138934083462, 22.420082368835406, 23.98623971916496, 27.700076916711385, 21.20346471321611, 20.351104279605984, 24.893789153954973, 23.362509960034657, 24.16443208844496, 21.203460108982735, 19.11908835252123, 30.8375805516214, 25.169347320906283, 18.329961172204506, 18.099086060851455]}, {\"categories\": [\"0\", \"1\", \"2\", \"3\", \"4\", \"5\", \"6\", \"7\", \"8\", \"9\", \"10\", \"11\", \"12\", \"13\", \"14\", \"15\", \"16\", \"17\", \"18\", \"19\"], \"mode\": \"lines\", \"name\": \"mean_absolute_percentage_error_min\", \"stepped\": true, \"type\": \"scatter\", \"data\": [18.329961172204506, 18.329961172204506, 18.329961172204506, 18.329961172204506, 18.329961172204506, 18.329961172204506, 18.329961172204506, 18.329961172204506, 18.329961172204506, 18.329961172204506, 18.329961172204506, 18.329961172204506, 18.329961172204506, 18.329961172204506, 18.329961172204506, 18.329961172204506, 18.329961172204506, 18.329961172204506, 18.329961172204506, 18.099086060851455]}], \"spearman_correlation\": [{\"categories\": [\"0\", \"1\", \"2\", \"3\", \"4\", \"5\", \"6\", \"7\", \"8\", \"9\", \"10\", \"11\", \"12\", \"13\", \"14\", \"15\", \"16\", \"17\", \"18\", \"19\"], \"mode\": \"markers\", \"name\": \"spearman_correlation\", \"stepped\": false, \"type\": \"scatter\", \"data\": [0.9517927814917476, 0.9448998413768849, 0.9452114551830906, 0.9446591958732702, 0.9448642222699937, 0.9441636757241703, 0.9449105835540603, 0.9396280622323917, 0.926771875652208, 0.9448531292948081, 0.9425186304656468, 0.9289320384902529, 0.9097687921987738, 0.9224658195769659, 0.9448531292948081, 0.9495033179291967, 0.8016230348489256, 0.9323754321983508, 0.9517927814917476, 0.9517927814917476]}, {\"categories\": [\"0\", \"1\", \"2\", \"3\", \"4\", \"5\", \"6\", \"7\", \"8\", \"9\", \"10\", \"11\", \"12\", \"13\", \"14\", \"15\", \"16\", \"17\", \"18\", \"19\"], \"mode\": \"lines\", \"name\": \"spearman_correlation_max\", \"stepped\": true, \"type\": \"scatter\", \"data\": [0.9517927814917476, 0.9517927814917476, 0.9517927814917476, 0.9517927814917476, 0.9517927814917476, 0.9517927814917476, 0.9517927814917476, 0.9517927814917476, 0.9517927814917476, 0.9517927814917476, 0.9517927814917476, 0.9517927814917476, 0.9517927814917476, 0.9517927814917476, 0.9517927814917476, 0.9517927814917476, 0.9517927814917476, 0.9517927814917476, 0.9517927814917476, 0.9517927814917476]}], \"root_mean_squared_log_error\": [{\"categories\": [\"0\", \"1\", \"2\", \"3\", \"4\", \"5\", \"6\", \"7\", \"8\", \"9\", \"10\", \"11\", \"12\", \"13\", \"14\", \"15\", \"16\", \"17\", \"18\", \"19\"], \"mode\": \"markers\", \"name\": \"root_mean_squared_log_error\", \"stepped\": false, \"type\": \"scatter\", \"data\": [0.15527224401715828, 0.17875583793146424, 0.17480608323859434, 0.17940893575207417, 0.18678843936857387, 0.2025611358402321, 0.18420082797805076, 0.19937194888480797, 0.23471284524164238, 0.17686782469282217, 0.1781039577265445, 0.20874240166828434, 0.20668926160846912, 0.22592565319912392, 0.17686779988669885, 0.16370321627735646, 0.2631870405502417, 0.20327143813336104, 0.15527224401715828, 0.15514810354853287]}, {\"categories\": [\"0\", \"1\", \"2\", \"3\", \"4\", \"5\", \"6\", \"7\", \"8\", \"9\", \"10\", \"11\", \"12\", \"13\", \"14\", \"15\", \"16\", \"17\", \"18\", \"19\"], \"mode\": \"lines\", \"name\": \"root_mean_squared_log_error_min\", \"stepped\": true, \"type\": \"scatter\", \"data\": [0.15527224401715828, 0.15527224401715828, 0.15527224401715828, 0.15527224401715828, 0.15527224401715828, 0.15527224401715828, 0.15527224401715828, 0.15527224401715828, 0.15527224401715828, 0.15527224401715828, 0.15527224401715828, 0.15527224401715828, 0.15527224401715828, 0.15527224401715828, 0.15527224401715828, 0.15527224401715828, 0.15527224401715828, 0.15527224401715828, 0.15527224401715828, 0.15514810354853287]}], \"median_absolute_error\": [{\"categories\": [\"0\", \"1\", \"2\", \"3\", \"4\", \"5\", \"6\", \"7\", \"8\", \"9\", \"10\", \"11\", \"12\", \"13\", \"14\", \"15\", \"16\", \"17\", \"18\", \"19\"], \"mode\": \"markers\", \"name\": \"median_absolute_error\", \"stepped\": false, \"type\": \"scatter\", \"data\": [1.1335335342481336, 1.439788222110867, 1.3549746167136671, 1.4490977942330794, 1.5718875158678576, 1.7754435543524112, 1.5314909600150215, 1.594927388314935, 1.8680676335330295, 1.4022723479728492, 1.2473886024753194, 1.641254643933126, 1.4943697478991833, 1.427513227513109, 1.402272145072644, 1.1808907438715468, 2.187070707070765, 1.7130663376398747, 1.1335335342481336, 1.11646616017451]}, {\"categories\": [\"0\", \"1\", \"2\", \"3\", \"4\", \"5\", \"6\", \"7\", \"8\", \"9\", \"10\", \"11\", \"12\", \"13\", \"14\", \"15\", \"16\", \"17\", \"18\", \"19\"], \"mode\": \"lines\", \"name\": \"median_absolute_error_min\", \"stepped\": true, \"type\": \"scatter\", \"data\": [1.1335335342481336, 1.1335335342481336, 1.1335335342481336, 1.1335335342481336, 1.1335335342481336, 1.1335335342481336, 1.1335335342481336, 1.1335335342481336, 1.1335335342481336, 1.1335335342481336, 1.1335335342481336, 1.1335335342481336, 1.1335335342481336, 1.1335335342481336, 1.1335335342481336, 1.1335335342481336, 1.1335335342481336, 1.1335335342481336, 1.1335335342481336, 1.11646616017451]}], \"r2_score\": [{\"categories\": [\"0\", \"1\", \"2\", \"3\", \"4\", \"5\", \"6\", \"7\", \"8\", \"9\", \"10\", \"11\", \"12\", \"13\", \"14\", \"15\", \"16\", \"17\", \"18\", \"19\"], \"mode\": \"markers\", \"name\": \"r2_score\", \"stepped\": false, \"type\": \"scatter\", \"data\": [0.8775354783624263, 0.8276012964502599, 0.8285759110646244, 0.8273640287614205, 0.824017206882201, 0.8128920977248151, 0.8254716678848091, 0.7672283254841367, 0.7182793778433917, 0.8280738345349234, 0.7743611828118653, 0.7543265927447039, 0.7720890459406667, 0.6214761629083771, 0.8280738384646954, 0.8328365292838663, 0.732350000516408, 0.7810481273698365, 0.8775354783624263, 0.8778321997125192]}, {\"categories\": [\"0\", \"1\", \"2\", \"3\", \"4\", \"5\", \"6\", \"7\", \"8\", \"9\", \"10\", \"11\", \"12\", \"13\", \"14\", \"15\", \"16\", \"17\", \"18\", \"19\"], \"mode\": \"lines\", \"name\": \"r2_score_max\", \"stepped\": true, \"type\": \"scatter\", \"data\": [0.8775354783624263, 0.8775354783624263, 0.8775354783624263, 0.8775354783624263, 0.8775354783624263, 0.8775354783624263, 0.8775354783624263, 0.8775354783624263, 0.8775354783624263, 0.8775354783624263, 0.8775354783624263, 0.8775354783624263, 0.8775354783624263, 0.8775354783624263, 0.8775354783624263, 0.8775354783624263, 0.8775354783624263, 0.8775354783624263, 0.8775354783624263, 0.8778321997125192]}], \"explained_variance\": [{\"categories\": [\"0\", \"1\", \"2\", \"3\", \"4\", \"5\", \"6\", \"7\", \"8\", \"9\", \"10\", \"11\", \"12\", \"13\", \"14\", \"15\", \"16\", \"17\", \"18\", \"19\"], \"mode\": \"markers\", \"name\": \"explained_variance\", \"stepped\": false, \"type\": \"scatter\", \"data\": [0.8775354783624263, 0.8276012964502598, 0.8285759110646244, 0.8273640287614205, 0.824017206882201, 0.8128920977248151, 0.8254716678848091, 0.7672289454334073, 0.7182793780346537, 0.8280738345349234, 0.7743611828118653, 0.7543265927447039, 0.7720890459406667, 0.6214761629083771, 0.8280738384646955, 0.8328365292838663, 0.7323500005164079, 0.7810481273698364, 0.8775354783624263, 0.8778321997125192]}, {\"categories\": [\"0\", \"1\", \"2\", \"3\", \"4\", \"5\", \"6\", \"7\", \"8\", \"9\", \"10\", \"11\", \"12\", \"13\", \"14\", \"15\", \"16\", \"17\", \"18\", \"19\"], \"mode\": \"lines\", \"name\": \"explained_variance_max\", \"stepped\": true, \"type\": \"scatter\", \"data\": [0.8775354783624263, 0.8775354783624263, 0.8775354783624263, 0.8775354783624263, 0.8775354783624263, 0.8775354783624263, 0.8775354783624263, 0.8775354783624263, 0.8775354783624263, 0.8775354783624263, 0.8775354783624263, 0.8775354783624263, 0.8775354783624263, 0.8775354783624263, 0.8775354783624263, 0.8775354783624263, 0.8775354783624263, 0.8775354783624263, 0.8775354783624263, 0.8778321997125192]}], \"mean_absolute_error\": [{\"categories\": [\"0\", \"1\", \"2\", \"3\", \"4\", \"5\", \"6\", \"7\", \"8\", \"9\", \"10\", \"11\", \"12\", \"13\", \"14\", \"15\", \"16\", \"17\", \"18\", \"19\"], \"mode\": \"markers\", \"name\": \"mean_absolute_error\", \"stepped\": false, \"type\": \"scatter\", \"data\": [1.8264049014528252, 2.119627233361958, 2.08884445321787, 2.125249616909269, 2.18895263605578, 2.350461666616226, 2.165515792731166, 2.4253366293682443, 2.7431284478281497, 2.105712342546951, 2.2746783643562383, 2.5676777976442318, 2.551293807233117, 3.0872843836088766, 2.105712161182946, 1.9913203400634123, 3.098618256355236, 2.45925644261733, 1.8264049014528252, 1.8225501090957013]}, {\"categories\": [\"0\", \"1\", \"2\", \"3\", \"4\", \"5\", \"6\", \"7\", \"8\", \"9\", \"10\", \"11\", \"12\", \"13\", \"14\", \"15\", \"16\", \"17\", \"18\", \"19\"], \"mode\": \"lines\", \"name\": \"mean_absolute_error_min\", \"stepped\": true, \"type\": \"scatter\", \"data\": [1.8264049014528252, 1.8264049014528252, 1.8264049014528252, 1.8264049014528252, 1.8264049014528252, 1.8264049014528252, 1.8264049014528252, 1.8264049014528252, 1.8264049014528252, 1.8264049014528252, 1.8264049014528252, 1.8264049014528252, 1.8264049014528252, 1.8264049014528252, 1.8264049014528252, 1.8264049014528252, 1.8264049014528252, 1.8264049014528252, 1.8264049014528252, 1.8225501090957013]}], \"normalized_root_mean_squared_log_error\": [{\"categories\": [\"0\", \"1\", \"2\", \"3\", \"4\", \"5\", \"6\", \"7\", \"8\", \"9\", \"10\", \"11\", \"12\", \"13\", \"14\", \"15\", \"16\", \"17\", \"18\", \"19\"], \"mode\": \"markers\", \"name\": \"normalized_root_mean_squared_log_error\", \"stepped\": false, \"type\": \"scatter\", \"data\": [0.026483356925999423, 0.0304887373046656, 0.02981506401576887, 0.030600130186247798, 0.03185878416815888, 0.03454898777143917, 0.03141743911982279, 0.034005037518263816, 0.040032808793337114, 0.03016671627124481, 0.03037755210057996, 0.035603269367064865, 0.035253084172232836, 0.038534058358496985, 0.03016671204029277, 0.027921350232616122, 0.0448893900987179, 0.03467013749316414, 0.026483356925999423, 0.026462183429342773]}, {\"categories\": [\"0\", \"1\", \"2\", \"3\", \"4\", \"5\", \"6\", \"7\", \"8\", \"9\", \"10\", \"11\", \"12\", \"13\", \"14\", \"15\", \"16\", \"17\", \"18\", \"19\"], \"mode\": \"lines\", \"name\": \"normalized_root_mean_squared_log_error_min\", \"stepped\": true, \"type\": \"scatter\", \"data\": [0.026483356925999423, 0.026483356925999423, 0.026483356925999423, 0.026483356925999423, 0.026483356925999423, 0.026483356925999423, 0.026483356925999423, 0.026483356925999423, 0.026483356925999423, 0.026483356925999423, 0.026483356925999423, 0.026483356925999423, 0.026483356925999423, 0.026483356925999423, 0.026483356925999423, 0.026483356925999423, 0.026483356925999423, 0.026483356925999423, 0.026483356925999423, 0.026462183429342773]}], \"root_mean_squared_error\": [{\"categories\": [\"0\", \"1\", \"2\", \"3\", \"4\", \"5\", \"6\", \"7\", \"8\", \"9\", \"10\", \"11\", \"12\", \"13\", \"14\", \"15\", \"16\", \"17\", \"18\", \"19\"], \"mode\": \"markers\", \"name\": \"root_mean_squared_error\", \"stepped\": false, \"type\": \"scatter\", \"data\": [3.718913351935409, 4.412430849503875, 4.399940863819805, 4.415466160331319, 4.458061112999166, 4.596814508802803, 4.43960041875965, 5.127149487281769, 5.640534162510609, 4.406379550117217, 5.047982280120499, 5.267323464755153, 5.0733346926082294, 6.538189915834348, 4.406379499758194, 4.344918197133972, 5.497870904373616, 4.97261970338447, 3.718913351935409, 3.7144053107592967]}, {\"categories\": [\"0\", \"1\", \"2\", \"3\", \"4\", \"5\", \"6\", \"7\", \"8\", \"9\", \"10\", \"11\", \"12\", \"13\", \"14\", \"15\", \"16\", \"17\", \"18\", \"19\"], \"mode\": \"lines\", \"name\": \"root_mean_squared_error_min\", \"stepped\": true, \"type\": \"scatter\", \"data\": [3.718913351935409, 3.718913351935409, 3.718913351935409, 3.718913351935409, 3.718913351935409, 3.718913351935409, 3.718913351935409, 3.718913351935409, 3.718913351935409, 3.718913351935409, 3.718913351935409, 3.718913351935409, 3.718913351935409, 3.718913351935409, 3.718913351935409, 3.718913351935409, 3.718913351935409, 3.718913351935409, 3.718913351935409, 3.7144053107592967]}], \"normalized_mean_absolute_error\": [{\"categories\": [\"0\", \"1\", \"2\", \"3\", \"4\", \"5\", \"6\", \"7\", \"8\", \"9\", \"10\", \"11\", \"12\", \"13\", \"14\", \"15\", \"16\", \"17\", \"18\", \"19\"], \"mode\": \"markers\", \"name\": \"normalized_mean_absolute_error\", \"stepped\": false, \"type\": \"scatter\", \"data\": [0.0051551127648334, 0.005982746431911592, 0.00589586060351088, 0.005998615870922886, 0.006178420604746902, 0.006634287353908453, 0.006112269024615896, 0.006845625418070632, 0.007742607603455219, 0.005943471005523585, 0.006420385459245923, 0.00724738998460084, 0.007201145409786099, 0.008714003735947603, 0.005943470493615248, 0.0056205942591194, 0.00874599411881576, 0.006941365668286798, 0.0051551127648334, 0.005144232434151969]}, {\"categories\": [\"0\", \"1\", \"2\", \"3\", \"4\", \"5\", \"6\", \"7\", \"8\", \"9\", \"10\", \"11\", \"12\", \"13\", \"14\", \"15\", \"16\", \"17\", \"18\", \"19\"], \"mode\": \"lines\", \"name\": \"normalized_mean_absolute_error_min\", \"stepped\": true, \"type\": \"scatter\", \"data\": [0.0051551127648334, 0.0051551127648334, 0.0051551127648334, 0.0051551127648334, 0.0051551127648334, 0.0051551127648334, 0.0051551127648334, 0.0051551127648334, 0.0051551127648334, 0.0051551127648334, 0.0051551127648334, 0.0051551127648334, 0.0051551127648334, 0.0051551127648334, 0.0051551127648334, 0.0051551127648334, 0.0051551127648334, 0.0051551127648334, 0.0051551127648334, 0.005144232434151969]}], \"normalized_median_absolute_error\": [{\"categories\": [\"0\", \"1\", \"2\", \"3\", \"4\", \"5\", \"6\", \"7\", \"8\", \"9\", \"10\", \"11\", \"12\", \"13\", \"14\", \"15\", \"16\", \"17\", \"18\", \"19\"], \"mode\": \"markers\", \"name\": \"normalized_median_absolute_error\", \"stepped\": false, \"type\": \"scatter\", \"data\": [0.003199451111372417, 0.004063869209153143, 0.003824478863963609, 0.004090145909376723, 0.00443672560859143, 0.005011271992865763, 0.004322704451198232, 0.004501756719960865, 0.0052727077635073795, 0.003957978909855907, 0.0035208123358698223, 0.0046325175532279375, 0.004217928103810955, 0.004029222466095879, 0.003957978337160642, 0.003333119037713587, 0.006173108772674263, 0.004835209398063379, 0.003199451111372417, 0.0031512776543919105]}, {\"categories\": [\"0\", \"1\", \"2\", \"3\", \"4\", \"5\", \"6\", \"7\", \"8\", \"9\", \"10\", \"11\", \"12\", \"13\", \"14\", \"15\", \"16\", \"17\", \"18\", \"19\"], \"mode\": \"lines\", \"name\": \"normalized_median_absolute_error_min\", \"stepped\": true, \"type\": \"scatter\", \"data\": [0.003199451111372417, 0.003199451111372417, 0.003199451111372417, 0.003199451111372417, 0.003199451111372417, 0.003199451111372417, 0.003199451111372417, 0.003199451111372417, 0.003199451111372417, 0.003199451111372417, 0.003199451111372417, 0.003199451111372417, 0.003199451111372417, 0.003199451111372417, 0.003199451111372417, 0.003199451111372417, 0.003199451111372417, 0.003199451111372417, 0.003199451111372417, 0.0031512776543919105]}], \"normalized_root_mean_squared_error\": [{\"categories\": [\"0\", \"1\", \"2\", \"3\", \"4\", \"5\", \"6\", \"7\", \"8\", \"9\", \"10\", \"11\", \"12\", \"13\", \"14\", \"15\", \"16\", \"17\", \"18\", \"19\"], \"mode\": \"markers\", \"name\": \"normalized_root_mean_squared_error\", \"stepped\": false, \"type\": \"scatter\", \"data\": [0.010496805870714412, 0.012454291257173148, 0.01241903769177737, 0.012462858563129975, 0.01258308479776219, 0.012974722709652551, 0.012530978629822036, 0.014471617847756834, 0.015920669966723894, 0.012437211183260088, 0.014248164724153939, 0.014867265417469171, 0.01431972308732459, 0.01845434507277752, 0.012437211041119405, 0.012263733656422625, 0.015517996286583352, 0.014035450346847129, 0.010496805870714412, 0.010484081714864367]}, {\"categories\": [\"0\", \"1\", \"2\", \"3\", \"4\", \"5\", \"6\", \"7\", \"8\", \"9\", \"10\", \"11\", \"12\", \"13\", \"14\", \"15\", \"16\", \"17\", \"18\", \"19\"], \"mode\": \"lines\", \"name\": \"normalized_root_mean_squared_error_min\", \"stepped\": true, \"type\": \"scatter\", \"data\": [0.010496805870714412, 0.010496805870714412, 0.010496805870714412, 0.010496805870714412, 0.010496805870714412, 0.010496805870714412, 0.010496805870714412, 0.010496805870714412, 0.010496805870714412, 0.010496805870714412, 0.010496805870714412, 0.010496805870714412, 0.010496805870714412, 0.010496805870714412, 0.010496805870714412, 0.010496805870714412, 0.010496805870714412, 0.010496805870714412, 0.010496805870714412, 0.010484081714864367]}]}, \"metricName\": null, \"primaryMetricName\": \"normalized_root_mean_squared_error\", \"showLegend\": false}, \"run_metrics\": [{\"name\": \"experiment_status\", \"run_id\": \"AutoML_a4f60998-c589-4e25-98b9-69e982f6aef7\", \"categories\": [0, 1, 2, 3, 4], \"series\": [{\"data\": [\"DatasetEvaluation\", \"FeaturesGeneration\", \"DatasetFeaturization\", \"DatasetFeaturizationCompleted\", \"ModelSelection\"]}]}, {\"name\": \"experiment_status_description\", \"run_id\": \"AutoML_a4f60998-c589-4e25-98b9-69e982f6aef7\", \"categories\": [0, 1, 2, 3, 4], \"series\": [{\"data\": [\"Gathering dataset statistics.\", \"Generating features for the dataset.\", \"Beginning to fit featurizers and featurize the dataset.\", \"Completed fit featurizers and featurizing the dataset.\", \"Beginning model selection.\"]}]}], \"run_logs\": \"\\nRun is completed.\", \"graph\": {}, \"widget_settings\": {\"childWidgetDisplay\": \"popup\", \"send_telemetry\": false, \"log_level\": \"INFO\", \"sdk_version\": \"1.2.0\"}, \"loading\": false}"
     },
     "metadata": {},
     "output_type": "display_data"
    }
   ],
   "source": [
    "from azureml.widgets import RunDetails\n",
    "RunDetails(remote_run).show()"
   ]
  },
  {
   "cell_type": "code",
   "execution_count": 56,
   "metadata": {},
   "outputs": [
    {
     "ename": "Exception",
     "evalue": "### INTENDED STOP ### to wait for asynchronous AutoML Job",
     "output_type": "error",
     "traceback": [
      "\u001b[0;31m---------------------------------------------------------------------------\u001b[0m",
      "\u001b[0;31mException\u001b[0m                                 Traceback (most recent call last)",
      "\u001b[0;32m<ipython-input-56-84d8f96fc4c2>\u001b[0m in \u001b[0;36m<module>\u001b[0;34m\u001b[0m\n\u001b[0;32m----> 1\u001b[0;31m \u001b[0;32mraise\u001b[0m \u001b[0mException\u001b[0m\u001b[0;34m(\u001b[0m\u001b[0;34m'### INTENDED STOP ### to wait for asynchronous AutoML Job'\u001b[0m\u001b[0;34m)\u001b[0m\u001b[0;34m\u001b[0m\u001b[0;34m\u001b[0m\u001b[0m\n\u001b[0m",
      "\u001b[0;31mException\u001b[0m: ### INTENDED STOP ### to wait for asynchronous AutoML Job"
     ]
    }
   ],
   "source": [
    " raise Exception('### INTENDED STOP ### to wait for asynchronous AutoML Job')"
   ]
  },
  {
   "cell_type": "markdown",
   "metadata": {},
   "source": [
    "### Review trained model & results"
   ]
  },
  {
   "cell_type": "markdown",
   "metadata": {},
   "source": [
    "#### Retrieve the best model"
   ]
  },
  {
   "cell_type": "markdown",
   "metadata": {},
   "source": [
    "Select the best model from your iterations. The `get_output` function returns the best run and the fitted model for the last fit invocation. By using the overloads on `get_output`, you can retrieve the best run and fitted model for any logged metric or a particular iteration."
   ]
  },
  {
   "cell_type": "code",
   "execution_count": 57,
   "metadata": {},
   "outputs": [
    {
     "name": "stdout",
     "output_type": "stream",
     "text": [
      "Best Run:\n",
      "Run(Experiment: train-on-amlcompute-automl,\n",
      "Id: AutoML_a4f60998-c589-4e25-98b9-69e982f6aef7_0,\n",
      "Type: azureml.scriptrun,\n",
      "Status: Completed)\n",
      "\n",
      "Fitted model:\n",
      "RegressionPipeline(pipeline=Pipeline(memory=None,\n",
      "     steps=[('datatransformer', DataTransformer(enable_dnn=None, enable_feature_sweeping=None,\n",
      "        feature_sweeping_config=None, feature_sweeping_timeout=None,\n",
      "        featurization_config=None, force_text_dnn=None,\n",
      "        is_cross_validation=None, is_onnx_compatible=None, logger=None,\n",
      "        obser...      silent=True, subsample=1.0, subsample_for_bin=200000,\n",
      "         subsample_freq=0, verbose=-1))]),\n",
      "          stddev=None)\n"
     ]
    }
   ],
   "source": [
    "best_run, fitted_model = remote_run.get_output()\n",
    "print(\"Best Run:\")\n",
    "print(best_run)\n",
    "\n",
    "print(\"\")\n",
    "print(\"Fitted model:\")\n",
    "print(fitted_model)"
   ]
  },
  {
   "cell_type": "markdown",
   "metadata": {},
   "source": [
    "#### Test the best model accuracy\n",
    "\n",
    "Use the best model to run predictions on the test data set to predict taxi fares. The function `predict` uses the best model and predicts the values of y, **trip cost**, from the `x_test` data set. Print the first 10 predicted cost values from `y_predict`.\n"
   ]
  },
  {
   "cell_type": "code",
   "execution_count": 83,
   "metadata": {},
   "outputs": [],
   "source": [
    "test = pd.read_csv(\"./data/taxi_final_df_test.csv\")"
   ]
  },
  {
   "cell_type": "code",
   "execution_count": 84,
   "metadata": {},
   "outputs": [
    {
     "data": {
      "text/html": [
       "<div>\n",
       "<style scoped>\n",
       "    .dataframe tbody tr th:only-of-type {\n",
       "        vertical-align: middle;\n",
       "    }\n",
       "\n",
       "    .dataframe tbody tr th {\n",
       "        vertical-align: top;\n",
       "    }\n",
       "\n",
       "    .dataframe thead th {\n",
       "        text-align: right;\n",
       "    }\n",
       "</style>\n",
       "<table border=\"1\" class=\"dataframe\">\n",
       "  <thead>\n",
       "    <tr style=\"text-align: right;\">\n",
       "      <th></th>\n",
       "      <th>vendorID</th>\n",
       "      <th>passengerCount</th>\n",
       "      <th>tripDistance</th>\n",
       "      <th>totalAmount</th>\n",
       "      <th>month_num</th>\n",
       "      <th>day_of_month</th>\n",
       "      <th>day_of_week</th>\n",
       "      <th>hour_of_day</th>\n",
       "    </tr>\n",
       "  </thead>\n",
       "  <tbody>\n",
       "    <tr>\n",
       "      <th>0</th>\n",
       "      <td>1</td>\n",
       "      <td>1</td>\n",
       "      <td>2.90</td>\n",
       "      <td>14.80</td>\n",
       "      <td>10</td>\n",
       "      <td>6</td>\n",
       "      <td>1</td>\n",
       "      <td>10</td>\n",
       "    </tr>\n",
       "    <tr>\n",
       "      <th>1</th>\n",
       "      <td>2</td>\n",
       "      <td>1</td>\n",
       "      <td>1.53</td>\n",
       "      <td>10.80</td>\n",
       "      <td>11</td>\n",
       "      <td>23</td>\n",
       "      <td>0</td>\n",
       "      <td>19</td>\n",
       "    </tr>\n",
       "    <tr>\n",
       "      <th>2</th>\n",
       "      <td>2</td>\n",
       "      <td>2</td>\n",
       "      <td>0.72</td>\n",
       "      <td>8.50</td>\n",
       "      <td>11</td>\n",
       "      <td>10</td>\n",
       "      <td>1</td>\n",
       "      <td>19</td>\n",
       "    </tr>\n",
       "    <tr>\n",
       "      <th>3</th>\n",
       "      <td>2</td>\n",
       "      <td>1</td>\n",
       "      <td>6.18</td>\n",
       "      <td>23.30</td>\n",
       "      <td>6</td>\n",
       "      <td>28</td>\n",
       "      <td>6</td>\n",
       "      <td>18</td>\n",
       "    </tr>\n",
       "    <tr>\n",
       "      <th>4</th>\n",
       "      <td>2</td>\n",
       "      <td>1</td>\n",
       "      <td>1.43</td>\n",
       "      <td>7.80</td>\n",
       "      <td>1</td>\n",
       "      <td>23</td>\n",
       "      <td>4</td>\n",
       "      <td>20</td>\n",
       "    </tr>\n",
       "  </tbody>\n",
       "</table>\n",
       "</div>"
      ],
      "text/plain": [
       "   vendorID  passengerCount  tripDistance  totalAmount  month_num  \\\n",
       "0  1         1              2.90          14.80         10          \n",
       "1  2         1              1.53          10.80         11          \n",
       "2  2         2              0.72          8.50          11          \n",
       "3  2         1              6.18          23.30         6           \n",
       "4  2         1              1.43          7.80          1           \n",
       "\n",
       "   day_of_month  day_of_week  hour_of_day  \n",
       "0  6             1            10           \n",
       "1  23            0            19           \n",
       "2  10            1            19           \n",
       "3  28            6            18           \n",
       "4  23            4            20           "
      ]
     },
     "execution_count": 84,
     "metadata": {},
     "output_type": "execute_result"
    }
   ],
   "source": [
    "test.head()"
   ]
  },
  {
   "cell_type": "code",
   "execution_count": 85,
   "metadata": {},
   "outputs": [],
   "source": [
    "y_test = test.pop(\"totalAmount\")\n",
    "x_test = test"
   ]
  },
  {
   "cell_type": "code",
   "execution_count": 95,
   "metadata": {},
   "outputs": [
    {
     "name": "stdout",
     "output_type": "stream",
     "text": [
      "[15.60951133 10.6209142   7.25733338 26.74074303  9.47206987  8.08400689\n",
      " 22.6852251  12.58368369 17.19357458  9.31270415]\n"
     ]
    }
   ],
   "source": [
    "y_predict = fitted_model.predict(x_test)\n",
    "print(y_predict[:10])"
   ]
  },
  {
   "cell_type": "markdown",
   "metadata": {},
   "source": [
    "Calculate the `root mean squared error` of the results. Convert the `y_test` dataframe to a list to compare to the predicted values. The function `mean_squared_error` takes two arrays of values and calculates the average squared error between them. Taking the square root of the result gives an error in the same units as the y variable, **cost**. It indicates roughly how far the taxi fare predictions are from the actual fares.\n"
   ]
  },
  {
   "cell_type": "code",
   "execution_count": 96,
   "metadata": {},
   "outputs": [
    {
     "name": "stdout",
     "output_type": "stream",
     "text": [
      "RMSE: 4.58037110223824\n"
     ]
    }
   ],
   "source": [
    "from sklearn.metrics import mean_squared_error\n",
    "from math import sqrt\n",
    "\n",
    "y_actual = y_test.values.flatten().tolist()\n",
    "rmse = sqrt(mean_squared_error(y_actual, y_predict))\n",
    "print(f\"RMSE: {rmse}\")"
   ]
  },
  {
   "cell_type": "markdown",
   "metadata": {},
   "source": [
    "Run the following code to calculate mean absolute percent error (MAPE) by using the full `y_actual` and `y_predict` data sets. This metric calculates an absolute difference between each predicted and actual value and sums all the differences. Then it expresses that sum as a percent of the total of the actual values.\n"
   ]
  },
  {
   "cell_type": "code",
   "execution_count": 97,
   "metadata": {},
   "outputs": [
    {
     "name": "stdout",
     "output_type": "stream",
     "text": [
      "Model MAPE:\n",
      "0.13912496148611944\n",
      "\n",
      "Model Accuracy:\n",
      "0.8608750385138806\n"
     ]
    }
   ],
   "source": [
    "sum_actuals = sum_errors = 0\n",
    "\n",
    "for actual_val, predict_val in zip(y_actual, y_predict):\n",
    "    abs_error = actual_val - predict_val\n",
    "    if abs_error < 0:\n",
    "        abs_error = abs_error * -1\n",
    "\n",
    "    sum_errors = sum_errors + abs_error\n",
    "    sum_actuals = sum_actuals + actual_val\n",
    "\n",
    "mean_abs_percent_error = sum_errors / sum_actuals\n",
    "print(\"Model MAPE:\")\n",
    "print(mean_abs_percent_error)\n",
    "print()\n",
    "print(\"Model Accuracy:\")\n",
    "print(1 - mean_abs_percent_error)"
   ]
  },
  {
   "cell_type": "markdown",
   "metadata": {},
   "source": [
    "From the two prediction accuracy metrics, you see that the model is fairly good at predicting taxi fares from the data set's features, typically within +- $4.00, and approximately 15% error. \n",
    "\n",
    "The traditional machine learning model development process is highly resource-intensive, and requires significant domain knowledge and time investment to run and compare the results of dozens of models. Using automated machine learning is a great way to rapidly test many different models for your scenario."
   ]
  },
  {
   "cell_type": "code",
   "execution_count": 105,
   "metadata": {},
   "outputs": [
    {
     "data": {
      "image/png": "[encoded data removed]",
      "text/plain": [
       "<Figure size 432x288 with 1 Axes>"
      ]
     },
     "metadata": {
      "needs_background": "light"
     },
     "output_type": "display_data"
    }
   ],
   "source": [
    "%matplotlib inline\n",
    "test_pred = plt.scatter(y_actual, y_predict, color='b')\n",
    "test_test = plt.scatter(y_actual, y_actual, color='g')\n",
    "plt.legend((test_pred, test_test), ('prediction', 'truth'), loc='upper left', fontsize=8)\n",
    "plt.show()"
   ]
  },
  {
   "cell_type": "code",
   "execution_count": null,
   "metadata": {},
   "outputs": [],
   "source": []
  },
  {
   "cell_type": "code",
   "execution_count": 110,
   "metadata": {},
   "outputs": [
    {
     "data": {
      "image/png": "[encoded data removed]",
      "text/plain": [
       "<Figure size 1152x432 with 1 Axes>"
      ]
     },
     "metadata": {
      "needs_background": "light"
     },
     "output_type": "display_data"
    }
   ],
   "source": [
    "%matplotlib inline\n",
    "from sklearn.metrics import mean_squared_error, r2_score\n",
    "\n",
    "y_residual_test = y_test - y_predict\n",
    "\n",
    "# Set up a multi-plot chart.\n",
    "f, a1 = plt.subplots(1, 1)\n",
    "f.suptitle('Regression Residual Values', fontsize = 18)\n",
    "f.set_figheight(6)\n",
    "f.set_figwidth(16)\n",
    "\n",
    "# Plot residual values of test set.\n",
    "a1.axis([0, 90, -100, 100])\n",
    "a1.plot(y_residual_test, 'bo', alpha = 0.5)\n",
    "a1.plot([-10,360],[0,0], 'r-', lw = 3)\n",
    "a1.text(5,170,'RMSE = {0:.2f}'.format(np.sqrt(mean_squared_error(y_test, y_predict))), fontsize = 12)\n",
    "a1.text(5,140,'R2 score = {0:.2f}'.format(r2_score(y_test, y_predict)),fontsize = 12)\n",
    "a1.set_xlabel('Test samples', fontsize = 12)\n",
    "a1.set_yticklabels([])\n",
    "\n",
    "plt.show()"
   ]
  },
  {
   "cell_type": "markdown",
   "metadata": {},
   "source": [
    "## PART 4: Model Deployment [optional]"
   ]
  },
  {
   "cell_type": "markdown",
   "metadata": {},
   "source": [
    "In this part of the lab, you use trained best model to create deployment as webservice in Azure Container Instance (ACI). \n",
    "\n",
    "The steps of deployment process are:\n",
    "\n",
    "* Model registration\n",
    "* Creatig scoring script (the heart of WS)\n",
    "* Setup inference environment\n",
    "* Deploy to ACI as WS"
   ]
  },
  {
   "cell_type": "markdown",
   "metadata": {},
   "source": [
    "### Model registration"
   ]
  },
  {
   "cell_type": "code",
   "execution_count": 98,
   "metadata": {},
   "outputs": [],
   "source": [
    "import pickle\n",
    "filename = os.path.join(project_folder,\"automl_best_model.pkl\")\n",
    "pickle.dump(fitted_model, open(filename, 'wb'))"
   ]
  },
  {
   "cell_type": "code",
   "execution_count": 100,
   "metadata": {},
   "outputs": [
    {
     "name": "stdout",
     "output_type": "stream",
     "text": [
      "Registering model automl_best_model.pkl\n"
     ]
    }
   ],
   "source": [
    "from azureml.core.model import Model\n",
    "\n",
    "model = Model.register(model_path = \"./{}/automl_best_model.pkl\".format(project_folder),\n",
    "                       model_name = \"automl_best_model.pkl\",\n",
    "                       tags = {'area': \"NYC\", 'type': \"regression\"},\n",
    "                       description = \"Azure Academy - NYC model\",\n",
    "                       workspace = ws)"
   ]
  },
  {
   "cell_type": "markdown",
   "metadata": {},
   "source": [
    "#### Get Model\n",
    "\n",
    "You can get the registered model anytime as this is accessible from within your workspace."
   ]
  },
  {
   "cell_type": "code",
   "execution_count": 101,
   "metadata": {},
   "outputs": [],
   "source": [
    "from azureml.core.model import Model\n",
    "import os\n",
    "\n",
    "model = Model(workspace=ws, name=\"automl_best_model.pkl\")"
   ]
  },
  {
   "cell_type": "markdown",
   "metadata": {},
   "source": [
    "### Scoring Script\n",
    "\n",
    "The scoring script is basically getting the model, reading the input data and running/scoring the model and present outputs. It is tipically in separate folder but for this lab we will use the same forlder as for training."
   ]
  },
  {
   "cell_type": "code",
   "execution_count": 102,
   "metadata": {},
   "outputs": [],
   "source": [
    "import os\n",
    "script_folder = os.path.join(project_folder)"
   ]
  },
  {
   "cell_type": "code",
   "execution_count": null,
   "metadata": {},
   "outputs": [],
   "source": [
    "%%writefile $script_folder/score.py\n",
    "\n",
    "import pickle\n",
    "import json\n",
    "import numpy as np\n",
    "from sklearn.externals import joblib\n",
    "from sklearn.linear_model import Ridge\n",
    "from azureml.core.model import Model\n",
    "import azureml.train.automl\n",
    "\n",
    "from inference_schema.schema_decorators import input_schema, output_schema\n",
    "from inference_schema.parameter_types.numpy_parameter_type import NumpyParameterType\n",
    "\n",
    "\n",
    "def init():\n",
    "    global model\n",
    "    # note here \"automl_best_model.pkl\" is the name of the model registered under\n",
    "    model_path = Model.get_model_path('automl_best_model.pkl')\n",
    "    # deserialize the model file back into a sklearn model\n",
    "    model = joblib.load(model_path)\n",
    "\n",
    "\n",
    "# create schema of incomming request and outgoing response\n",
    "input_sample = np.array([2,1,0.93,6,20,5,22])\n",
    "output_sample = np.array([0.93])\n",
    "\n",
    "@input_schema('data', NumpyParameterType(input_sample))\n",
    "@output_schema(NumpyParameterType(output_sample))\n",
    "\n",
    "# main function representing the actual scoring phase\n",
    "def run(data):\n",
    "    try:\n",
    "        result = model.predict(data.reshape(1, -1))\n",
    "        # you can return any datatype as long as it is JSON-serializable\n",
    "        return result.tolist()\n",
    "    except Exception as e:\n",
    "        error = str(e)\n",
    "        return error"
   ]
  },
  {
   "cell_type": "markdown",
   "metadata": {},
   "source": [
    "### Create Inference Configuration\n",
    "\n",
    "\n",
    "To deploy a model to Azure Container Instances, create a **deployment configuration** that describes the compute resources needed. For example, number of cores and memory. You also need an **inference configuration**, which describes the environment needed to host the model and web service. For more information on creating the inference configuration, see [How and where to deploy models](https://docs.microsoft.com/en-us/azure/machine-learning/service/how-to-deploy-and-where)."
   ]
  },
  {
   "cell_type": "code",
   "execution_count": null,
   "metadata": {},
   "outputs": [],
   "source": [
    "%%writefile $script_folder/myenv.yml\n",
    "\n",
    "name: project_environment\n",
    "dependencies:\n",
    "  - python=3.7\n",
    "  - pip:\n",
    "    - azureml-defaults\n",
    "    - azureml-sdk[automl]\n",
    "    - scikit-learn\n",
    "    - numpy\n",
    "    - inference-schema[numpy-support]"
   ]
  },
  {
   "cell_type": "code",
   "execution_count": null,
   "metadata": {},
   "outputs": [],
   "source": [
    "from azureml.core.model import InferenceConfig\n",
    "\n",
    "inference_config = InferenceConfig(runtime= \"python\",\n",
    "                                   entry_script=script_folder+\"/score.py\",\n",
    "                                   conda_file=script_folder+\"/myenv.yml\")\n",
    "\n"
   ]
  },
  {
   "cell_type": "markdown",
   "metadata": {},
   "source": [
    "### Create Deployment Configuration\n",
    "\n",
    "`deploy_configuration(cpu_cores=None, memory_gb=None, tags=None, properties=None, description=None, location=None, auth_enabled=None, ssl_enabled=None, enable_app_insights=None, ssl_cert_pem_file=None, ssl_key_pem_file=None, ssl_cname=None, dns_name_label=None)`"
   ]
  },
  {
   "cell_type": "code",
   "execution_count": null,
   "metadata": {},
   "outputs": [],
   "source": [
    "from azureml.core.webservice import AciWebservice, Webservice\n",
    "from azureml.exceptions import WebserviceException"
   ]
  },
  {
   "cell_type": "code",
   "execution_count": null,
   "metadata": {},
   "outputs": [],
   "source": [
    "deployment_config = AciWebservice.deploy_configuration(cpu_cores = 1, memory_gb = 1)"
   ]
  },
  {
   "cell_type": "markdown",
   "metadata": {},
   "source": [
    "### Deploy\n",
    "\n",
    "Final step is the actual deployment. Use deployment config and inference config and the name of the service.\n",
    "\n",
    "> note: If you see error that serice already exists, simple use `service.delete()`\n",
    "\n",
    "> note: This steps may take up to 15 mins\n",
    "> * it needs to create an docker image from the model and the configuration\n",
    "> * create ACI with the parameters\n",
    "> * deploy the docker into ACI"
   ]
  },
  {
   "cell_type": "code",
   "execution_count": null,
   "metadata": {},
   "outputs": [],
   "source": [
    "aci_service_name = 'azureacademynyc'\n",
    "\n",
    "service = Model.deploy(ws, aci_service_name, [model], inference_config, deployment_config)\n",
    "\n",
    "service.wait_for_deployment(True)\n",
    "print(service.state)"
   ]
  },
  {
   "cell_type": "code",
   "execution_count": null,
   "metadata": {},
   "outputs": [],
   "source": [
    "print(service.get_logs())"
   ]
  },
  {
   "cell_type": "markdown",
   "metadata": {},
   "source": [
    "### Test the webservices - score in real-time"
   ]
  },
  {
   "cell_type": "code",
   "execution_count": null,
   "metadata": {},
   "outputs": [],
   "source": [
    "sample_df = pd.read_csv(\"./data/taxi_final_df_test.csv\").sample()\n",
    "vals = sample_df[[\"vendorID\",\"passengerCount\",\"tripDistance\",\"month_num\",\"day_of_month\",\"day_of_week\",\"hour_of_day\",\"totalAmount\"]].values\n",
    "sample_data = vals.tolist()[0][0:-1]\n",
    "sample_target = vals.tolist()[0][-1]\n",
    "\n",
    "sample_df"
   ]
  },
  {
   "cell_type": "code",
   "execution_count": null,
   "metadata": {},
   "outputs": [],
   "source": [
    "import json\n",
    "\n",
    "test_sample = json.dumps({'data': sample_data})\n",
    "\n",
    "test_sample_encoded = bytes(test_sample,encoding = 'utf8')\n",
    "prediction = service.run(input_data=test_sample_encoded)\n",
    "\n",
    "print(f\"Prediction: {prediction[0]}\\nActuals: {sample_target}\")\n"
   ]
  },
  {
   "cell_type": "markdown",
   "metadata": {},
   "source": [
    "## Clean up resources"
   ]
  },
  {
   "cell_type": "markdown",
   "metadata": {},
   "source": [
    "Do not complete this section if you plan on running other Azure Machine Learning service tutorials."
   ]
  },
  {
   "cell_type": "markdown",
   "metadata": {},
   "source": [
    "### Delete service"
   ]
  },
  {
   "cell_type": "code",
   "execution_count": null,
   "metadata": {},
   "outputs": [],
   "source": [
    "service.delete()"
   ]
  },
  {
   "cell_type": "markdown",
   "metadata": {},
   "source": [
    "### Stop the notebook VM"
   ]
  },
  {
   "cell_type": "markdown",
   "metadata": {},
   "source": [
    "If you used a cloud notebook server, stop the VM when you are not using it to reduce cost."
   ]
  },
  {
   "cell_type": "markdown",
   "metadata": {},
   "source": [
    "1. In your workspace, select **Notebook VMs**.\n",
    "1. From the list, select the VM.\n",
    "1. Select **Stop**.\n",
    "1. When you're ready to use the server again, select **Start**."
   ]
  },
  {
   "cell_type": "markdown",
   "metadata": {},
   "source": [
    "### Delete everything"
   ]
  },
  {
   "cell_type": "markdown",
   "metadata": {},
   "source": [
    "If you don't plan to use the resources you created, delete them, so you don't incur any charges."
   ]
  },
  {
   "cell_type": "markdown",
   "metadata": {},
   "source": [
    "1. In the Azure portal, select **Resource groups** on the far left.\n",
    "1. From the list, select the resource group you created.\n",
    "1. Select **Delete resource group**.\n",
    "1. Enter the resource group name. Then select **Delete**.\n",
    "\n",
    "You can also keep the resource group but delete a single workspace. Display the workspace properties and select **Delete**."
   ]
  },
  {
   "cell_type": "markdown",
   "metadata": {},
   "source": [
    "## Next steps"
   ]
  },
  {
   "cell_type": "markdown",
   "metadata": {},
   "source": [
    "In this machine learning lab, you did the following tasks:\n",
    "\n",
    "> * Configured a workspace and prepared data for an experiment.\n",
    "> * Trained by using aregression model locally &  with custom parameters.\n",
    "> * Trained by using autmated ML aregression model on achine learning compute.\n",
    "> * Explored and reviewed training results.\n",
    "> * Deploy model to ACI and test the web service\n",
    "\n",
    "Visit [docs](https://docs.microsoft.com/azure/machine-learning/service/) with Azure Machine Learning service documenation and tutorials.\n",
    "\n",
    "Learn by examples and code at [AML GitHub](https://github.com/Azure/MachineLearningNotebooks)"
   ]
  },
  {
   "cell_type": "code",
   "execution_count": null,
   "metadata": {},
   "outputs": [],
   "source": []
  }
 ],
 "metadata": {
  "authors": [
   {
    "name": "jeffshep"
   }
  ],
  "categories": [
   "tutorials"
  ],
  "kernelspec": {
   "display_name": "Python 3.6 - AzureML",
   "language": "python",
   "name": "python3-azureml"
  },
  "language_info": {
   "codemirror_mode": {
    "name": "ipython",
    "version": 3
   },
   "file_extension": ".py",
   "mimetype": "text/x-python",
   "name": "python",
   "nbconvert_exporter": "python",
   "pygments_lexer": "ipython3",
   "version": "3.6.9"
  },
  "msauthor": "trbye"
 },
 "nbformat": 4,
 "nbformat_minor": 2
}
