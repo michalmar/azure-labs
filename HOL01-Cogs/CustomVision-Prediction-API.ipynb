{
 "cells": [
  {
   "cell_type": "markdown",
   "metadata": {},
   "source": [
    "# HOL01: AI Apps - COGS-CustomVision\n",
    "\n",
    "\n",
    "## Overview\n",
    "Create an intelligent application for image classification using AI service. Components:\n",
    "- Object Clasification model - CustomVision.ai\n",
    "\n",
    "![alt text](./assets/customvision.png \"Logo CustomVision\")\n",
    "\n",
    "## Step 2 - Predict image"
   ]
  },
  {
   "cell_type": "code",
   "execution_count": null,
   "metadata": {},
   "outputs": [],
   "source": [
    "!/data/anaconda/envs/py36/bin/pip install azure-cognitiveservices-vision-customvision"
   ]
  },
  {
   "cell_type": "markdown",
   "metadata": {},
   "source": [
    "## Get the parameters\n",
    "\n",
    "\n",
    "### grab `prediction_key` and `ENDPOINT` from Azure Portal\n",
    "![alt text](./assets/cv-pred-key.png \"cv\" )\n",
    "\n",
    "1. Publish trained iteration and get the name to `publish_iteration_name` \n"
   ]
  },
  {
   "cell_type": "code",
   "execution_count": null,
   "metadata": {},
   "outputs": [],
   "source": [
    "ENDPOINT=\"https://southcentralus.api.cognitive.microsoft.com/\"\n",
    "prediction_key = \"<your key>\""
   ]
  },
  {
   "cell_type": "markdown",
   "metadata": {},
   "source": [
    "### Publish trained iteration and get the name to `publish_iteration_name` "
   ]
  },
  {
   "cell_type": "code",
   "execution_count": null,
   "metadata": {},
   "outputs": [],
   "source": [
    "publish_iteration_name = \"Iteration1\""
   ]
  },
  {
   "cell_type": "markdown",
   "metadata": {},
   "source": [
    "### get CustgomVision project ID into `project_id`:\n",
    "![alt text](./assets/cv-proj-id.png \"cv\" )"
   ]
  },
  {
   "cell_type": "code",
   "execution_count": null,
   "metadata": {},
   "outputs": [],
   "source": [
    "project_id = \"xxxxxx-xxxx-xxxx-xxxx-xxxxx\""
   ]
  },
  {
   "cell_type": "markdown",
   "metadata": {},
   "source": [
    "## Run Prediction\n",
    "\n",
    "You will test on of the uploaded image in `images/Test` folder:\n",
    "\n",
    "![alt text](./images/Test/kodiaq_11.jpg \"test image\" )"
   ]
  },
  {
   "cell_type": "code",
   "execution_count": null,
   "metadata": {},
   "outputs": [],
   "source": [
    "from azure.cognitiveservices.vision.customvision.prediction import CustomVisionPredictionClient\n",
    "\n",
    "# Now there is a trained endpoint that can be used to make a prediction\n",
    "predictor = CustomVisionPredictionClient(prediction_key, endpoint=ENDPOINT)\n",
    "\n",
    "with open(\"./images/Test/kodiaq_11.jpg\", \"rb\") as image_contents:\n",
    "    results = predictor.classify_image(\n",
    "        project_id, publish_iteration_name, image_contents.read())\n",
    "\n",
    "    # Display the results.\n",
    "    for prediction in results.predictions:\n",
    "        print(\"\\t\" + prediction.tag_name +\n",
    "              \": {0:.2f}%\".format(prediction.probability * 100))"
   ]
  },
  {
   "cell_type": "code",
   "execution_count": null,
   "metadata": {},
   "outputs": [],
   "source": []
  }
 ],
 "metadata": {
  "kernelspec": {
   "display_name": "Python 3.6 - AzureML",
   "language": "python",
   "name": "python3-azureml"
  },
  "language_info": {
   "codemirror_mode": {
    "name": "ipython",
    "version": 3
   },
   "file_extension": ".py",
   "mimetype": "text/x-python",
   "name": "python",
   "nbconvert_exporter": "python",
   "pygments_lexer": "ipython3",
   "version": "3.6.8"
  }
 },
 "nbformat": 4,
 "nbformat_minor": 2
}
