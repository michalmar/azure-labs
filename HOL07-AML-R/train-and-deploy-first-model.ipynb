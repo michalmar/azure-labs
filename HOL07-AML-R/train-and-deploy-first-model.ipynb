{
 "cells": [
  {
   "cell_type": "raw",
   "metadata": {},
   "source": [
    "---\n",
    "title: \"Train and deploy your first model with Azure ML\"\n",
    "author: \"David Smith\"\n",
    "date: \"`r Sys.Date()`\"\n",
    "output: rmarkdown::html_vignette\n",
    "vignette: >\n",
    "  %\\VignetteIndexEntry{Train and deploy your first model with Azure ML}\n",
    "  %\\VignetteEngine{knitr::rmarkdown}\n",
    "  \\use_package{UTF-8}\n",
    "---"
   ]
  },
  {
   "cell_type": "markdown",
   "metadata": {},
   "source": [
    "In this tutorial, you learn the foundational design patterns in Azure Machine Learning.  You'll train and deploy a Generalized Linear Model to predict the likelihood of a fatality in an automobile accident. After completing this tutorial, you'll have the practical knowledge of the R SDK to scale up to developing more-complex experiments and workflows.\n",
    "\n",
    "In this tutorial, you learn the following tasks:\n",
    "\n",
    "* Connect your workspace\n",
    "* Load data and prepare for training\n",
    "* Upload data to the datastore so it is available for remote training\n",
    "* Create a compute resource\n",
    "* Train a caret model to predict probability of fatality\n",
    "* Deploy a prediction endpoint\n",
    "* Test the model from R\n",
    "\n",
    "## Prerequisites\n",
    "\n",
    "If you don't have access to an Azure ML workspace, follow the [setup tutorial](https://azure.github.io/azureml-sdk-for-r/articles/configuration.html) to configure and create a workspace.\n",
    "\n",
    "## Set up your development environment\n",
    "The setup for your development work in this tutorial includes the following actions:\n",
    "\n",
    "* Install required packages\n",
    "* Connect to a workspace, so that your local computer can communicate with remote resources\n",
    "* Create an experiment to track your runs\n",
    "* Create a remote compute target to use for training\n",
    "\n",
    "To run this notebook in an Azure ML Compute Instance, visit the [Azure Machine Learning studio](https://ml.azure.com) and browse to \n",
    "Notebooks > Samples > Azure ML gallery > Samples > R > <version> > vignettes. Click the \"...\" icon next to vignettes and chose \"clone\". Launch RStudio Server from the link\n",
    "in the \"Compute\" tab. In RStudio, select \"File > New Project > Existing Directory\" and browse to the cloned \"Vignettes\" folder.\n",
    "\n",
    "### Install required packages\n",
    "This tutorial assumes you already have the Azure ML SDK installed. \n",
    "(If you are running this vignette from an RStudio instance in an Azure\n",
    "ML Compute Instance, the package is already installed for you.)\n",
    "Go ahead and load the **azuremlsdk** package."
   ]
  },
  {
   "cell_type": "code",
   "execution_count": null,
   "metadata": {
    "eval": false
   },
   "outputs": [],
   "source": [
    "library(azuremlsdk)"
   ]
  },
  {
   "cell_type": "code",
   "execution_count": null,
   "metadata": {},
   "outputs": [],
   "source": [
    "# install.packages(\"reticulate\")"
   ]
  },
  {
   "cell_type": "markdown",
   "metadata": {},
   "source": [
    "The training and scoring scripts (`accidents.R` and `accident_predict.R`) have some additional dependencies. If you plan on running those scripts locally, make sure you have those required packages as well.\n",
    "\n",
    "### Load your workspace\n",
    "Instantiate a workspace object from your existing workspace. The following code will load the workspace details from the **config.json** file. You can also retrieve a workspace using [`get_workspace()`](https://azure.github.io/azureml-sdk-for-r/reference/get_workspace.html)."
   ]
  },
  {
   "cell_type": "code",
   "execution_count": null,
   "metadata": {
    "eval": false,
    "name": "load_workpace"
   },
   "outputs": [],
   "source": [
    "ws <- load_workspace_from_config()"
   ]
  },
  {
   "cell_type": "code",
   "execution_count": null,
   "metadata": {},
   "outputs": [],
   "source": [
    "print(ws$name)"
   ]
  },
  {
   "cell_type": "code",
   "execution_count": null,
   "metadata": {},
   "outputs": [],
   "source": [
    "ws"
   ]
  },
  {
   "cell_type": "markdown",
   "metadata": {},
   "source": [
    "### Create an experiment\n",
    "An Azure ML experiment tracks a grouping of runs, typically from the same training script. Create an experiment to track the runs for training the caret model on the accidents data."
   ]
  },
  {
   "cell_type": "code",
   "execution_count": null,
   "metadata": {
    "eval": false,
    "name": "create_experiment"
   },
   "outputs": [],
   "source": [
    "experiment_name <- \"R-accident-logreg\"\n",
    "exp <- experiment(ws, experiment_name)"
   ]
  },
  {
   "cell_type": "code",
   "execution_count": null,
   "metadata": {},
   "outputs": [],
   "source": [
    "run = get_run(exp, run_id=\"R-accident-logreg_1606925176_a0f92aa1\")"
   ]
  },
  {
   "cell_type": "markdown",
   "metadata": {},
   "source": [
    "### Create a compute target\n",
    "By using Azure Machine Learning Compute (AmlCompute), a managed service, data scientists can train machine learning models on clusters of Azure virtual machines. Examples include VMs with GPU support. In this tutorial, you create a single-node AmlCompute cluster as your training environment. The code below creates the compute cluster for you if it doesn't already exist in your workspace.\n",
    "\n",
    "You may need to wait a few minutes for your compute cluster to be provisioned if it doesn't already exist."
   ]
  },
  {
   "cell_type": "code",
   "execution_count": null,
   "metadata": {
    "eval": false,
    "lines_to_next_cell": 0,
    "name": "create_cluster"
   },
   "outputs": [],
   "source": [
    "cluster_name <- \"aml-cluster\"\n",
    "compute_target <- get_compute(ws, cluster_name = cluster_name)\n",
    "if (is.null(compute_target)) {\n",
    "  vm_size <- \"STANDARD_D2_V2\" \n",
    "  compute_target <- create_aml_compute(workspace = ws,\n",
    "                                       cluster_name = cluster_name,\n",
    "                                       vm_size = vm_size,\n",
    "                                       min_nodes = 1,\n",
    "                                       max_nodes = 2)\n",
    "  \n",
    "  wait_for_provisioning_completion(compute_target, show_output = TRUE)\n",
    "}"
   ]
  },
  {
   "cell_type": "code",
   "execution_count": null,
   "metadata": {},
   "outputs": [],
   "source": [
    "compute_target"
   ]
  },
  {
   "cell_type": "markdown",
   "metadata": {},
   "source": [
    "This cluster has a maximum size of two nodes, but only one will be provisioned for now. The second will only be provisioned as needed, and will automatically de-provision when no longer in use. You can even set `min_nodes=0` to make the first node provision on demand as well (and experiments will wait for the node to provision before starting).\n",
    "\n",
    "## Prepare data for training\n",
    "This tutorial uses data from the US [National Highway Traffic Safety Administration](https://cdan.nhtsa.gov/tsftables/tsfar.htm)  \n",
    "(with thanks to [Mary C. Meyer and Tremika Finney](https://www.stat.colostate.edu/~meyer/airbags.htm)).\n",
    "This dataset includes data from over 25,000 car crashes in the US, with variables you can use to predict the likelihood of a fatality. First, import the data into R and transform it into a new dataframe `accidents` for analysis, and export it to an `Rdata` file."
   ]
  },
  {
   "cell_type": "code",
   "execution_count": null,
   "metadata": {
    "eval": false,
    "name": "load_data"
   },
   "outputs": [],
   "source": [
    "nassCDS <- read.csv(\"train-and-deploy-first-model/nassCDS.csv\", \n",
    "                     colClasses=c(\"factor\",\"numeric\",\"factor\",\n",
    "                                  \"factor\",\"factor\",\"numeric\",\n",
    "                                  \"factor\",\"numeric\",\"numeric\",\n",
    "                                  \"numeric\",\"character\",\"character\",\n",
    "                                  \"numeric\",\"numeric\",\"character\"))\n",
    "\n",
    "accidents <- na.omit(nassCDS[,c(\"dead\",\"dvcat\",\"seatbelt\",\"frontal\",\"sex\",\"ageOFocc\",\"yearVeh\",\"airbag\",\"occRole\")])\n",
    "accidents$frontal <- factor(accidents$frontal, labels=c(\"notfrontal\",\"frontal\"))\n",
    "accidents$occRole <- factor(accidents$occRole)\n",
    "accidents$dvcat <- ordered(accidents$dvcat, \n",
    "                          levels=c(\"1-9km/h\",\"10-24\",\"25-39\",\"40-54\",\"55+\"))\n",
    "\n",
    "saveRDS(accidents, file=\"accidents.Rd\")"
   ]
  },
  {
   "cell_type": "code",
   "execution_count": null,
   "metadata": {},
   "outputs": [],
   "source": [
    "accidents"
   ]
  },
  {
   "cell_type": "markdown",
   "metadata": {},
   "source": [
    "### Upload data to the datastore\n",
    "Upload data to the cloud so that it can be access by your remote training environment. Each Azure ML workspace comes with a default datastore that stores the connection information to the Azure blob container that is provisioned in the storage account attached to the workspace. The following code will upload the accidents data you created above to that datastore."
   ]
  },
  {
   "cell_type": "code",
   "execution_count": null,
   "metadata": {
    "eval": false,
    "name": "upload_data"
   },
   "outputs": [],
   "source": [
    "ds <- get_default_datastore(ws)\n",
    "\n",
    "target_path <- \"accidentdata\"\n",
    "upload_files_to_datastore(ds,\n",
    "                          list(\"./accidents.Rd\"),\n",
    "                          target_path = target_path,\n",
    "                          overwrite = TRUE)"
   ]
  },
  {
   "cell_type": "markdown",
   "metadata": {},
   "source": [
    "## Train a model\n",
    "\n",
    "For this tutorial, fit a logistic regression model on your uploaded data using your remote compute cluster. To submit a job, you need to:\n",
    "\n",
    "* Prepare the training script\n",
    "* Create an estimator\n",
    "* Submit the job\n",
    "\n",
    "### Prepare the training script\n",
    "A training script called `accidents.R` has been provided for you in the `train-and-deploy-first-model` folder. Notice the following details **inside the training script** that have been done to leverage the Azure ML service for training:\n",
    "\n",
    "* The training script takes an argument `-d` to find the directory that contains the training data. When you define and submit your job later, you point to the datastore for this argument. Azure ML will mount the storage folder to the remote cluster for the training job.\n",
    "* The training script logs the final accuracy as a metric to the run record in Azure ML using `log_metric_to_run()`. The Azure ML SDK provides a set of logging APIs for logging various metrics during training runs. These metrics are recorded and persisted in the experiment run record. The metrics can then be accessed at any time or viewed in the run details page in [Azure Machine Learning studio](http://ml.azure.com). See the [reference](https://azure.github.io/azureml-sdk-for-r/reference/index.html#section-training-experimentation) for the full set of logging methods `log_*()`.\n",
    "* The training script saves your model into a directory named **outputs**. The `./outputs` folder receives special treatment by Azure ML. During training, files written to `./outputs` are automatically uploaded to your run record by Azure ML and persisted as artifacts. By saving the trained model to `./outputs`, you'll be able to access and retrieve your model file even after the run is over and you no longer have access to your remote training environment.\n",
    "\n",
    "### Create an estimator\n",
    "\n",
    "An Azure ML estimator encapsulates the run configuration information needed for executing a training script on the compute target. Azure ML runs are run as containerized jobs on the specified compute target. By default, the Docker image built for your training job will include R, the Azure ML SDK, and a set of commonly used R packages. See the full list of default packages included [here](https://azure.github.io/azureml-sdk-for-r/reference/r_environment.html).\n",
    "\n",
    "To create the estimator, define:\n",
    "\n",
    "* The directory that contains your scripts needed for training (`source_directory`). All the files in this directory are uploaded to the cluster node(s) for execution. The directory must contain your training script and any additional scripts required.\n",
    "* The training script that will be executed (`entry_script`).\n",
    "* The compute target (`compute_target`), in this case the AmlCompute cluster you created earlier.\n",
    "* The parameters required from the training script (`script_params`). Azure ML will run your training script as a command-line script with `Rscript`. In this tutorial you specify one argument to the script, the data directory mounting point, which you can access with `ds$path(target_path)`.\n",
    "* Any environment dependencies required for training. The default Docker image built for training already contains the three packages (`caret`, `e1071`, and `optparse`) needed in the training script.  So you don't need to specify additional information. If you are using R packages that are not included by default, use the estimator's `cran_packages` parameter to add additional CRAN packages. See the [`estimator()`](https://azure.github.io/azureml-sdk-for-r/reference/estimator.html) reference for the full set of configurable options."
   ]
  },
  {
   "cell_type": "code",
   "execution_count": null,
   "metadata": {
    "eval": false,
    "name": "create_estimator"
   },
   "outputs": [],
   "source": [
    "est <- estimator(source_directory = \"train-and-deploy-first-model\",\n",
    "                 entry_script = \"accidents.R\",\n",
    "                 script_params = list(\"--data_folder\" = ds$path(target_path)),\n",
    "                 compute_target = compute_target\n",
    "                 )"
   ]
  },
  {
   "cell_type": "markdown",
   "metadata": {},
   "source": [
    "### Submit the job on the remote cluster\n",
    "\n",
    "Finally submit the job to run on your cluster. `submit_experiment()` returns a Run object that you then use to interface with the run. In total, the first run takes **about 10 minutes**. But for later runs, the same Docker image is reused as long as the script dependencies don't change.  In this case, the image is cached and the container startup time is much faster."
   ]
  },
  {
   "cell_type": "code",
   "execution_count": null,
   "metadata": {
    "eval": false,
    "name": "submit_job"
   },
   "outputs": [],
   "source": [
    "run <- submit_experiment(exp, est)"
   ]
  },
  {
   "cell_type": "markdown",
   "metadata": {},
   "source": [
    "You can view a table of the run's details. Clicking the \"Web View\" link provided will bring you to Azure Machine Learning studio, where you can monitor the run in the UI."
   ]
  },
  {
   "cell_type": "code",
   "execution_count": null,
   "metadata": {
    "eval": false,
    "name": "view_run"
   },
   "outputs": [],
   "source": [
    "plot_run_details(run)"
   ]
  },
  {
   "cell_type": "markdown",
   "metadata": {},
   "source": [
    "Model training happens in the background. Wait until the model has finished training before you run more code."
   ]
  },
  {
   "cell_type": "code",
   "execution_count": null,
   "metadata": {
    "eval": false,
    "name": "wait_run"
   },
   "outputs": [],
   "source": [
    "wait_for_run_completion(run, show_output = TRUE)"
   ]
  },
  {
   "cell_type": "markdown",
   "metadata": {},
   "source": [
    "You -- and colleagues with access to the workspace -- can submit multiple experiments in parallel, and Azure ML will take of scheduling the tasks on the compute cluster. You can even configure the cluster to automatically scale up to multiple nodes, and scale back when there are no more compute tasks in the queue. This configuration is a cost-effective way for teams to share compute resources.\n",
    "\n",
    "## Retrieve training results\n",
    "Once your model has finished training, you can access the artifacts of your job that were persisted to the run record, including any metrics logged and the final trained model.\n",
    "\n",
    "### Get the logged metrics\n",
    "In the training script `accidents.R`, you logged a metric from your model: the accuracy of the predictions in the training data. You can see metrics in the [studio](https://ml.azure.com), or extract them to the local session as an R list as follows:"
   ]
  },
  {
   "cell_type": "code",
   "execution_count": null,
   "metadata": {},
   "outputs": [],
   "source": []
  },
  {
   "cell_type": "code",
   "execution_count": null,
   "metadata": {
    "eval": false,
    "name": "metrics"
   },
   "outputs": [],
   "source": [
    "metrics <- get_run_metrics(run)\n",
    "metrics"
   ]
  },
  {
   "cell_type": "markdown",
   "metadata": {},
   "source": [
    "If you've run multiple experiments (say, using differing variables, algorithms, or hyperparamers), you can use the metrics from each run to compare and choose the model you'll use in production.\n",
    "\n",
    "### Get the trained model\n",
    "You can retrieve the trained model and look at the results in your local R session. The following code will download the contents of the `./outputs` directory, which includes the model file."
   ]
  },
  {
   "cell_type": "code",
   "execution_count": null,
   "metadata": {},
   "outputs": [],
   "source": []
  },
  {
   "cell_type": "code",
   "execution_count": null,
   "metadata": {
    "eval": false,
    "name": "retrieve_model"
   },
   "outputs": [],
   "source": [
    "download_files_from_run(run, prefix=\"outputs/\")\n",
    "accident_model <- readRDS(\"outputs/model.rds\")\n",
    "summary(accident_model)"
   ]
  },
  {
   "cell_type": "markdown",
   "metadata": {},
   "source": [
    "You see some factors that contribute to an increase in the estimated probability of death:\n",
    "\n",
    "* higher impact speed \n",
    "* male driver\n",
    "* older occupant\n",
    "* passenger\n",
    "\n",
    "You see lower probabilities of death with:\n",
    "\n",
    "* presence of airbags\n",
    "* presence seatbelts\n",
    "* frontal collision \n",
    "\n",
    "The vehicle year of manufacture does not have a significant effect.\n",
    "\n",
    "You can use this model to make new predictions:"
   ]
  },
  {
   "cell_type": "code",
   "execution_count": null,
   "metadata": {
    "eval": false,
    "name": "manual_predict"
   },
   "outputs": [],
   "source": [
    "newdata <- data.frame( # valid values shown below\n",
    " dvcat=\"10-24\",        # \"1-9km/h\" \"10-24\"   \"25-39\"   \"40-54\"   \"55+\"  \n",
    " seatbelt=\"none\",      # \"none\"   \"belted\"  \n",
    " frontal=\"frontal\",    # \"notfrontal\" \"frontal\"\n",
    " sex=\"f\",              # \"f\" \"m\"\n",
    " ageOFocc=16,          # age in years, 16-97\n",
    " yearVeh=2002,         # year of vehicle, 1955-2003\n",
    " airbag=\"none\",        # \"none\"   \"airbag\"   \n",
    " occRole=\"pass\"        # \"driver\" \"pass\"\n",
    " )\n",
    "\n",
    "## predicted probability of death for these variables, as a percentage\n",
    "as.numeric(predict(accident_model,newdata, type=\"response\")*100)"
   ]
  },
  {
   "cell_type": "markdown",
   "metadata": {},
   "source": [
    "## Deploy as a web service\n",
    "\n",
    "With your model, you can predict the danger of death from a collision. Use Azure ML to deploy your model as a prediction service. In this tutorial, you will deploy the web service in [Azure Container Instances](https://docs.microsoft.com/en-us/azure/container-instances/) (ACI).\n",
    "\n",
    "### Register the model\n",
    "\n",
    "First, register the model you downloaded to your workspace with [`register_model()`](https://azure.github.io/azureml-sdk-for-r/reference/register_model.html). A registered model can be any collection of files, but in this case the R model object is sufficient. Azure ML will use the registered model for deployment."
   ]
  },
  {
   "cell_type": "code",
   "execution_count": null,
   "metadata": {
    "eval": false,
    "name": "register_model"
   },
   "outputs": [],
   "source": [
    "model <- register_model(ws, \n",
    "                        model_path = \"outputs/model.rds\", \n",
    "                        model_name = \"accidents_model\",\n",
    "                        description = \"Predict probablity of auto accident\")"
   ]
  },
  {
   "cell_type": "markdown",
   "metadata": {},
   "source": [
    "### Define the inference dependencies\n",
    "To create a web service for your model, you first need to create a scoring script (`entry_script`), an R script that will take as input variable values (in JSON format) and output a prediction from your model. For this tutorial, use the provided scoring file `accident_predict.R`. The scoring script must contain an `init()` method that loads your model and returns a function that uses the model to make a prediction based on the input data. See the [documentation](https://azure.github.io/azureml-sdk-for-r/reference/inference_config.html#details) for more details.\n",
    "\n",
    "Next, define an Azure ML **environment** for your script's package dependencies. With an environment, you specify R packages (from CRAN or elsewhere) that are needed for your script to run. You can also provide the values of environment variables that your script can reference to modify its behavior. By default, Azure ML will build the same default Docker image used with the estimator for training. Since the tutorial has no special requirements, create an environment with no special attributes."
   ]
  },
  {
   "cell_type": "code",
   "execution_count": null,
   "metadata": {
    "eval": false,
    "name": "create_environment"
   },
   "outputs": [],
   "source": [
    "r_env <- r_environment(name = \"basic_env\")"
   ]
  },
  {
   "cell_type": "markdown",
   "metadata": {},
   "source": [
    "If you want to use your own Docker image for deployment instead, specify the `custom_docker_image` parameter. See the [`r_environment()`](https://azure.github.io/azureml-sdk-for-r/reference/r_environment.html) reference for the full set of configurable options for defining an environment.\n",
    "\n",
    "Now you have everything you need to create an **inference config** for encapsulating your scoring script and environment dependencies.\n",
    "\n",
    "``` {r create_inference_config, eval=FALSE}\n",
    "inference_config <- inference_config(\n",
    "  entry_script = \"accident_predict.R\",\n",
    "  source_directory = \"train-and-deploy-first-model\",\n",
    "  environment = r_env)\n",
    "```\n",
    "\n",
    "### Deploy to ACI\n",
    "In this tutorial, you will deploy your service to ACI. This code provisions a single container to respond to inbound requests, which is suitable for testing and light loads. See [`aci_webservice_deployment_config()`](https://azure.github.io/azureml-sdk-for-r/reference/aci_webservice_deployment_config.html) for additional configurable options. (For production-scale deployments, you can also [deploy to Azure Kubernetes Service](https://azure.github.io/azureml-sdk-for-r/articles/deploy-to-aks.html).)\n",
    "\n",
    "``` {r create_aci_config, eval=FALSE}\n",
    "aci_config <- aci_webservice_deployment_config(cpu_cores = 1, memory_gb = 0.5)\n",
    "```\n",
    "\n",
    "Now you deploy your model as a web service. Deployment **can take several minutes**. "
   ]
  },
  {
   "cell_type": "code",
   "execution_count": null,
   "metadata": {
    "eval": false,
    "name": "deploy_service"
   },
   "outputs": [],
   "source": [
    "aci_service <- deploy_model(ws, \n",
    "                            'accident-pred', \n",
    "                            list(model), \n",
    "                            inference_config, \n",
    "                            aci_config)\n",
    "\n",
    "wait_for_deployment(aci_service, show_output = TRUE)"
   ]
  },
  {
   "cell_type": "markdown",
   "metadata": {},
   "source": [
    "If you encounter any issue in deploying the web service, please visit the [troubleshooting guide](https://docs.microsoft.com/en-us/azure/machine-learning/service/how-to-troubleshoot-deployment).\n",
    "\n",
    "## Test the deployed service\n",
    "\n",
    "Now that your model is deployed as a service, you can test the service from R using [`invoke_webservice()`](https://azure.github.io/azureml-sdk-for-r/reference/invoke_webservice.html).  Provide a new set of data to predict from, convert it to JSON, and send it to the service."
   ]
  },
  {
   "cell_type": "code",
   "execution_count": null,
   "metadata": {
    "eval": false,
    "name": "test_deployment"
   },
   "outputs": [],
   "source": [
    "library(jsonlite)\n",
    "\n",
    "newdata <- data.frame( # valid values shown below\n",
    " dvcat=\"10-24\",        # \"1-9km/h\" \"10-24\"   \"25-39\"   \"40-54\"   \"55+\"  \n",
    " seatbelt=\"none\",      # \"none\"   \"belted\"  \n",
    " frontal=\"frontal\",    # \"notfrontal\" \"frontal\"\n",
    " sex=\"f\",              # \"f\" \"m\"\n",
    " ageOFocc=22,          # age in years, 16-97\n",
    " yearVeh=2002,         # year of vehicle, 1955-2003\n",
    " airbag=\"none\",        # \"none\"   \"airbag\"   \n",
    " occRole=\"pass\"        # \"driver\" \"pass\"\n",
    " )\n",
    "\n",
    "prob <- invoke_webservice(aci_service, toJSON(newdata))\n",
    "prob"
   ]
  },
  {
   "cell_type": "markdown",
   "metadata": {
    "lines_to_next_cell": 0
   },
   "source": [
    "## Clean up resources\n",
    "\n",
    "Delete the resources once you no longer need them. Don't delete any resource you plan to still use. \n",
    "\n",
    "Delete the web service:"
   ]
  },
  {
   "cell_type": "code",
   "execution_count": null,
   "metadata": {
    "eval": false,
    "name": "delete_service"
   },
   "outputs": [],
   "source": [
    "delete_webservice(aci_service)"
   ]
  },
  {
   "cell_type": "markdown",
   "metadata": {
    "lines_to_next_cell": 0
   },
   "source": [
    "Delete the registered model:"
   ]
  },
  {
   "cell_type": "code",
   "execution_count": null,
   "metadata": {
    "eval": false,
    "name": "delete_model"
   },
   "outputs": [],
   "source": [
    "delete_model(model)"
   ]
  },
  {
   "cell_type": "markdown",
   "metadata": {
    "lines_to_next_cell": 0
   },
   "source": [
    "Delete the compute cluster:"
   ]
  },
  {
   "cell_type": "code",
   "execution_count": null,
   "metadata": {
    "eval": false,
    "name": "delete_compute"
   },
   "outputs": [],
   "source": [
    "delete_compute(compute_target)"
   ]
  }
 ],
 "metadata": {
  "jupytext": {
   "cell_metadata_filter": "eval,name,-all",
   "main_language": "R",
   "notebook_metadata_filter": "-all"
  },
  "kernelspec": {
   "display_name": "R",
   "language": "R",
   "name": "ir"
  },
  "language_info": {
   "codemirror_mode": "r",
   "file_extension": ".r",
   "mimetype": "text/x-r-source",
   "name": "R",
   "pygments_lexer": "r",
   "version": "3.6.3"
  }
 },
 "nbformat": 4,
 "nbformat_minor": 4
}
