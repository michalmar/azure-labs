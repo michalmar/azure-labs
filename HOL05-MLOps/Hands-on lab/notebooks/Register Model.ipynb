{
  "cells": [
    {
      "metadata": {},
      "cell_type": "markdown",
      "source": "# Create and connect to an Azure Machine Learning Workspace\n\nRun the following cell to create a new Azure Machine Learning **Workspace**.\n\n**Important Note**: You will be prompted to login in the text that is output below the cell. Be sure to navigate to the URL displayed and enter the code that is provided. Once you have entered the code, return to this notebook and wait for the output to read `Workspace configuration succeeded`."
    },
    {
      "metadata": {
        "trusted": true
      },
      "cell_type": "code",
      "source": "from azureml.core import Workspace, Experiment, Run\n\nws = Workspace.from_config()\n\nprint('Workspace configuration succeeded')",
      "execution_count": 1,
      "outputs": [
        {
          "output_type": "stream",
          "text": "Workspace configuration succeeded\n",
          "name": "stdout"
        }
      ]
    },
    {
      "metadata": {},
      "cell_type": "markdown",
      "source": "# Get the Model Training Run\n\n**Load the run_info.json file that has the run id for the model training run**"
    },
    {
      "metadata": {
        "trusted": true
      },
      "cell_type": "code",
      "source": "import os\nimport json\n\noutput_path = './outputs'\n\nrun_info_filepath = os.path.join(output_path, 'run_info.json')\n\ntry:\n    with open(run_info_filepath) as f:\n        run_info = json.load(f)\n        print('run_info.json loaded')\n        print(run_info)\nexcept:\n    print(\"Cannot open: \", run_info_filepath)\n    print(\"Please fix output_path before proceeding!\")",
      "execution_count": 2,
      "outputs": [
        {
          "output_type": "stream",
          "text": "run_info.json loaded\n{'id': 'deep-learning_1582361152_031f08ea'}\n",
          "name": "stdout"
        }
      ]
    },
    {
      "metadata": {},
      "cell_type": "markdown",
      "source": "**Get the Run object from the run id**"
    },
    {
      "metadata": {
        "trusted": true
      },
      "cell_type": "code",
      "source": "experiment_name = 'deep-learning'\nrun = Run(Experiment(ws, experiment_name), run_info['id'])",
      "execution_count": 3,
      "outputs": []
    },
    {
      "metadata": {
        "trusted": true
      },
      "cell_type": "code",
      "source": "# alternatively get runs from Experiment\nexp = Experiment(ws, experiment_name)\nfor r in exp.get_runs():\n    print(r)\n#     print(r.id)\n#     rd = r.get_details()\n#     for k,v in rd.items():\n#         print (k,v)",
      "execution_count": 11,
      "outputs": [
        {
          "output_type": "stream",
          "text": "Run(Experiment: deep-learning,\nId: deep-learning_1582361152_031f08ea,\nType: azureml.scriptrun,\nStatus: Completed)\n",
          "name": "stdout"
        }
      ]
    },
    {
      "metadata": {},
      "cell_type": "markdown",
      "source": "# Register Model"
    },
    {
      "metadata": {},
      "cell_type": "markdown",
      "source": "**Register the Model with Azure Model Registry**"
    },
    {
      "metadata": {
        "trusted": true
      },
      "cell_type": "code",
      "source": "model_name = 'compliance-classifier'\nmodel_description = 'Deep learning model to classify the descriptions of car components as compliant or non-compliant.'\n\nmodel_run = run.register_model(model_name=model_name,  \n                               model_path=\"outputs/model/model.h5\",\n                               description=model_description,\n                               tags={\"type\": \"classification\", \"run_id\": run.id})\n\nprint(\"Model Registered: {} \\nModel Description: {} \\nModel Version: {}\".format(model_run.name, \n                                                                                model_run.description, model_run.version))",
      "execution_count": 12,
      "outputs": [
        {
          "output_type": "stream",
          "text": "Model Registered: compliance-classifier \nModel Description: Deep learning model to classify the descriptions of car components as compliant or non-compliant. \nModel Version: 1\n",
          "name": "stdout"
        }
      ]
    }
  ],
  "metadata": {
    "kernelspec": {
      "name": "python36",
      "display_name": "Python 3.6",
      "language": "python"
    },
    "language_info": {
      "mimetype": "text/x-python",
      "nbconvert_exporter": "python",
      "name": "python",
      "pygments_lexer": "ipython3",
      "version": "3.6.6",
      "file_extension": ".py",
      "codemirror_mode": {
        "version": 3,
        "name": "ipython"
      }
    }
  },
  "nbformat": 4,
  "nbformat_minor": 1
}