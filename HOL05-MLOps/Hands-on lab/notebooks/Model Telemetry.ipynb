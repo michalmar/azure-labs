{
  "cells": [
    {
      "metadata": {
        "trusted": true
      },
      "cell_type": "code",
      "source": "import azureml.core\nfrom azureml.core import Workspace\nfrom azureml.core.webservice import Webservice\nfrom azureml.core.authentication import AzureCliAuthentication\nimport requests\nimport json",
      "execution_count": 1,
      "outputs": []
    },
    {
      "metadata": {
        "trusted": true
      },
      "cell_type": "code",
      "source": "#Provide the Subscription ID of your existing Azure subscription\nsubscription_id = \"6ee947fa-0d77-4915-bf68-4a83a8bec2a4\" # <- needs to be the subscription with the Quick-Starts resource group\n\n#Provide values for the existing Resource Group \nresource_group = \"Quick-Starts-MLOps123\" # <- replace XXXXX with your unique identifier\n\n#Provide the Workspace Name and Azure Region of the Azure Machine Learning Workspace\nworkspace_name = \"quick-starts-ws-mlops123\" # <- replace XXXXX with your unique identifier\nworkspace_region = \"northeurope\" # <- region of your Quick-Starts resource group\n\n#Provide the name of the webservice\nwebservice_name = \"compliance-classifier-service\" # <- the name used by Azure DevOps pipeline\n\nwebservice_url = \"http://13.79.234.6:80/api/v1/service/compliance-classifier-service/score\" # <- the url created as a result of publication\nwebservice_key = \"LROhFagZQKYDViSDepLPpre44p0wIF0Q\" # <- the api key generated as a result of publication",
      "execution_count": 2,
      "outputs": []
    },
    {
      "metadata": {
        "trusted": true
      },
      "cell_type": "code",
      "source": "# By using the exist_ok param, if the worskpace already exists you get a reference to the existing workspace\n# allowing you to re-run this cell multiple times as desired (which is fairly common in notebooks).\nws = Workspace.create(\n    name = workspace_name,\n    subscription_id = subscription_id,\n    resource_group = resource_group, \n    location = workspace_region,\n    exist_ok = True)\n\nws.write_config()\nprint('Workspace configuration succeeded')",
      "execution_count": 3,
      "outputs": [
        {
          "output_type": "stream",
          "text": "Workspace configuration succeeded\n",
          "name": "stdout"
        }
      ]
    },
    {
      "metadata": {},
      "cell_type": "markdown",
      "source": "### Call the deployed model\n\nSince telemetry is not yet activated, no information will be recorded as a result of this call.\n\n**Note**: These calls are just used to demonstrate the telemetry functionality. We don't care here about the inputs and outputs of the deployed model."
    },
    {
      "metadata": {
        "trusted": true
      },
      "cell_type": "code",
      "source": "# This is dummy data, just to test the call\ntest_data = [[0, 0, 0, 0, 0, 0, 0, 0, 0, 0, 0, 0, 0, 0, 0, 0, 0, 0, 0, 0, 0, 0, 0, 0, 0, 0, 0, 0, 0, 0, 0, 0, 0, 0, 0, 0, 0, 0, 0, 0, 0, 0, 0, 0, 0, 0, 0, 0, 0, 0, 0, 0, 0, 0, 0, 0, 0, 0, 0, 0, 0, 0, 0, 0, 0, 0, 0, 0, 0, 0, 0, 0, 0, 0, 0, 0, 0, 0, 0, 0, 0, 0, 0, 0, 0, 0, 0, 0, 0, 0, 0, 0, 8, 2, 5, 6, 4, 3, 1, 34]]",
      "execution_count": 5,
      "outputs": []
    },
    {
      "metadata": {
        "trusted": true
      },
      "cell_type": "code",
      "source": "headers = {'Content-Type':'application/json', 'Authorization':('Bearer '+ webservice_key)}\nresponse = requests.post(webservice_url, json.dumps(test_data), headers=headers)\nprint('Predictions')\nprint(response.text)",
      "execution_count": 7,
      "outputs": [
        {
          "output_type": "stream",
          "text": "Predictions\n\"[0.0]\"\n",
          "name": "stdout"
        }
      ]
    },
    {
      "metadata": {},
      "cell_type": "markdown",
      "source": "### Activate telemetry\n\nWe are going to activate telemetry on the deployed model. Then we will make another call which will end up being logged by both Application Insights and data collection."
    },
    {
      "metadata": {
        "trusted": true
      },
      "cell_type": "code",
      "source": "web_service = Webservice(ws, webservice_name)",
      "execution_count": 8,
      "outputs": []
    },
    {
      "metadata": {
        "trusted": true
      },
      "cell_type": "code",
      "source": "web_service.update(enable_app_insights=True, collect_model_data=True)",
      "execution_count": 9,
      "outputs": []
    },
    {
      "metadata": {},
      "cell_type": "markdown",
      "source": "Make a few calls that will be collected."
    },
    {
      "metadata": {
        "trusted": true
      },
      "cell_type": "code",
      "source": "headers = {'Content-Type':'application/json', 'Authorization':('Bearer '+ webservice_key)}\nresponse = requests.post(webservice_url, json.dumps(test_data), headers=headers)\nprint('Predictions')\nprint(response.text)\n\nresponse = requests.post(webservice_url, json.dumps(test_data), headers=headers)\nprint('Predictions')\nprint(response.text)\n\nresponse = requests.post(webservice_url, json.dumps(test_data), headers=headers)\nprint('Predictions')\nprint(response.text)",
      "execution_count": null,
      "outputs": [
        {
          "output_type": "stream",
          "text": "Predictions\n\"[0.0]\"\n",
          "name": "stdout"
        }
      ]
    }
  ],
  "metadata": {
    "kernelspec": {
      "name": "python36",
      "display_name": "Python 3.6",
      "language": "python"
    },
    "language_info": {
      "mimetype": "text/x-python",
      "nbconvert_exporter": "python",
      "name": "python",
      "pygments_lexer": "ipython3",
      "version": "3.6.6",
      "file_extension": ".py",
      "codemirror_mode": {
        "version": 3,
        "name": "ipython"
      }
    }
  },
  "nbformat": 4,
  "nbformat_minor": 2
}